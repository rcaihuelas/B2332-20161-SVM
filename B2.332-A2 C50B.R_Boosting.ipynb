{
 "cells": [
  {
   "cell_type": "markdown",
   "metadata": {
    "deletable": true,
    "editable": true,
    "nbpresent": {
     "id": "ea6cb8e6-4d3d-45c8-abc9-44f65205068f"
    }
   },
   "source": [
    "<div style='float:left'>\n",
    "<img style=\"-webkit-user-select: none\" src=\"https://www.uoc.edu/portal/_resources/common/imatges/marca_UOC/marca_UOC_web.jpg\">\n",
    "<h1>\n",
    "B2.332-A2 C50B.R_Boosting\n",
    "</h1>"
   ]
  },
  {
   "cell_type": "markdown",
   "metadata": {
    "deletable": true,
    "editable": true
   },
   "source": [
    "## Descripción:"
   ]
  },
  {
   "cell_type": "markdown",
   "metadata": {
    "deletable": true,
    "editable": true
   },
   "source": [
    "### En este ejemplo se muestra como generar un árbol C5.0 con K-fold cross validation."
   ]
  },
  {
   "cell_type": "markdown",
   "metadata": {
    "deletable": true,
    "editable": true
   },
   "source": [
    "## Procedimiento:"
   ]
  },
  {
   "cell_type": "markdown",
   "metadata": {
    "deletable": true,
    "editable": true
   },
   "source": [
    "### Instalar los packages necesarios en caso de no haberlo hecho anteriormente"
   ]
  },
  {
   "cell_type": "code",
   "execution_count": 30,
   "metadata": {
    "collapsed": false,
    "deletable": true,
    "editable": true
   },
   "outputs": [],
   "source": [
    "if(!require(C50)){\n",
    "    install.packages('C50',repos='http://cran.es.r-project.org')\n",
    "    require(C50)\n",
    "}\n",
    "if(!require(plyr)){\n",
    "    install.packages('plyr',repos='http://cran.es.r-project.org')\n",
    "    require(plyr)\n",
    "}\n",
    "if(!require(gmodels)){\n",
    "    install.packages('gmodels',repos='http://cran.es.r-project.org')\n",
    "    require(gmodels)\n",
    "}\n",
    "set.seed(5813)"
   ]
  },
  {
   "cell_type": "markdown",
   "metadata": {
    "deletable": true,
    "editable": true,
    "nbpresent": {
     "id": "fafb1f54-b4ab-4c2e-bc0d-c723f2c6814d"
    }
   },
   "source": [
    "### Carga de los datos. "
   ]
  },
  {
   "cell_type": "code",
   "execution_count": 31,
   "metadata": {
    "collapsed": false,
    "deletable": true,
    "editable": true,
    "nbpresent": {
     "id": "352d9955-18b6-49b7-a343-102b723bf3cd"
    }
   },
   "outputs": [],
   "source": [
    "Alumnos_usos_sociales <-read.csv(\"B2.332_Students.csv\",comment.char = \"#\")\n"
   ]
  },
  {
   "cell_type": "markdown",
   "metadata": {
    "deletable": true,
    "editable": true
   },
   "source": [
    "### Preparamos los datos para crear el modelo."
   ]
  },
  {
   "cell_type": "code",
   "execution_count": 32,
   "metadata": {
    "collapsed": false,
    "deletable": true,
    "editable": true
   },
   "outputs": [
    {
     "data": {
      "text/plain": [
       "\n",
       "       No        Si \n",
       "0.2028571 0.7971429 "
      ]
     },
     "metadata": {},
     "output_type": "display_data"
    },
    {
     "data": {
      "text/plain": [
       "\n",
       "      No       Si \n",
       "0.255814 0.744186 "
      ]
     },
     "metadata": {},
     "output_type": "display_data"
    }
   ],
   "source": [
    "# Reordenar al azar los datos\n",
    "Alumnos_usos_sociales <- Alumnos_usos_sociales[sample(nrow(Alumnos_usos_sociales)),]\n",
    "X <- Alumnos_usos_sociales[,c(1:30,34)]\n",
    "# Asignamos a Y si supera o no el curso\n",
    "Y <- Alumnos_usos_sociales[,34]\n",
    "# conjunto de entreno\n",
    "trainX <- X[1:700,]\n",
    "# conjunto de test\n",
    "testX <- X[701:1044,]\n",
    "#Revisamos % variable clasificatoria\n",
    "prop.table(table(trainX$Supera))\n",
    "prop.table(table(testX$Supera))"
   ]
  },
  {
   "cell_type": "markdown",
   "metadata": {
    "collapsed": true,
    "deletable": true,
    "editable": true
   },
   "source": [
    "### Creamos el modelo de árbol "
   ]
  },
  {
   "cell_type": "code",
   "execution_count": 33,
   "metadata": {
    "collapsed": false,
    "deletable": true,
    "editable": true
   },
   "outputs": [
    {
     "data": {
      "text/plain": [
       "\n",
       "Call:\n",
       "C5.0.default(x = trainX[, c(1:30)], y = trainX$Supera)\n",
       "\n",
       "Classification Tree\n",
       "Number of samples: 700 \n",
       "Number of predictors: 30 \n",
       "\n",
       "Tree size: 24 \n",
       "\n",
       "Non-standard options: attempt to group attributes\n"
      ]
     },
     "metadata": {},
     "output_type": "display_data"
    },
    {
     "data": {
      "text/plain": [
       "\n",
       "Call:\n",
       "C5.0.default(x = trainX[, c(1:30)], y = trainX$Supera)\n",
       "\n",
       "\n",
       "C5.0 [Release 2.07 GPL Edition]  \tTue Apr 25 19:42:18 2017\n",
       "-------------------------------\n",
       "\n",
       "Class specified by attribute `outcome'\n",
       "\n",
       "Read 700 cases (31 attributes) from undefined.data\n",
       "\n",
       "Decision tree:\n",
       "\n",
       "failures <= 0:\n",
       ":...absences <= 13:\n",
       ":   :...higher = yes: Si (532/54)\n",
       ":   :   higher = no:\n",
       ":   :   :...activities = yes: Si (13/1)\n",
       ":   :       activities = no:\n",
       ":   :       :...famsize = GT3: Si (10/3)\n",
       ":   :           famsize = LE3: No (4)\n",
       ":   absences > 13:\n",
       ":   :...internet = no: No (2)\n",
       ":       internet = yes:\n",
       ":       :...paid = yes: No (6/1)\n",
       ":           paid = no:\n",
       ":           :...higher = no: No (4/1)\n",
       ":               higher = yes: Si (13/2)\n",
       "failures > 0:\n",
       ":...famrel <= 2: No (15/1)\n",
       "    famrel > 2:\n",
       "    :...schoolsup = yes:\n",
       "        :...goout <= 3: Si (8)\n",
       "        :   goout > 3: No (2)\n",
       "        schoolsup = no:\n",
       "        :...famsize = LE3:\n",
       "            :...school = MS: No (5/1)\n",
       "            :   school = GP:\n",
       "            :   :...address = U: Si (10)\n",
       "            :       address = R:\n",
       "            :       :...age <= 18: No (3)\n",
       "            :           age > 18: Si (2)\n",
       "            famsize = GT3:\n",
       "            :...higher = no: No (21/4)\n",
       "                higher = yes:\n",
       "                :...absences <= 2:\n",
       "                    :...internet = yes: No (15)\n",
       "                    :   internet = no:\n",
       "                    :   :...health <= 4: No (2)\n",
       "                    :       health > 4: Si (4)\n",
       "                    absences > 2:\n",
       "                    :...health <= 3: Si (11/1)\n",
       "                        health > 3:\n",
       "                        :...internet = no: Si (2)\n",
       "                            internet = yes:\n",
       "                            :...Dalc > 3: Si (3)\n",
       "                                Dalc <= 3:\n",
       "                                :...goout <= 2: Si (2)\n",
       "                                    goout > 2: No (11/1)\n",
       "\n",
       "\n",
       "Evaluation on training data (700 cases):\n",
       "\n",
       "\t    Decision Tree   \n",
       "\t  ----------------  \n",
       "\t  Size      Errors  \n",
       "\n",
       "\t    24   70(10.0%)   <<\n",
       "\n",
       "\n",
       "\t   (a)   (b)    <-classified as\n",
       "\t  ----  ----\n",
       "\t    81    61    (a): class No\n",
       "\t     9   549    (b): class Si\n",
       "\n",
       "\n",
       "\tAttribute usage:\n",
       "\n",
       "\t100.00%\tfailures\n",
       "\t 92.43%\thigher\n",
       "\t 90.57%\tabsences\n",
       "\t 16.57%\tfamrel\n",
       "\t 15.00%\tfamsize\n",
       "\t 14.43%\tschoolsup\n",
       "\t  9.14%\tinternet\n",
       "\t  5.00%\thealth\n",
       "\t  3.86%\tactivities\n",
       "\t  3.29%\tpaid\n",
       "\t  3.29%\tgoout\n",
       "\t  2.86%\tschool\n",
       "\t  2.29%\tDalc\n",
       "\t  2.14%\taddress\n",
       "\t  0.71%\tage\n",
       "\n",
       "\n",
       "Time: 0.0 secs\n"
      ]
     },
     "metadata": {},
     "output_type": "display_data"
    }
   ],
   "source": [
    "model <- C50::C5.0(trainX[,c(1:30)],trainX$Supera)\n",
    "model\n",
    "summary(model)"
   ]
  },
  {
   "cell_type": "markdown",
   "metadata": {
    "deletable": true,
    "editable": true
   },
   "source": [
    "### Revisamos la calidad de como clasifica"
   ]
  },
  {
   "cell_type": "code",
   "execution_count": 34,
   "metadata": {
    "collapsed": false,
    "deletable": true,
    "editable": true
   },
   "outputs": [
    {
     "name": "stdout",
     "output_type": "stream",
     "text": [
      "\n",
      " \n",
      "   Cell Contents\n",
      "|-------------------------|\n",
      "|                       N |\n",
      "|         N / Table Total |\n",
      "|-------------------------|\n",
      "\n",
      " \n",
      "Total Observations in Table:  344 \n",
      "\n",
      " \n",
      "              | predicted Supera \n",
      "actual Supera |        No |        Si | Row Total | \n",
      "--------------|-----------|-----------|-----------|\n",
      "           No |        18 |        70 |        88 | \n",
      "              |     0.052 |     0.203 |           | \n",
      "--------------|-----------|-----------|-----------|\n",
      "           Si |        18 |       238 |       256 | \n",
      "              |     0.052 |     0.692 |           | \n",
      "--------------|-----------|-----------|-----------|\n",
      " Column Total |        36 |       308 |       344 | \n",
      "--------------|-----------|-----------|-----------|\n",
      "\n",
      " \n"
     ]
    }
   ],
   "source": [
    "Supera_pred <- predict(model, testX)\n",
    "CrossTable(testX$Supera,Supera_pred,prop.chisq=FALSE,prop.c=FALSE,prop.r=FALSE,dnn = c('actual Supera','predicted Supera'))   \n"
   ]
  },
  {
   "cell_type": "code",
   "execution_count": 35,
   "metadata": {
    "collapsed": true,
    "deletable": true,
    "editable": true
   },
   "outputs": [],
   "source": [
    "### Generamos modelo con técnica de boosting con 10 iteraciones"
   ]
  },
  {
   "cell_type": "code",
   "execution_count": 36,
   "metadata": {
    "collapsed": false,
    "deletable": true,
    "editable": true
   },
   "outputs": [
    {
     "data": {
      "text/plain": [
       "\n",
       "Call:\n",
       "C5.0.default(x = trainX[, c(1:30)], y = trainX$Supera, trials = 10)\n",
       "\n",
       "Classification Tree\n",
       "Number of samples: 700 \n",
       "Number of predictors: 30 \n",
       "\n",
       "Number of boosting iterations: 10 \n",
       "Average tree size: 23.8 \n",
       "\n",
       "Non-standard options: attempt to group attributes\n"
      ]
     },
     "metadata": {},
     "output_type": "display_data"
    }
   ],
   "source": [
    "modelB <- C50::C5.0(trainX[,c(1:30)],trainX$Supera,trials=10)\n",
    "modelB"
   ]
  },
  {
   "cell_type": "code",
   "execution_count": 37,
   "metadata": {
    "collapsed": true,
    "deletable": true,
    "editable": true
   },
   "outputs": [],
   "source": [
    "### Revisamos la calidad de como clasifica"
   ]
  },
  {
   "cell_type": "code",
   "execution_count": 38,
   "metadata": {
    "collapsed": false,
    "deletable": true,
    "editable": true
   },
   "outputs": [
    {
     "name": "stdout",
     "output_type": "stream",
     "text": [
      "\n",
      " \n",
      "   Cell Contents\n",
      "|-------------------------|\n",
      "|                       N |\n",
      "|         N / Table Total |\n",
      "|-------------------------|\n",
      "\n",
      " \n",
      "Total Observations in Table:  344 \n",
      "\n",
      " \n",
      "              | predicted Supera \n",
      "actual Supera |        No |        Si | Row Total | \n",
      "--------------|-----------|-----------|-----------|\n",
      "           No |        26 |        62 |        88 | \n",
      "              |     0.076 |     0.180 |           | \n",
      "--------------|-----------|-----------|-----------|\n",
      "           Si |        25 |       231 |       256 | \n",
      "              |     0.073 |     0.672 |           | \n",
      "--------------|-----------|-----------|-----------|\n",
      " Column Total |        51 |       293 |       344 | \n",
      "--------------|-----------|-----------|-----------|\n",
      "\n",
      " \n"
     ]
    }
   ],
   "source": [
    "Supera_pred <- predict(modelB, testX)\n",
    "CrossTable(testX$Supera,Supera_pred,prop.chisq=FALSE,prop.c=FALSE,prop.r=FALSE,dnn = c('actual Supera','predicted Supera'))"
   ]
  },
  {
   "cell_type": "markdown",
   "metadata": {
    "deletable": true,
    "editable": true
   },
   "source": [
    "### Generamos modelo con técnica de boosting con 100 iteraciones"
   ]
  },
  {
   "cell_type": "code",
   "execution_count": 39,
   "metadata": {
    "collapsed": false,
    "deletable": true,
    "editable": true
   },
   "outputs": [
    {
     "data": {
      "text/plain": [
       "\n",
       "Call:\n",
       "C5.0.default(x = trainX[, c(1:30)], y = trainX$Supera, trials = 100)\n",
       "\n",
       "Classification Tree\n",
       "Number of samples: 700 \n",
       "Number of predictors: 30 \n",
       "\n",
       "Number of boosting iterations: 100 \n",
       "Average tree size: 26.2 \n",
       "\n",
       "Non-standard options: attempt to group attributes\n"
      ]
     },
     "metadata": {},
     "output_type": "display_data"
    }
   ],
   "source": [
    "modelB <- C50::C5.0(trainX[,c(1:30)],trainX$Supera,trials=100)\n",
    "modelB"
   ]
  },
  {
   "cell_type": "markdown",
   "metadata": {
    "deletable": true,
    "editable": true
   },
   "source": [
    "### Revisamos la calidad de como clasifica"
   ]
  },
  {
   "cell_type": "code",
   "execution_count": 40,
   "metadata": {
    "collapsed": false,
    "deletable": true,
    "editable": true
   },
   "outputs": [
    {
     "name": "stdout",
     "output_type": "stream",
     "text": [
      "\n",
      " \n",
      "   Cell Contents\n",
      "|-------------------------|\n",
      "|                       N |\n",
      "|         N / Table Total |\n",
      "|-------------------------|\n",
      "\n",
      " \n",
      "Total Observations in Table:  344 \n",
      "\n",
      " \n",
      "              | predicted Supera \n",
      "actual Supera |        No |        Si | Row Total | \n",
      "--------------|-----------|-----------|-----------|\n",
      "           No |        26 |        62 |        88 | \n",
      "              |     0.076 |     0.180 |           | \n",
      "--------------|-----------|-----------|-----------|\n",
      "           Si |        28 |       228 |       256 | \n",
      "              |     0.081 |     0.663 |           | \n",
      "--------------|-----------|-----------|-----------|\n",
      " Column Total |        54 |       290 |       344 | \n",
      "--------------|-----------|-----------|-----------|\n",
      "\n",
      " \n"
     ]
    }
   ],
   "source": [
    "Supera_pred <- predict(modelB, testX)\n",
    "CrossTable(testX$Supera,Supera_pred,prop.chisq=FALSE,prop.c=FALSE,prop.r=FALSE,dnn = c('actual Supera','predicted Supera'))"
   ]
  }
 ],
 "metadata": {
  "anaconda-cloud": {},
  "kernelspec": {
   "display_name": "R",
   "language": "R",
   "name": "ir"
  },
  "language_info": {
   "codemirror_mode": "r",
   "file_extension": ".r",
   "mimetype": "text/x-r-source",
   "name": "R",
   "pygments_lexer": "r",
   "version": "3.3.2"
  }
 },
 "nbformat": 4,
 "nbformat_minor": 1
}
