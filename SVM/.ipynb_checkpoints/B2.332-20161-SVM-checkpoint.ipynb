{
 "cells": [
  {
   "cell_type": "markdown",
   "metadata": {},
   "source": [
    "<div style='float:left'>\n",
    "<img style=\"-webkit-user-select: none\" src=\"https://www.uoc.edu/portal/_resources/common/imatges/marca_UOC/marca_UOC_web.jpg\">\n",
    "<h1>\n",
    "Práctica sobre:<br> Algoritmos de clasificación predictiva\n",
    "</h1>\n",
    "</div>\n",
    "<div style='float:right'>\n",
    "<table align=\"right\">\n",
    "<tr>\n",
    "<th></th>\n",
    "<th>Master UOC en Inteligencia de Negocio</th>\n",
    "  </tr>\n",
    "  <tr>\n",
    "   <td>Asignatura</td>\n",
    "    <td>B2.332-M3-M4 Modelos Avanzados</td>\n",
    "  </tr>\n",
    "  <tr>\n",
    "    <td>Consultor</td>\n",
    "    <td>Jordi Gironés</td>\n",
    "  </tr>\n",
    "   <tr>\n",
    "    <td>Estudiante</td>\n",
    "    <td>Nombre estudiante</td>\n",
    "  </tr>\n",
    "   <tr>\n",
    "    <td>Fecha</td>\n",
    "    <td>19/12/2016</td>\n",
    "  </tr>\n",
    "</table>\n",
    "</div>\n",
    "<div style='clear:both'></div>\n",
    "\n"
   ]
  },
  {
   "cell_type": "markdown",
   "metadata": {},
   "source": [
    "## Introducción\n",
    "\n",
    "El juego de datos a trabajar es libre, proponemos por ejemplo el siguiente:\n",
    "[Machine Learning Repository: Popularidad artículos](https://archive.ics.uci.edu/ml/datasets/Online+News+Popularity)\n",
    "\n",
    "Dicho esto y para orientar mejor la práctica hemos desarrollado un ejemplo con el siguiente juego de datos:\n",
    "[Machine Learning Repository: Incendios forestales](https://archive.ics.uci.edu/ml/machine-learning-databases/forest-fires/).\n",
    "\n",
    "Deberéis utilizar código R y los paquetes `neuralnet` y/o `e1071`.\n",
    "\n",
    "Se trata de un juego de datos en formato csv que recoje medidas ambientales de distintas zonas forestales con el objetivo de predecir el riesgo de incendio."
   ]
  },
  {
   "cell_type": "markdown",
   "metadata": {},
   "source": [
    "A nivel de resumen en la práctica llevaremos a cabo las siguientes tareas:\n",
    "   "
   ]
  },
  {
   "cell_type": "markdown",
   "metadata": {},
   "source": [
    "#### Entregable\n",
    "La práctica a entregar por parte del estudiante será este mismo documento con el siguiente índice ampliamente desarrollado:\n",
    "\n",
    "     1.  Carga de datos y tareas de preprocesado.\n",
    "     2.  Trabajar la calidad de los datos: limpieza, categorización, normalización.\n",
    "     3.  Estudiad correlaciones y generar nuevas variables si es necesario.\n",
    "     4.  Optimización de los parámetros gamma y coste\n",
    "     5.  Aplicación del algoritmo SVM radial, polinomial y sigmoidal\n",
    "     6.  Aplicación del algoritmo Redes Neuronales con diferentes combinaciones de capas y neuronas.\n",
    "     7.  Mejora del juego de datos mediante los algoritmos PCA y SVD estudiados en la PEC1.\n",
    "     8.  Aplicar de nuevo SVM y Redes Neuronales y verificar si se han producido mejoras.\n",
    "     9.  Conclusiones\n",
    "    10.  Fuentes consultadas\n",
    "\n",
    "Deberá quedar explícito que se ha trabajado y entendido el material didáctico y que soys capaces de realizar tareas de laboratorio de analítica de datos con los algoritmos estudiados."
   ]
  },
  {
   "cell_type": "markdown",
   "metadata": {},
   "source": [
    "********************************************************\n",
    "### 1. Carga de datos y tareas de preprocesado\n",
    "********************************************************"
   ]
  },
  {
   "cell_type": "markdown",
   "metadata": {},
   "source": [
    "A continuación desarrollamos algunos apartados para que puedan servir al estudiante de guía. De este modo, simplemente mostramos las consideraciones mínimas que deberían ser tenidas en cuenta.\n",
    "\n",
    "Empezamos por cargar nuestro juego de datos"
   ]
  },
  {
   "cell_type": "code",
   "execution_count": 1,
   "metadata": {
    "collapsed": false
   },
   "outputs": [],
   "source": [
    "# Descargamos el juego de datos en un directorio local.\n",
    "Fires <- read.csv(file=\"B2.332-20161-SVM.csv\",header = TRUE, sep = \",\", quote = \"\\\"\", dec = \".\")"
   ]
  },
  {
   "cell_type": "markdown",
   "metadata": {},
   "source": [
    "********************************************************\n",
    "### 2. Trabajar la calidad de los datos: limpieza, categorización, normalización.\n",
    "********************************************************"
   ]
  },
  {
   "cell_type": "markdown",
   "metadata": {},
   "source": [
    "###### Normalización de variables"
   ]
  },
  {
   "cell_type": "code",
   "execution_count": 2,
   "metadata": {
    "collapsed": false
   },
   "outputs": [
    {
     "data": {
      "text/plain": [
       "       X               Y           month      day           FFMC.V1       \n",
       " Min.   :1.000   Min.   :2.0   aug    :184   fri:85   Min.   :-13.033195  \n",
       " 1st Qu.:3.000   1st Qu.:4.0   sep    :172   mon:74   1st Qu.: -0.080557  \n",
       " Median :4.000   Median :4.0   mar    : 54   sat:84   Median :  0.173062  \n",
       " Mean   :4.669   Mean   :4.3   jul    : 32   sun:95   Mean   :  0.000000  \n",
       " 3rd Qu.:7.000   3rd Qu.:5.0   feb    : 20   thu:61   3rd Qu.:  0.408564  \n",
       " Max.   :9.000   Max.   :9.0   jun    : 17   tue:64   Max.   :  1.006378  \n",
       "                               (Other): 38   wed:54                       \n",
       "        DMC.V1               DC.V1               ISI.V1       \n",
       " Min.   :-1.7139480   Min.   :-2.1769998   Min.   :-1.978662  \n",
       " 1st Qu.:-0.6600260   1st Qu.:-0.4443977   1st Qu.:-0.553060  \n",
       " Median :-0.0401636   Median : 0.4686651   Median :-0.136345  \n",
       " Mean   : 0.0000000   Mean   : 0.0000000   Mean   : 0.000000  \n",
       " 3rd Qu.: 0.4922622   3rd Qu.: 0.6690148   3rd Qu.: 0.390031  \n",
       " Max.   : 2.8171361   Max.   : 1.2603892   Max.   :10.325380  \n",
       "                                                              \n",
       "       temp.V1               RH.V1              wind.V1       \n",
       " Min.   :-2.8741596   Min.   :-1.794899   Min.   :-2.0191423  \n",
       " 1st Qu.:-0.5836726   1st Qu.:-0.691786   1st Qu.:-0.7354113  \n",
       " Median : 0.0707522   Median :-0.140230   Median :-0.0098242  \n",
       " Mean   : 0.0000000   Mean   : 0.000000   Mean   : 0.0000000  \n",
       " 3rd Qu.: 0.6735120   3rd Qu.: 0.533894   3rd Qu.: 0.4925053  \n",
       " Max.   : 2.4817912   Max.   : 3.414243   Max.   : 3.0041530  \n",
       "                                                              \n",
       "       rain.V1            area        \n",
       " Min.   :-0.073197   Min.   :   0.00  \n",
       " 1st Qu.:-0.073197   1st Qu.:   0.00  \n",
       " Median :-0.073197   Median :   0.52  \n",
       " Mean   : 0.000000   Mean   :  12.85  \n",
       " 3rd Qu.:-0.073197   3rd Qu.:   6.57  \n",
       " Max.   :21.551411   Max.   :1090.84  \n",
       "                                      "
      ]
     },
     "metadata": {},
     "output_type": "display_data"
    }
   ],
   "source": [
    "# Normalizamos los datos numéricos\n",
    "Fires[,5] <- scale(as.numeric(Fires[,5]))\n",
    "Fires[,6] <- scale(as.numeric(Fires[,6]))\n",
    "Fires[,7] <- scale(as.numeric(Fires[,7]))\n",
    "Fires[,8] <- scale(as.numeric(Fires[,8]))\n",
    "Fires[,9] <- scale(as.numeric(Fires[,9]))\n",
    "Fires[,10] <- scale(as.numeric(Fires[,10]))\n",
    "Fires[,11] <- scale(as.numeric(Fires[,11]))\n",
    "Fires[,12] <- scale(as.numeric(Fires[,12]))\n",
    "Fires[,13] <- as.numeric(Fires[,13])\n",
    "\n",
    "# Visualizamos la estructura del juego de datos\n",
    "summary(Fires)"
   ]
  },
  {
   "cell_type": "code",
   "execution_count": 3,
   "metadata": {
    "collapsed": false
   },
   "outputs": [
    {
     "data": {
      "text/html": [
       "<table>\n",
       "<thead><tr><th></th><th scope=col>X</th><th scope=col>Y</th><th scope=col>month</th><th scope=col>day</th><th scope=col>FFMC</th><th scope=col>DMC</th><th scope=col>DC</th><th scope=col>ISI</th><th scope=col>temp</th><th scope=col>RH</th><th scope=col>wind</th><th scope=col>rain</th><th scope=col>area</th></tr></thead>\n",
       "<tbody>\n",
       "\t<tr><th scope=row>1</th><td>7                  </td><td>5                  </td><td>mar                </td><td>fri                </td><td>-0.805179637287312 </td><td>-1.32204513740515  </td><td>-1.82870561911413  </td><td>-0.860112528747163 </td><td>-1.84085723376575  </td><td>0.411325968567543  </td><td>1.49716437840361   </td><td>-0.0731974161662176</td><td>0                  </td></tr>\n",
       "\t<tr><th scope=row>2</th><td>7                   </td><td>4                   </td><td>oct                 </td><td>tue                 </td><td>-0.00809419453472182</td><td>-1.17839946512302   </td><td>0.488417871383908   </td><td>-0.509195101482229  </td><td>-0.153129955008254  </td><td>-0.691786268749331  </td><td>-1.74007033826863   </td><td>-0.0731974161662176 </td><td>0                   </td></tr>\n",
       "\t<tr><th scope=row>3</th><td>7                   </td><td>4                   </td><td>oct                 </td><td>sat                 </td><td>-0.00809419453472182</td><td>-1.04880608686848   </td><td>0.560172913365231   </td><td>-0.509195101482229  </td><td>-0.73866799049555   </td><td>-0.691786268749331  </td><td>-1.51681277160158   </td><td>-0.0731974161662176 </td><td>0                   </td></tr>\n",
       "\t<tr><th scope=row>4</th><td>8                   </td><td>6                   </td><td>mar                 </td><td>fri                 </td><td>0.191177166153428   </td><td>-1.21118815118742   </td><td>-1.89642947896167   </td><td>-0.00475129978888691</td><td>-1.82363552683966   </td><td>3.230390575044      </td><td>-0.0098241965989853 </td><td>0.602571586654042   </td><td>0                   </td></tr>\n",
       "\t<tr><th scope=row>5</th><td>8                  </td><td>6                  </td><td>mar                </td><td>sun                </td><td>-0.243596711711624 </td><td>-0.930142270635411 </td><td>-1.79685928025725  </td><td>0.126842735435463  </td><td>-1.28976261213065  </td><td>3.35295860141254   </td><td>-1.23774081326777  </td><td>-0.0731974161662176</td><td>0                  </td></tr>\n",
       "\t<tr><th scope=row>6</th><td>8                  </td><td>6                  </td><td>aug                </td><td>sun                </td><td>0.299870635619689  </td><td>-0.399277829592736 </td><td>-0.241629213044058 </td><td>1.24539203484244   </td><td>0.570181735887817  </td><td>-0.936922321486415 </td><td>0.771577286735693  </td><td>-0.0731974161662176</td><td>0                  </td></tr>\n",
       "</tbody>\n",
       "</table>\n"
      ],
      "text/latex": [
       "\\begin{tabular}{r|lllllllllllll}\n",
       "  & X & Y & month & day & FFMC & DMC & DC & ISI & temp & RH & wind & rain & area\\\\\n",
       "\\hline\n",
       "\t1 & 7                   & 5                   & mar                 & fri                 & -0.805179637287312  & -1.32204513740515   & -1.82870561911413   & -0.860112528747163  & -1.84085723376575   & 0.411325968567543   & 1.49716437840361    & -0.0731974161662176 & 0                  \\\\\n",
       "\t2 & 7                    & 4                    & oct                  & tue                  & -0.00809419453472182 & -1.17839946512302    & 0.488417871383908    & -0.509195101482229   & -0.153129955008254   & -0.691786268749331   & -1.74007033826863    & -0.0731974161662176  & 0                   \\\\\n",
       "\t3 & 7                    & 4                    & oct                  & sat                  & -0.00809419453472182 & -1.04880608686848    & 0.560172913365231    & -0.509195101482229   & -0.73866799049555    & -0.691786268749331   & -1.51681277160158    & -0.0731974161662176  & 0                   \\\\\n",
       "\t4 & 8                    & 6                    & mar                  & fri                  & 0.191177166153428    & -1.21118815118742    & -1.89642947896167    & -0.00475129978888691 & -1.82363552683966    & 3.230390575044       & -0.0098241965989853  & 0.602571586654042    & 0                   \\\\\n",
       "\t5 & 8                   & 6                   & mar                 & sun                 & -0.243596711711624  & -0.930142270635411  & -1.79685928025725   & 0.126842735435463   & -1.28976261213065   & 3.35295860141254    & -1.23774081326777   & -0.0731974161662176 & 0                  \\\\\n",
       "\t6 & 8                   & 6                   & aug                 & sun                 & 0.299870635619689   & -0.399277829592736  & -0.241629213044058  & 1.24539203484244    & 0.570181735887817   & -0.936922321486415  & 0.771577286735693   & -0.0731974161662176 & 0                  \\\\\n",
       "\\end{tabular}\n"
      ],
      "text/plain": [
       "  X Y month day         FFMC        DMC         DC        ISI       temp\n",
       "1 7 5   mar fri -0.805179637 -1.3220451 -1.8287056 -0.8601125 -1.8408572\n",
       "2 7 4   oct tue -0.008094195 -1.1783995  0.4884179 -0.5091951 -0.1531300\n",
       "3 7 4   oct sat -0.008094195 -1.0488061  0.5601729 -0.5091951 -0.7386680\n",
       "4 8 6   mar fri  0.191177166 -1.2111882 -1.8964295 -0.0047513 -1.8236355\n",
       "5 8 6   mar sun -0.243596712 -0.9301423 -1.7968593  0.1268427 -1.2897626\n",
       "6 8 6   aug sun  0.299870636 -0.3992778 -0.2416292  1.2453920  0.5701817\n",
       "          RH         wind        rain area\n",
       "1  0.4113260  1.497164378 -0.07319742    0\n",
       "2 -0.6917863 -1.740070338 -0.07319742    0\n",
       "3 -0.6917863 -1.516812772 -0.07319742    0\n",
       "4  3.2303906 -0.009824197  0.60257159    0\n",
       "5  3.3529586 -1.237740813 -0.07319742    0\n",
       "6 -0.9369223  0.771577287 -0.07319742    0"
      ]
     },
     "metadata": {},
     "output_type": "display_data"
    }
   ],
   "source": [
    "head(Fires)"
   ]
  },
  {
   "cell_type": "markdown",
   "metadata": {},
   "source": [
    "###### Categorización de la variable objetivo\n",
    "Nuestra variable objetivo será 'area' que se corresponde con el número de hectáreas quemadas bajo las condiciones ambientales especificadas en su entrada correspondiente.\n",
    "\n",
    "El variable area es continua y puesto que queremos realizar tareas de clasificación y no de regresión, deberemos categorizarla.\n",
    "\n",
    "Fruto de la categorización podemos optar por trabajar con solo dos grupos (incendio, no incendio) o trabajar con varios grupos (rangos de hectareas quemadas)"
   ]
  },
  {
   "cell_type": "code",
   "execution_count": 4,
   "metadata": {
    "collapsed": false
   },
   "outputs": [],
   "source": [
    "Fires2 <- Fires\n",
    "x <- Fires2[,1:12]\n",
    "\n",
    "# Opción 1: \n",
    "# 0 = No incendio ; 1 = Incendio\n",
    "Fires2[!Fires2[,13]==0,]$area <- 1\n",
    "\n",
    "# Opción 2: \n",
    "# Considerar 3 rangos por ejemplo: (-1,0] , (0,15] , (15,10000]\n",
    "# y <- cut(Fires[,13], breaks = as.numeric(c(-1,0,15,10000)))\n",
    "\n",
    "z <- factor(Fires2[,13])"
   ]
  },
  {
   "cell_type": "markdown",
   "metadata": {},
   "source": [
    "********************************************************\n",
    "### 3. Estudiad correlaciones y generar nuevas variables si es necesario.\n",
    "********************************************************"
   ]
  },
  {
   "cell_type": "code",
   "execution_count": 5,
   "metadata": {
    "collapsed": false
   },
   "outputs": [
    {
     "data": {
      "image/png": "[encoded data removed]",
      "text/plain": [
       "Plot with title \"Juego de datos inicial\""
      ]
     },
     "metadata": {},
     "output_type": "display_data"
    }
   ],
   "source": [
    "# Visualizamos nuestro juego de datos\n",
    "plot(c(min(x[,10]), max(x[,10])),c(min(x[,11]), max(x[,11])),type='n',xlab='x2',ylab='x1')\n",
    "title(main='Juego de datos inicial')\n",
    "points(x[z==\"0\",10], x[z==\"0\",11], pch = 2, col=\"blue\")\n",
    "points(x[z==\"1\",10], x[z==\"1\",11], pch = 1, col=\"red\")"
   ]
  },
  {
   "cell_type": "markdown",
   "metadata": {},
   "source": [
    "********************************************************\n",
    "### 4. Optimización de los parámetros gamma y coste\n",
    "********************************************************"
   ]
  },
  {
   "cell_type": "markdown",
   "metadata": {},
   "source": [
    "###### Separar datos de entrenamiento y datos de prueba"
   ]
  },
  {
   "cell_type": "code",
   "execution_count": 6,
   "metadata": {
    "collapsed": false
   },
   "outputs": [],
   "source": [
    "#Separamos los datos de las etiquetas\n",
    "labels <- z\n",
    "data <- x\n",
    "\n",
    "# Utilizaremos 2/3 de los datos para entrenamiento\n",
    "N=dim(data)[1]\n",
    "all=seq(1,N)\n",
    "set.seed(10)\n",
    "id.train=sort(sample(N,N*2/3));\n",
    "id.test=setdiff(all,id.train);\n",
    "\n",
    "# Generamos el conjunto de entrenamiento:\n",
    "train <- data[id.train,]\n",
    "labelsTrain <- labels[id.train]\n",
    "#nrow(train)\n",
    "\n",
    "# Generamos el conjunto de test:\n",
    "test <- data[id.test,]\n",
    "labelsTest <- labels[id.test]\n",
    "#nrow(test)\n",
    "\n",
    "# Preparamos los datos de entrenamiento\n",
    "trainFact=data.frame(train,z=as.factor(labelsTrain))\n",
    "\n",
    "\n",
    "#tuned <- tune.svm(y~., data = trainFact, gamma = 10^(-6:-1), cost = 10^(-1:2))\n",
    "#    summary(tuned)"
   ]
  },
  {
   "cell_type": "markdown",
   "metadata": {},
   "source": [
    "********************************************************\n",
    "### 5. Aplicación del algoritmo SVM radial, polinomial y sigmoidal\n",
    "********************************************************"
   ]
  },
  {
   "cell_type": "code",
   "execution_count": 7,
   "metadata": {
    "collapsed": false
   },
   "outputs": [
    {
     "name": "stderr",
     "output_type": "stream",
     "text": [
      "Loading required package: e1071\n"
     ]
    },
    {
     "data": {
      "text/plain": [
       "    real\n",
       "pred  0  1\n",
       "   0 30 26\n",
       "   1 52 65"
      ]
     },
     "metadata": {},
     "output_type": "display_data"
    }
   ],
   "source": [
    "# Cargamos en memoria la librería R a utilizar: e1071 o kernlab\n",
    "if(!require(e1071)){\n",
    "    install.packages('e1071', repos='http://cran.es.r-project.org')\n",
    "    require(e1071)\n",
    "}\n",
    "# Generamos el modelo de clasificacion SVM polinomial de grado 3\n",
    "set.seed(10)\n",
    "svm.modelo=svm(z~.,data=trainFact,kernel=\"polynomial\", degree=3, coef0=5 ,cross=5)\n",
    "\n",
    "# Aplicamos el modelo sobre los datos test\n",
    "pred1 <- predict(svm.modelo, test)\n",
    "\n",
    "# Generamos una matriz de confusion para medir el\n",
    "# grado de acierto de la prediccion\n",
    "t1 <- table(pred = pred1, real = labelsTest)\n",
    "t1"
   ]
  },
  {
   "cell_type": "code",
   "execution_count": 8,
   "metadata": {
    "collapsed": false
   },
   "outputs": [
    {
     "data": {
      "text/html": [
       "54.91"
      ],
      "text/latex": [
       "54.91"
      ],
      "text/markdown": [
       "54.91"
      ],
      "text/plain": [
       "[1] 54.91"
      ]
     },
     "metadata": {},
     "output_type": "display_data"
    }
   ],
   "source": [
    "# Obtenemos el nivel de aciertos\n",
    "round(100 * sum(diag(t1)) / sum(t1), digits = 2)"
   ]
  },
  {
   "cell_type": "code",
   "execution_count": 9,
   "metadata": {
    "collapsed": false
   },
   "outputs": [
    {
     "data": {
      "text/plain": [
       "\n",
       "Call:\n",
       "svm(formula = z ~ ., data = trainFact, kernel = \"polynomial\", degree = 3, \n",
       "    coef0 = 5, cross = 5)\n",
       "\n",
       "\n",
       "Parameters:\n",
       "   SVM-Type:  C-classification \n",
       " SVM-Kernel:  polynomial \n",
       "       cost:  1 \n",
       "     degree:  3 \n",
       "      gamma:  0.03571429 \n",
       "     coef.0:  5 \n",
       "\n",
       "Number of Support Vectors:  286\n",
       "\n",
       " ( 141 145 )\n",
       "\n",
       "\n",
       "Number of Classes:  2 \n",
       "\n",
       "Levels: \n",
       " 0 1\n",
       "\n",
       "5-fold cross-validation on training data:\n",
       "\n",
       "Total Accuracy: 53.77907 \n",
       "Single Accuracies:\n",
       " 52.94118 46.37681 59.42029 57.97101 52.17391 \n",
       "\n",
       "\n"
      ]
     },
     "metadata": {},
     "output_type": "display_data"
    }
   ],
   "source": [
    "# Resultado del modelo\n",
    "summary(svm.modelo)"
   ]
  },
  {
   "cell_type": "code",
   "execution_count": 10,
   "metadata": {
    "collapsed": false
   },
   "outputs": [
    {
     "data": {
      "image/png": "[encoded data removed]",
      "text/plain": [
       "Plot with title \"SVM classification plot\""
      ]
     },
     "metadata": {},
     "output_type": "display_data"
    }
   ],
   "source": [
    "# Visualizamos el modelo generado\n",
    "plot(svm.modelo, trainFact, wind~RH, svSymbol = 17, dataSymbol = 2)"
   ]
  },
  {
   "cell_type": "markdown",
   "metadata": {},
   "source": [
    "********************************************************\n",
    "### 6. Aplicación del algoritmo redes neuronales\n",
    "********************************************************"
   ]
  },
  {
   "cell_type": "code",
   "execution_count": 11,
   "metadata": {
    "collapsed": false
   },
   "outputs": [
    {
     "name": "stderr",
     "output_type": "stream",
     "text": [
      "Loading required package: neuralnet\n"
     ]
    }
   ],
   "source": [
    "# Cargamos en memoria la librería R a utilizar: neuralnet\n",
    "if(!require(neuralnet)){\n",
    "    install.packages('neuralnet', repos='http://cran.es.r-project.org')\n",
    "    require(neuralnet)\n",
    "}"
   ]
  },
  {
   "cell_type": "code",
   "execution_count": 12,
   "metadata": {
    "collapsed": false
   },
   "outputs": [],
   "source": [
    "#Separamos los datos de las etiquetas\n",
    "area <- z\n",
    "data <- cbind(x,area)\n",
    "\n",
    "# Utilizaremos 2/3 de los datos para entrenamiento\n",
    "N=dim(data)[1]\n",
    "all=seq(1,N)\n",
    "set.seed(10)\n",
    "id.train=sort(sample(N,N*2/3));\n",
    "id.test=setdiff(all,id.train);\n",
    "\n",
    "# Generamos el conjunto de entrenamiento:\n",
    "trainingdata <- data[id.train,5:13]\n",
    "colnames(trainingdata) <- c(\"Input1\",\"Input2\",\"Input3\",\"Input4\",\"Input5\",\"Input6\",\"Input7\",\"Input8\",\"Output\") \n",
    "trainingdata2 <- trainingdata\n",
    "trainingdata2 <- apply(trainingdata2, 2, as.numeric)\n",
    "\n",
    "#Test the neural network on some training data\n",
    "testdata <- data[id.test,5:12]\n",
    "colnames(testdata) <- c(\"Input1\",\"Input2\",\"Input3\",\"Input4\",\"Input5\",\"Input6\",\"Input7\",\"Input8\") \n",
    "testdata2 <- testdata\n",
    "testdata2 <- apply(testdata2, 2, as.numeric)\n"
   ]
  },
  {
   "cell_type": "code",
   "execution_count": null,
   "metadata": {
    "collapsed": false
   },
   "outputs": [],
   "source": [
    "# --------------------------------\n",
    "# Modelo con una capa de 2 nodos\n",
    "# --------------------------------\n",
    "set.seed(10)\n",
    "net.radial <- neuralnet(Output~Input1+Input2+Input3+Input4+Input5+Input6+Input7+Input8,data=trainingdata2, \n",
    "                        hidden=200, threshold=0.01, algorithm = \"rprop+\",\n",
    "                        err.fct = \"sse\", act.fct = \"logistic\" , \n",
    "                        linear.output = FALSE)"
   ]
  },
  {
   "cell_type": "code",
   "execution_count": null,
   "metadata": {
    "collapsed": false
   },
   "outputs": [],
   "source": [
    "# Obtenemos un resumen del nivel de precisión del modelo\n",
    "net.radial$result.matrix"
   ]
  },
  {
   "cell_type": "code",
   "execution_count": null,
   "metadata": {
    "collapsed": false
   },
   "outputs": [],
   "source": [
    "# Predicción\n",
    "net.predict <- compute(net.radial, testdata2) \n",
    "pred1 <- round(net.predict$net.result)\n",
    "\n",
    "# Generamos una matriz de confusión para medir el\n",
    "# grado de acierto de la predicción\n",
    "t2 <- table(pred = pred1, real = data[id.test,13])\n",
    "t2\n",
    "round(100 * sum(diag(t2)) / sum(t2), digits = 2)"
   ]
  },
  {
   "cell_type": "markdown",
   "metadata": {},
   "source": [
    "********************************************************\n",
    "### 7. Mejora del juego de datos mediante los algoritmos PCA y SVD estudiados en la PEC1.\n",
    "********************************************************"
   ]
  },
  {
   "cell_type": "markdown",
   "metadata": {},
   "source": [
    "********************************************************\n",
    "### 8.  Aplicar de nuevo SVM y Redes Neuronales y verificar si se han producido mejoras.\n",
    "********************************************************"
   ]
  },
  {
   "cell_type": "markdown",
   "metadata": {},
   "source": [
    "********************************************************\n",
    "### 9. Conclusiones \n",
    "********************************************************\n",
    "    7.1  Conclusiones para Máquinas de Soporte Vectorial\n",
    "    7.2  Conclusiones para Redes Neuronales\n",
    "    7.3  Comparativa de los dos algoritmos"
   ]
  },
  {
   "cell_type": "markdown",
   "metadata": {},
   "source": [
    "********************************************************\n",
    "### 10. Fuentes consultadas\n",
    "********************************************************"
   ]
  }
 ],
 "metadata": {
  "anaconda-cloud": {},
  "kernelspec": {
   "display_name": "R",
   "language": "R",
   "name": "ir"
  },
  "language_info": {
   "codemirror_mode": "r",
   "file_extension": ".r",
   "mimetype": "text/x-r-source",
   "name": "R",
   "pygments_lexer": "r",
   "version": "3.3.1"
  }
 },
 "nbformat": 4,
 "nbformat_minor": 0
}
