{
 "cells": [
  {
   "cell_type": "markdown",
   "metadata": {},
   "source": [
    "<div style='float:left'>\n",
    "<img style=\"-webkit-user-select: none\" src=\"https://www.uoc.edu/portal/_resources/common/imatges/marca_UOC/marca_UOC_web.jpg\">\n",
    "<h1>\n",
    "Práctica sobre:<br> Algoritmos de clasificación predictiva\n",
    "</h1>\n",
    "</div>\n",
    "<div style='float:right'>\n",
    "<table align=\"right\">\n",
    "<tr>\n",
    "<th></th>\n",
    "<th>Master UOC en Inteligencia de Negocio</th>\n",
    "  </tr>\n",
    "  <tr>\n",
    "   <td>Asignatura</td>\n",
    "    <td>B2.332 Modelos Avanzados</td>\n",
    "  </tr>\n",
    "  <tr>\n",
    "    <td>Consultor</td>\n",
    "    <td>Jordi Gironés</td>\n",
    "  </tr>\n",
    "   <tr>\n",
    "    <td>Estudiante</td>\n",
    "    <td>Nombre estudiante</td>\n",
    "  </tr>\n",
    "   <tr>\n",
    "    <td>Fecha</td>\n",
    "    <td>19/10/2016</td>\n",
    "  </tr>\n",
    "</table>\n",
    "</div>\n",
    "<div style='clear:both'></div>\n",
    "\n"
   ]
  },
  {
   "cell_type": "markdown",
   "metadata": {},
   "source": [
    "## Introducción\n",
    "\n",
    "El juego de datos a trabajar es libre, sin embargo para orientar mejor en la práctica proponemos el siguiente:\n",
    "[Machine Learning Repository: Incendios forestales](https://archive.ics.uci.edu/ml/machine-learning-databases/forest-fires/).\n",
    "\n",
    "Deberáis utilizar código R y los paquetes `kernlab` y/o `e1071`.\n",
    "\n",
    "Se trata de un juego de datos en formato csv que recoje medidas ambientales de distintas zonas forestales con el objetivo de predecir el riesgo de incendio."
   ]
  },
  {
   "cell_type": "markdown",
   "metadata": {},
   "source": [
    "A nivel de resumen en la práctica llevaremos a cabo las siguientes tareas:\n",
    "   "
   ]
  },
  {
   "cell_type": "markdown",
   "metadata": {},
   "source": [
    "#### Entregable\n",
    "La práctica a entregar por parte del estudiante será este mismo documento con el siguiente índice ampliamente desarrollado:\n",
    "\n",
    "    1.  Carga de datos y tareas de preprocesado\n",
    "    2.  Optimización de los parámetros gamma y coste\n",
    "    3.  Aplicación del algoritmo SVM radial, polinomial y sigmoidal\n",
    "    4.  Aplicación del algoritmo Redes Neuronales\n",
    "    5.  Conclusiones\n",
    "    6.  Fuentes consultadas\n",
    "\n",
    "Deberá quedar explícito que se ha trabajado y entendido el material didáctico y que soys capaces de realizar tareas de laboratorio de analítica de datos con los algoritmos estudiados."
   ]
  },
  {
   "cell_type": "markdown",
   "metadata": {},
   "source": [
    "********************************************************\n",
    "### 1. Carga de datos y tareas de preprocesado\n",
    "********************************************************"
   ]
  },
  {
   "cell_type": "markdown",
   "metadata": {},
   "source": [
    "Empezamos por cargar nuestro juego de datos"
   ]
  },
  {
   "cell_type": "code",
   "execution_count": 38,
   "metadata": {
    "collapsed": false
   },
   "outputs": [
    {
     "data": {
      "text/plain": [
       "       X                  Y                month      day    \n",
       " Min.   :1.000000   Min.   :2.000000   aug    :184   fri:85  \n",
       " 1st Qu.:3.000000   1st Qu.:4.000000   sep    :172   mon:74  \n",
       " Median :4.000000   Median :4.000000   mar    : 54   sat:84  \n",
       " Mean   :4.669246   Mean   :4.299807   jul    : 32   sun:95  \n",
       " 3rd Qu.:7.000000   3rd Qu.:5.000000   feb    : 20   thu:61  \n",
       " Max.   :9.000000   Max.   :9.000000   jun    : 17   tue:64  \n",
       "                                       (Other): 38   wed:54  \n",
       "         FFMC.V1                 DMC.V1                   DC.V1         \n",
       " Min.   :-13.033194952   Min.   :-1.7139480042   Min.   :-2.1769997555  \n",
       " 1st Qu.: -0.080556508   1st Qu.:-0.6600259521   1st Qu.:-0.4443976744  \n",
       " Median :  0.173061588   Median :-0.0401636489   Median : 0.4686650789  \n",
       " Mean   :  0.000000000   Mean   : 0.0000000000   Mean   : 0.0000000000  \n",
       " 3rd Qu.:  0.408564105   3rd Qu.: 0.4922621582   3rd Qu.: 0.6690148310  \n",
       " Max.   :  1.006378187   Max.   : 2.8171361367   Max.   : 1.2603892500  \n",
       "                                                                        \n",
       "         ISI.V1                 temp.V1                 RH.V1         \n",
       " Min.   :-1.978661828   Min.   :-2.8741596493   Min.   :-1.794898506  \n",
       " 1st Qu.:-0.553059780   1st Qu.:-0.5836726282   1st Qu.:-0.691786269  \n",
       " Median :-0.136345335   Median : 0.0707522350   Median :-0.140230150  \n",
       " Mean   : 0.000000000   Mean   : 0.0000000000   Mean   : 0.000000000  \n",
       " 3rd Qu.: 0.390030806   3rd Qu.: 0.6735119774   3rd Qu.: 0.533893995  \n",
       " Max.   :10.325380465   Max.   : 2.4817912047   Max.   : 3.414242615  \n",
       "                                                                      \n",
       "         wind.V1                rain.V1              area           \n",
       " Min.   :-2.0191422966   Min.   :-0.073197416   Min.   :   0.00000  \n",
       " 1st Qu.:-0.7354112883   1st Qu.:-0.073197416   1st Qu.:   0.00000  \n",
       " Median :-0.0098241966   Median :-0.073197416   Median :   0.52000  \n",
       " Mean   : 0.0000000000   Mean   : 0.000000000   Mean   :  12.84729  \n",
       " 3rd Qu.: 0.4925053284   3rd Qu.:-0.073197416   3rd Qu.:   6.57000  \n",
       " Max.   : 3.0041529534   Max.   :21.551410674   Max.   :1090.84000  \n",
       "                                                                    "
      ]
     },
     "metadata": {},
     "output_type": "display_data"
    }
   ],
   "source": [
    "# Descargamos el juego de datos en un directorio local.\n",
    "Fires <- read.csv(file=\"B2.332-20161-SVM.csv\",header = TRUE, sep = \",\", quote = \"\\\"\", dec = \".\")\n",
    "\n",
    "Fires[,5] <- scale(as.numeric(Fires[,5]))\n",
    "Fires[,6] <- scale(as.numeric(Fires[,6]))\n",
    "Fires[,7] <- scale(as.numeric(Fires[,7]))\n",
    "Fires[,8] <- scale(as.numeric(Fires[,8]))\n",
    "Fires[,9] <- scale(as.numeric(Fires[,9]))\n",
    "Fires[,10] <- scale(as.numeric(Fires[,10]))\n",
    "Fires[,11] <- scale(as.numeric(Fires[,11]))\n",
    "Fires[,12] <- scale(as.numeric(Fires[,12]))\n",
    "Fires[,13] <- as.numeric(Fires[,13])\n",
    "\n",
    "# Visualizamos la estructura del juego de datos\n",
    "summary(Fires)\n"
   ]
  },
  {
   "cell_type": "code",
   "execution_count": 39,
   "metadata": {
    "collapsed": false
   },
   "outputs": [
    {
     "data": {
      "text/html": [
       "<table>\n",
       "<thead><tr><th></th><th scope=col>X</th><th scope=col>Y</th><th scope=col>month</th><th scope=col>day</th><th scope=col>FFMC</th><th scope=col>DMC</th><th scope=col>DC</th><th scope=col>ISI</th><th scope=col>temp</th><th scope=col>RH</th><th scope=col>wind</th><th scope=col>rain</th><th scope=col>area</th></tr></thead>\n",
       "<tbody>\n",
       "\t<tr><th scope=row>1</th><td>7                  </td><td>5                  </td><td>mar                </td><td>fri                </td><td>-0.805179637287312 </td><td>-1.32204513740515  </td><td>-1.82870561911413  </td><td>-0.860112528747163 </td><td>-1.84085723376575  </td><td>0.411325968567543  </td><td>1.49716437840361   </td><td>-0.0731974161662176</td><td>0                  </td></tr>\n",
       "\t<tr><th scope=row>2</th><td>7                   </td><td>4                   </td><td>oct                 </td><td>tue                 </td><td>-0.00809419453472182</td><td>-1.17839946512302   </td><td>0.488417871383908   </td><td>-0.509195101482229  </td><td>-0.153129955008254  </td><td>-0.691786268749331  </td><td>-1.74007033826863   </td><td>-0.0731974161662176 </td><td>0                   </td></tr>\n",
       "\t<tr><th scope=row>3</th><td>7                   </td><td>4                   </td><td>oct                 </td><td>sat                 </td><td>-0.00809419453472182</td><td>-1.04880608686848   </td><td>0.560172913365231   </td><td>-0.509195101482229  </td><td>-0.73866799049555   </td><td>-0.691786268749331  </td><td>-1.51681277160158   </td><td>-0.0731974161662176 </td><td>0                   </td></tr>\n",
       "\t<tr><th scope=row>4</th><td>8                   </td><td>6                   </td><td>mar                 </td><td>fri                 </td><td>0.191177166153428   </td><td>-1.21118815118742   </td><td>-1.89642947896167   </td><td>-0.00475129978888691</td><td>-1.82363552683966   </td><td>3.230390575044      </td><td>-0.0098241965989853 </td><td>0.602571586654042   </td><td>0                   </td></tr>\n",
       "\t<tr><th scope=row>5</th><td>8                  </td><td>6                  </td><td>mar                </td><td>sun                </td><td>-0.243596711711624 </td><td>-0.930142270635411 </td><td>-1.79685928025725  </td><td>0.126842735435463  </td><td>-1.28976261213065  </td><td>3.35295860141254   </td><td>-1.23774081326777  </td><td>-0.0731974161662176</td><td>0                  </td></tr>\n",
       "\t<tr><th scope=row>6</th><td>8                  </td><td>6                  </td><td>aug                </td><td>sun                </td><td>0.299870635619689  </td><td>-0.399277829592736 </td><td>-0.241629213044058 </td><td>1.24539203484244   </td><td>0.570181735887817  </td><td>-0.936922321486415 </td><td>0.771577286735693  </td><td>-0.0731974161662176</td><td>0                  </td></tr>\n",
       "</tbody>\n",
       "</table>\n"
      ],
      "text/latex": [
       "\\begin{tabular}{r|lllllllllllll}\n",
       "  & X & Y & month & day & FFMC & DMC & DC & ISI & temp & RH & wind & rain & area\\\\\n",
       "\\hline\n",
       "\t1 & 7                   & 5                   & mar                 & fri                 & -0.805179637287312  & -1.32204513740515   & -1.82870561911413   & -0.860112528747163  & -1.84085723376575   & 0.411325968567543   & 1.49716437840361    & -0.0731974161662176 & 0                  \\\\\n",
       "\t2 & 7                    & 4                    & oct                  & tue                  & -0.00809419453472182 & -1.17839946512302    & 0.488417871383908    & -0.509195101482229   & -0.153129955008254   & -0.691786268749331   & -1.74007033826863    & -0.0731974161662176  & 0                   \\\\\n",
       "\t3 & 7                    & 4                    & oct                  & sat                  & -0.00809419453472182 & -1.04880608686848    & 0.560172913365231    & -0.509195101482229   & -0.73866799049555    & -0.691786268749331   & -1.51681277160158    & -0.0731974161662176  & 0                   \\\\\n",
       "\t4 & 8                    & 6                    & mar                  & fri                  & 0.191177166153428    & -1.21118815118742    & -1.89642947896167    & -0.00475129978888691 & -1.82363552683966    & 3.230390575044       & -0.0098241965989853  & 0.602571586654042    & 0                   \\\\\n",
       "\t5 & 8                   & 6                   & mar                 & sun                 & -0.243596711711624  & -0.930142270635411  & -1.79685928025725   & 0.126842735435463   & -1.28976261213065   & 3.35295860141254    & -1.23774081326777   & -0.0731974161662176 & 0                  \\\\\n",
       "\t6 & 8                   & 6                   & aug                 & sun                 & 0.299870635619689   & -0.399277829592736  & -0.241629213044058  & 1.24539203484244    & 0.570181735887817   & -0.936922321486415  & 0.771577286735693   & -0.0731974161662176 & 0                  \\\\\n",
       "\\end{tabular}\n"
      ],
      "text/plain": [
       "  X Y month day            FFMC           DMC            DC             ISI\n",
       "1 7 5   mar fri -0.805179637287 -1.3220451374 -1.8287056191 -0.860112528747\n",
       "2 7 4   oct tue -0.008094194535 -1.1783994651  0.4884178714 -0.509195101482\n",
       "3 7 4   oct sat -0.008094194535 -1.0488060869  0.5601729134 -0.509195101482\n",
       "4 8 6   mar fri  0.191177166153 -1.2111881512 -1.8964294790 -0.004751299789\n",
       "5 8 6   mar sun -0.243596711712 -0.9301422706 -1.7968592803  0.126842735435\n",
       "6 8 6   aug sun  0.299870635620 -0.3992778296 -0.2416292130  1.245392034842\n",
       "           temp            RH            wind           rain area\n",
       "1 -1.8408572338  0.4113259686  1.497164378404 -0.07319741617    0\n",
       "2 -0.1531299550 -0.6917862687 -1.740070338269 -0.07319741617    0\n",
       "3 -0.7386679905 -0.6917862687 -1.516812771602 -0.07319741617    0\n",
       "4 -1.8236355268  3.2303905750 -0.009824196599  0.60257158665    0\n",
       "5 -1.2897626121  3.3529586014 -1.237740813268 -0.07319741617    0\n",
       "6  0.5701817359 -0.9369223215  0.771577286736 -0.07319741617    0"
      ]
     },
     "metadata": {},
     "output_type": "display_data"
    }
   ],
   "source": [
    "head(Fires)"
   ]
  },
  {
   "cell_type": "markdown",
   "metadata": {},
   "source": [
    "###### Categorización de la variable objetivo\n",
    "Nuestra variable objetivo será 'area' que se corresponde con el número de hectáreas quemadas bajo las condiciones ambientales especificadas en su entrada correspondiente.\n",
    "\n",
    "El variable area es continua y puesto que queremos realizar tareas de clasificación y no de regresión, deberemos categorizarla.\n",
    "\n",
    "Fruto de la categorización podemos optar por trabajar con solo dos grupos (incendio, no incendio) o trabajar con varios grupos (rangos de hectareas quemadas)"
   ]
  },
  {
   "cell_type": "code",
   "execution_count": 40,
   "metadata": {
    "collapsed": false
   },
   "outputs": [],
   "source": [
    "Fires2 <- Fires\n",
    "x <- Fires2[,1:12]\n",
    "\n",
    "# Opción 1: \n",
    "# 0 = No incendio ; 1 = Incendio\n",
    "Fires2[!Fires2[,13]==0,]$area <- 1\n",
    "\n",
    "# Opción 2: \n",
    "# Considerar 3 rangos por ejemplo: (-1,0] , (0,15] , (15,10000]\n",
    "# y <- cut(Fires[,13], breaks = as.numeric(c(-1,0,15,10000)))\n",
    "\n",
    "z <- factor(Fires2[,13])"
   ]
  },
  {
   "cell_type": "code",
   "execution_count": 41,
   "metadata": {
    "collapsed": false
   },
   "outputs": [],
   "source": [
    "# Cargamos en memoria la librería R a utilizar: e1071 o kernlab\n",
    "if(!require(e1071)){\n",
    "    install.packages('e1071', repos='http://cran.es.r-project.org')\n",
    "    require(e1071)\n",
    "}"
   ]
  },
  {
   "cell_type": "code",
   "execution_count": 42,
   "metadata": {
    "collapsed": false
   },
   "outputs": [
    {
     "data": {
      "image/png": "[encoded data removed]",
      "text/plain": [
       "Plot with title \"Juego de datos inicial\""
      ]
     },
     "metadata": {},
     "output_type": "display_data"
    }
   ],
   "source": [
    "# Visualizamos nuestro juego de datos\n",
    "plot(c(min(x[,10]), max(x[,10])),c(min(x[,11]), max(x[,11])),type='n',xlab='x2',ylab='x1')\n",
    "title(main='Juego de datos inicial')\n",
    "points(x[z==\"0\",10], x[z==\"0\",11], pch = 2, col=\"blue\")\n",
    "points(x[z==\"1\",10], x[z==\"1\",11], pch = 1, col=\"red\")"
   ]
  },
  {
   "cell_type": "markdown",
   "metadata": {},
   "source": [
    "###### Separar datos de entrenamiento y datos de prueba"
   ]
  },
  {
   "cell_type": "code",
   "execution_count": 43,
   "metadata": {
    "collapsed": false
   },
   "outputs": [],
   "source": [
    "set.seed(1)\n",
    "#Separamos los datos de las etiquetas\n",
    "labels <- z\n",
    "data <- x\n",
    "\n",
    "# Utilizaremos 2/3 de los datos para entrenamiento\n",
    "N=dim(data)[1]\n",
    "all=seq(1,N)\n",
    "id.train=sort(sample(N,N*2/3));\n",
    "id.test=setdiff(all,id.train);\n",
    "\n",
    "# Generamos el conjunto de entrenamiento:\n",
    "train <- data[id.train,]\n",
    "labelsTrain <- labels[id.train]\n",
    "#nrow(train)\n",
    "\n",
    "# Generamos el conjunto de test:\n",
    "test <- data[id.test,]\n",
    "labelsTest <- labels[id.test]\n",
    "#nrow(test)\n",
    "\n",
    "# Preparamos los datos de entrenamiento\n",
    "trainFact=data.frame(train,z=as.factor(labelsTrain))"
   ]
  },
  {
   "cell_type": "markdown",
   "metadata": {},
   "source": [
    "********************************************************\n",
    "### 2. Optimización de los parámetros gamma y coste\n",
    "********************************************************"
   ]
  },
  {
   "cell_type": "code",
   "execution_count": 44,
   "metadata": {
    "collapsed": false
   },
   "outputs": [
    {
     "data": {
      "text/plain": [
       "       X                  Y                month      day    \n",
       " Min.   :1.000000   Min.   :2.000000   aug    :119   fri:60  \n",
       " 1st Qu.:3.000000   1st Qu.:4.000000   sep    :112   mon:51  \n",
       " Median :4.000000   Median :4.000000   mar    : 40   sat:53  \n",
       " Mean   :4.601744   Mean   :4.287791   jul    : 23   sun:59  \n",
       " 3rd Qu.:6.000000   3rd Qu.:5.000000   jun    : 16   thu:44  \n",
       " Max.   :9.000000   Max.   :9.000000   feb    : 11   tue:38  \n",
       "                                       (Other): 23   wed:39  \n",
       "        FFMC.V1                 DMC.V1                   DC.V1         \n",
       " Min.   :-6.747089301   Min.   :-1.6842820501   Min.   :-2.1769997555  \n",
       " 1st Qu.:-0.062440929   1st Qu.:-0.6233338510   1st Qu.:-0.5137340071  \n",
       " Median : 0.173061588   Median :-0.0401636489   Median : 0.4444779861  \n",
       " Mean   : 0.047832387   Mean   : 0.0118697809   Mean   :-0.0193786578  \n",
       " 3rd Qu.: 0.408564105   3rd Qu.: 0.5039724032   3rd Qu.: 0.6528901024  \n",
       " Max.   : 1.006378187   Max.   : 2.8171361367   Max.   : 1.2603892500  \n",
       "                                                                       \n",
       "         ISI.V1                 temp.V1                 RH.V1         \n",
       " Min.   :-1.890932471   Min.   :-2.8741596493   Min.   :-1.672330480  \n",
       " 1st Qu.:-0.509195101   1st Qu.:-0.6008943351   1st Qu.:-0.753070282  \n",
       " Median :-0.147311505   Median : 0.0535305281   Median :-0.232156170  \n",
       " Mean   : 0.022727881   Mean   : 0.0072722223   Mean   :-0.023541113  \n",
       " 3rd Qu.: 0.433895484   3rd Qu.: 0.6778174042   3rd Qu.: 0.533893995  \n",
       " Max.   :10.325380465   Max.   : 2.4817912047   Max.   : 3.169106562  \n",
       "                                                                      \n",
       "         wind.V1                rain.V1         z      \n",
       " Min.   :-2.0191422966   Min.   :-0.073197416   0:162  \n",
       " 1st Qu.:-0.7354112883   1st Qu.:-0.073197416   1:182  \n",
       " Median :-0.0098241966   Median :-0.073197416          \n",
       " Mean   : 0.0333346063   Mean   : 0.009309264          \n",
       " 3rd Qu.: 0.7715772867   3rd Qu.:-0.073197416          \n",
       " Max.   : 3.0041529534   Max.   :21.551410674          \n",
       "                                                       "
      ]
     },
     "metadata": {},
     "output_type": "display_data"
    }
   ],
   "source": [
    "#tuned <- tune.svm(y~., data = trainFact, gamma = 10^(-6:-1), cost = 10^(-1:2))\n",
    "#    summary(tuned)\n",
    "summary(trainFact)"
   ]
  },
  {
   "cell_type": "markdown",
   "metadata": {},
   "source": [
    "********************************************************\n",
    "### 3. Aplicación del algoritmo SVM radial, polinomial y sigmoidal\n",
    "********************************************************"
   ]
  },
  {
   "cell_type": "code",
   "execution_count": 45,
   "metadata": {
    "collapsed": false
   },
   "outputs": [
    {
     "data": {
      "text/plain": [
       "    real\n",
       "pred  0  1\n",
       "   0 41 27\n",
       "   1 44 61"
      ]
     },
     "metadata": {},
     "output_type": "display_data"
    }
   ],
   "source": [
    "# Generamos el modelo de clasificacion SVM polinomial de grado 3\n",
    "svm.modelo=svm(z~.,data=trainFact,kernel=\"polynomial\", degree=3, coef0=5 ,cross=5)\n",
    "\n",
    "# Aplicamos el modelo sobre los datos test\n",
    "pred1 <- predict(svm.modelo, test)\n",
    "\n",
    "# Generamos una matriz de confusion para medir el\n",
    "# grado de acierto de la prediccion\n",
    "t1 <- table(pred = pred1, real = labelsTest)\n",
    "t1"
   ]
  },
  {
   "cell_type": "code",
   "execution_count": 46,
   "metadata": {
    "collapsed": false
   },
   "outputs": [
    {
     "data": {
      "text/html": [
       "58.96"
      ],
      "text/latex": [
       "58.96"
      ],
      "text/markdown": [
       "58.96"
      ],
      "text/plain": [
       "[1] 58.96"
      ]
     },
     "metadata": {},
     "output_type": "display_data"
    }
   ],
   "source": [
    "round(100 * sum(diag(t1)) / sum(t1), digits = 2)"
   ]
  },
  {
   "cell_type": "code",
   "execution_count": 47,
   "metadata": {
    "collapsed": false
   },
   "outputs": [
    {
     "data": {
      "text/plain": [
       "\n",
       "Call:\n",
       "svm(formula = z ~ ., data = trainFact, kernel = \"polynomial\", degree = 3, \n",
       "    coef0 = 5, cross = 5)\n",
       "\n",
       "\n",
       "Parameters:\n",
       "   SVM-Type:  C-classification \n",
       " SVM-Kernel:  polynomial \n",
       "       cost:  1 \n",
       "     degree:  3 \n",
       "      gamma:  0.03571428571 \n",
       "     coef.0:  5 \n",
       "\n",
       "Number of Support Vectors:  284\n",
       "\n",
       " ( 137 147 )\n",
       "\n",
       "\n",
       "Number of Classes:  2 \n",
       "\n",
       "Levels: \n",
       " 0 1\n",
       "\n",
       "5-fold cross-validation on training data:\n",
       "\n",
       "Total Accuracy: 57.84883721 \n",
       "Single Accuracies:\n",
       " 55.88235294 62.31884058 60.86956522 59.42028986 50.72463768 \n",
       "\n",
       "\n"
      ]
     },
     "metadata": {},
     "output_type": "display_data"
    }
   ],
   "source": [
    "# Resultado del modelo\n",
    "summary(svm.modelo)"
   ]
  },
  {
   "cell_type": "code",
   "execution_count": 48,
   "metadata": {
    "collapsed": false
   },
   "outputs": [
    {
     "data": {
      "image/png": "[encoded data removed]",
      "text/plain": [
       "Plot with title \"SVM classification plot\""
      ]
     },
     "metadata": {},
     "output_type": "display_data"
    }
   ],
   "source": [
    "# Visualizamos el modelo generado\n",
    "plot(svm.modelo, trainFact, wind~RH, svSymbol = 17, dataSymbol = 2)"
   ]
  },
  {
   "cell_type": "markdown",
   "metadata": {},
   "source": [
    "********************************************************\n",
    "### 4. Aplicación del algoritmo redes neuronales\n",
    "********************************************************"
   ]
  },
  {
   "cell_type": "code",
   "execution_count": 59,
   "metadata": {
    "collapsed": false
   },
   "outputs": [],
   "source": [
    "# Cargamos en memoria la librería R a utilizar: neuralnet\n",
    "if(!require(neuralnet)){\n",
    "    install.packages('neuralnet', repos='http://cran.es.r-project.org')\n",
    "    require(neuralnet)\n",
    "}"
   ]
  },
  {
   "cell_type": "code",
   "execution_count": 64,
   "metadata": {
    "collapsed": false
   },
   "outputs": [],
   "source": [
    "#Separamos los datos de las etiquetas\n",
    "area <- z\n",
    "data <- cbind(x,area)\n",
    "\n",
    "# Utilizaremos 2/3 de los datos para entrenamiento\n",
    "N=dim(data)[1]\n",
    "all=seq(1,N)\n",
    "set.seed(10)\n",
    "id.train=sort(sample(N,N*2/3));\n",
    "id.test=setdiff(all,id.train);\n",
    "\n",
    "# Generamos el conjunto de entrenamiento:\n",
    "trainingdata <- data[id.train,5:13]\n",
    "colnames(trainingdata) <- c(\"Input1\",\"Input2\",\"Input3\",\"Input4\",\"Input5\",\"Input6\",\"Input7\",\"Input8\",\"Output\") \n",
    "trainingdata2 <- trainingdata\n",
    "trainingdata2 <- apply(trainingdata2, 2, as.numeric)\n",
    "\n",
    "#Test the neural network on some training data\n",
    "testdata <- data[id.test,5:12]\n",
    "colnames(testdata) <- c(\"Input1\",\"Input2\",\"Input3\",\"Input4\",\"Input5\",\"Input6\",\"Input7\",\"Input8\") \n",
    "testdata2 <- testdata\n",
    "testdata2 <- apply(testdata2, 2, as.numeric)\n"
   ]
  },
  {
   "cell_type": "code",
   "execution_count": 56,
   "metadata": {
    "collapsed": false
   },
   "outputs": [],
   "source": [
    "# --------------------------------\n",
    "# Modelo con una capa de 2 nodos\n",
    "# --------------------------------\n",
    "set.seed(10)\n",
    "net.radial <- neuralnet(Output~Input1+Input2+Input3+Input4+Input5+Input6+Input7+Input8,data=trainingdata2, \n",
    "                        hidden=200, threshold=0.01, algorithm = \"rprop+\",\n",
    "                        err.fct = \"sse\", act.fct = \"logistic\" , \n",
    "                        linear.output = FALSE)"
   ]
  },
  {
   "cell_type": "code",
   "execution_count": 58,
   "metadata": {
    "collapsed": false
   },
   "outputs": [
    {
     "ename": "ERROR",
     "evalue": "Error in neurons[[i]] %*% weights[[i]]: argumentos no compatibles\n",
     "output_type": "error",
     "traceback": [
      "Error in neurons[[i]] %*% weights[[i]]: argumentos no compatibles\nTraceback:\n",
      "1. compute(net.radial, testdata2)"
     ]
    }
   ],
   "source": [
    "# Prediccion\n",
    "net.predict <- compute(net.radial, testdata2) \n",
    "pred1 <- round(net.predict$net.result)\n",
    "\n",
    "# Generamos una matriz de confusion para medir el\n",
    "# grado de acierto de la prediccion\n",
    "t2 <- table(pred = pred1, real = data[id.test,13])\n",
    "t2\n",
    "round(100 * sum(diag(t2)) / sum(t2), digits = 2)"
   ]
  },
  {
   "cell_type": "markdown",
   "metadata": {},
   "source": [
    "********************************************************\n",
    "### 5. Conclusiones \n",
    "********************************************************\n",
    "    5.1  Conclusiones para Máquinas de Soporte Vectorial\n",
    "    5.2  Conclusiones para Redes Neuronales\n",
    "    5.3  Comparativa de los dos algoritmos"
   ]
  },
  {
   "cell_type": "markdown",
   "metadata": {},
   "source": [
    "********************************************************\n",
    "### 5. Fuentes consultadas\n",
    "********************************************************\n"
   ]
  }
 ],
 "metadata": {
  "anaconda-cloud": {},
  "kernelspec": {
   "display_name": "R",
   "language": "R",
   "name": "ir"
  },
  "language_info": {
   "codemirror_mode": "r",
   "file_extension": ".r",
   "mimetype": "text/x-r-source",
   "name": "R",
   "pygments_lexer": "r",
   "version": "3.3.1"
  }
 },
 "nbformat": 4,
 "nbformat_minor": 0
}
