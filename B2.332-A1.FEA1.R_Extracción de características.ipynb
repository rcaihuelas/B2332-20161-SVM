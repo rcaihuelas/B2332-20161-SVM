{
 "cells": [
  {
   "cell_type": "markdown",
   "metadata": {
    "deletable": true,
    "editable": true
   },
   "source": [
    "<div style='float:left'>\n",
    "<img style=\"-webkit-user-select: none\" src=\"https://www.uoc.edu/portal/_resources/common/imatges/marca_UOC/marca_UOC_web.jpg\">\n",
    "<h1>\n",
    "B2.332-A1.Features\n",
    "</h1>\n"
   ]
  },
  {
   "cell_type": "markdown",
   "metadata": {
    "deletable": true,
    "editable": true
   },
   "source": [
    "## Procedimiento"
   ]
  },
  {
   "cell_type": "markdown",
   "metadata": {
    "deletable": true,
    "editable": true
   },
   "source": [
    "### Cargamos y/o instalamos las librerias necesarios"
   ]
  },
  {
   "cell_type": "code",
   "execution_count": 1,
   "metadata": {
    "collapsed": false,
    "deletable": true,
    "editable": true
   },
   "outputs": [
    {
     "name": "stderr",
     "output_type": "stream",
     "text": [
      "Loading required package: mlbench\n",
      "Warning message:\n",
      "\"package 'mlbench' was built under R version 3.3.3\"Loading required package: caret\n",
      "Loading required package: lattice\n",
      "Loading required package: ggplot2\n",
      "Warning message:\n",
      "\"package 'ggplot2' was built under R version 3.3.3\"Loading required package: corrplot\n",
      "Loading required package: class\n"
     ]
    }
   ],
   "source": [
    "if(!require(mlbench)){\n",
    "    install.packages('mlbench',dependencies =c(\"Depends\", \"Imports\"),repos='http://cran.es.r-project.org')\n",
    "    require(mlbench)\n",
    "}\n",
    "if(!require(caret)){\n",
    "    install.packages('caret',dependencies =c(\"Depends\", \"Imports\"),repos='http://cran.es.r-project.org')\n",
    "    require(caret)\n",
    "}\n",
    "if(!require(lattice)){\n",
    "    install.packages('lattice',dependencies =c(\"Depends\", \"Imports\"),repos='http://cran.es.r-project.org')\n",
    "    require(lattice)\n",
    "}\n",
    "if(!require(corrplot)){\n",
    "    install.packages('corrplot',dependencies =c(\"Depends\", \"Imports\"),repos='http://cran.es.r-project.org')\n",
    "    require(corrplot)\n",
    "}\n",
    "if(!require(ggplot2)){\n",
    "    install.packages('ggplot2',dependencies =c(\"Depends\", \"Imports\"),repos='http://cran.es.r-project.org')\n",
    "    require(ggplot2)\n",
    "}\n",
    "if(!require(class)){\n",
    "    install.packages('class',dependencies =c(\"Depends\", \"Imports\"),repos='http://cran.es.r-project.org')\n",
    "    require(class)\n",
    "}"
   ]
  },
  {
   "cell_type": "markdown",
   "metadata": {
    "deletable": true,
    "editable": true
   },
   "source": [
    "### Cargamos los datos de un directorio local."
   ]
  },
  {
   "cell_type": "code",
   "execution_count": 2,
   "metadata": {
    "collapsed": false,
    "deletable": true,
    "editable": true
   },
   "outputs": [],
   "source": [
    "Alumnos_usos_sociales <- read.csv(\"B2.332_Students.csv\", comment.char=\"#\")"
   ]
  },
  {
   "cell_type": "markdown",
   "metadata": {
    "deletable": true,
    "editable": true
   },
   "source": [
    "### Busqueda de correlaciones entre variables"
   ]
  },
  {
   "cell_type": "code",
   "execution_count": 3,
   "metadata": {
    "collapsed": false,
    "deletable": true,
    "editable": true,
    "scrolled": false
   },
   "outputs": [
    {
     "data": {
      "text/html": [
       "<table>\n",
       "<thead><tr><th scope=col>age</th><th scope=col>failures</th><th scope=col>famrel</th><th scope=col>freetime</th><th scope=col>goout</th><th scope=col>Dalc</th><th scope=col>Walc</th><th scope=col>health</th><th scope=col>absences</th><th scope=col>G1</th><th scope=col>G2</th><th scope=col>G3</th></tr></thead>\n",
       "<tbody>\n",
       "\t<tr><td>18</td><td>0 </td><td>4 </td><td>3 </td><td>4 </td><td>1 </td><td>1 </td><td>3 </td><td>4 </td><td> 0</td><td>11</td><td>11</td></tr>\n",
       "\t<tr><td>17</td><td>0 </td><td>5 </td><td>3 </td><td>3 </td><td>1 </td><td>1 </td><td>3 </td><td>2 </td><td> 9</td><td>11</td><td>11</td></tr>\n",
       "\t<tr><td>15</td><td>0 </td><td>4 </td><td>3 </td><td>2 </td><td>2 </td><td>3 </td><td>3 </td><td>6 </td><td>12</td><td>13</td><td>12</td></tr>\n",
       "\t<tr><td>15</td><td>0 </td><td>3 </td><td>2 </td><td>2 </td><td>1 </td><td>1 </td><td>5 </td><td>0 </td><td>14</td><td>14</td><td>14</td></tr>\n",
       "\t<tr><td>16</td><td>0 </td><td>4 </td><td>3 </td><td>2 </td><td>1 </td><td>2 </td><td>5 </td><td>0 </td><td>11</td><td>13</td><td>13</td></tr>\n",
       "\t<tr><td>16</td><td>0 </td><td>5 </td><td>4 </td><td>2 </td><td>1 </td><td>2 </td><td>5 </td><td>6 </td><td>12</td><td>12</td><td>13</td></tr>\n",
       "</tbody>\n",
       "</table>\n"
      ],
      "text/latex": [
       "\\begin{tabular}{r|llllllllllll}\n",
       " age & failures & famrel & freetime & goout & Dalc & Walc & health & absences & G1 & G2 & G3\\\\\n",
       "\\hline\n",
       "\t 18 & 0  & 4  & 3  & 4  & 1  & 1  & 3  & 4  &  0 & 11 & 11\\\\\n",
       "\t 17 & 0  & 5  & 3  & 3  & 1  & 1  & 3  & 2  &  9 & 11 & 11\\\\\n",
       "\t 15 & 0  & 4  & 3  & 2  & 2  & 3  & 3  & 6  & 12 & 13 & 12\\\\\n",
       "\t 15 & 0  & 3  & 2  & 2  & 1  & 1  & 5  & 0  & 14 & 14 & 14\\\\\n",
       "\t 16 & 0  & 4  & 3  & 2  & 1  & 2  & 5  & 0  & 11 & 13 & 13\\\\\n",
       "\t 16 & 0  & 5  & 4  & 2  & 1  & 2  & 5  & 6  & 12 & 12 & 13\\\\\n",
       "\\end{tabular}\n"
      ],
      "text/markdown": [
       "\n",
       "age | failures | famrel | freetime | goout | Dalc | Walc | health | absences | G1 | G2 | G3 | \n",
       "|---|---|---|---|---|---|\n",
       "| 18 | 0  | 4  | 3  | 4  | 1  | 1  | 3  | 4  |  0 | 11 | 11 | \n",
       "| 17 | 0  | 5  | 3  | 3  | 1  | 1  | 3  | 2  |  9 | 11 | 11 | \n",
       "| 15 | 0  | 4  | 3  | 2  | 2  | 3  | 3  | 6  | 12 | 13 | 12 | \n",
       "| 15 | 0  | 3  | 2  | 2  | 1  | 1  | 5  | 0  | 14 | 14 | 14 | \n",
       "| 16 | 0  | 4  | 3  | 2  | 1  | 2  | 5  | 0  | 11 | 13 | 13 | \n",
       "| 16 | 0  | 5  | 4  | 2  | 1  | 2  | 5  | 6  | 12 | 12 | 13 | \n",
       "\n",
       "\n"
      ],
      "text/plain": [
       "  age failures famrel freetime goout Dalc Walc health absences G1 G2 G3\n",
       "1 18  0        4      3        4     1    1    3      4         0 11 11\n",
       "2 17  0        5      3        3     1    1    3      2         9 11 11\n",
       "3 15  0        4      3        2     2    3    3      6        12 13 12\n",
       "4 15  0        3      2        2     1    1    5      0        14 14 14\n",
       "5 16  0        4      3        2     1    2    5      0        11 13 13\n",
       "6 16  0        5      4        2     1    2    5      6        12 12 13"
      ]
     },
     "metadata": {},
     "output_type": "display_data"
    },
    {
     "name": "stdout",
     "output_type": "stream",
     "text": [
      "                  age    failures       famrel     freetime       goout\n",
      "age       1.000000000  0.28236357  0.007161921  0.002645147  0.11851012\n",
      "failures  0.282363566  1.00000000 -0.053676457  0.102678757  0.07468331\n",
      "famrel    0.007161921 -0.05367646  1.000000000  0.136900650  0.08061921\n",
      "freetime  0.002645147  0.10267876  0.136900650  1.000000000  0.32355575\n",
      "goout     0.118510124  0.07468331  0.080619212  0.323555753  1.00000000\n",
      "Dalc      0.133452990  0.11633579 -0.076482657  0.144979128  0.25313483\n",
      "Walc      0.098291406  0.10743159 -0.100663375  0.130377028  0.39979373\n",
      "health   -0.029129265  0.04831102  0.104100776  0.081517225 -0.01373623\n",
      "absences  0.153195647  0.09999785 -0.062170662 -0.032078736  0.05614214\n",
      "G1       -0.124121249 -0.37417487  0.036947274 -0.051984712 -0.10116347\n",
      "G2       -0.119474744 -0.37717218  0.042053621 -0.068951886 -0.10841089\n",
      "G3       -0.125282433 -0.38314528  0.054461059 -0.064889679 -0.09787726\n",
      "                Dalc        Walc      health    absences          G1\n",
      "age       0.13345299  0.09829141 -0.02912927  0.15319565 -0.12412125\n",
      "failures  0.11633579  0.10743159  0.04831102  0.09999785 -0.37417487\n",
      "famrel   -0.07648266 -0.10066338  0.10410078 -0.06217066  0.03694727\n",
      "freetime  0.14497913  0.13037703  0.08151722 -0.03207874 -0.05198471\n",
      "goout     0.25313483  0.39979373 -0.01373623  0.05614214 -0.10116347\n",
      "Dalc      1.00000000  0.62781384  0.06551534  0.13286713 -0.15094254\n",
      "Walc      0.62781384  1.00000000  0.10666944  0.13970313 -0.14240140\n",
      "health    0.06551534  0.10666944  1.00000000 -0.02747860 -0.06047794\n",
      "absences  0.13286713  0.13970313 -0.02747860  1.00000000 -0.09242463\n",
      "G1       -0.15094254 -0.14240140 -0.06047794 -0.09242463  1.00000000\n",
      "G2       -0.13157648 -0.12811435 -0.08800109 -0.08933169  0.85873875\n",
      "G3       -0.12964212 -0.11574000 -0.08007864 -0.04567058  0.80914172\n",
      "                  G2          G3\n",
      "age      -0.11947474 -0.12528243\n",
      "failures -0.37717218 -0.38314528\n",
      "famrel    0.04205362  0.05446106\n",
      "freetime -0.06895189 -0.06488968\n",
      "goout    -0.10841089 -0.09787726\n",
      "Dalc     -0.13157648 -0.12964212\n",
      "Walc     -0.12811435 -0.11574000\n",
      "health   -0.08800109 -0.08007864\n",
      "absences -0.08933169 -0.04567058\n",
      "G1        0.85873875  0.80914172\n",
      "G2        1.00000000  0.91074316\n",
      "G3        0.91074316  1.00000000\n",
      "[1] 11 12\n"
     ]
    },
    {
     "data": {
      "image/png": "[encoded data removed]",
      "text/plain": [
       "Plot with title \"\""
      ]
     },
     "metadata": {},
     "output_type": "display_data"
    },
    {
     "data": {
      "image/png": "[encoded data removed]",
      "text/plain": [
       "Plot with title \"\""
      ]
     },
     "metadata": {},
     "output_type": "display_data"
    }
   ],
   "source": [
    "# corr contiene las variables que queremos trabajar\n",
    "corr <- Alumnos_usos_sociales[,c(3,15,24:33)]\n",
    "head(corr)\n",
    "# Matriz de correlacion\n",
    "correlacionMatrix <- cor(corr)\n",
    "print(correlacionMatrix)\n",
    "# Variables con alta correlacion que se pueden eliminar\n",
    "MaxCorrelated <- findCorrelation(correlacionMatrix, cutoff=0.80)\n",
    "print(MaxCorrelated)\n",
    "corrplot(correlacionMatrix,order = \"hclust\")\n",
    "corrFilter <- corr[,-MaxCorrelated]\n",
    "corr.new <- cor(corrFilter)\n",
    "corrplot(corr.new, order = \"hclust\")"
   ]
  },
  {
   "cell_type": "markdown",
   "metadata": {
    "deletable": true,
    "editable": true
   },
   "source": [
    "### Extracción de variables con mayor peso al crear un modelo clasificador"
   ]
  },
  {
   "cell_type": "code",
   "execution_count": 4,
   "metadata": {
    "collapsed": false,
    "deletable": true,
    "editable": true
   },
   "outputs": [
    {
     "data": {
      "text/html": [
       "<table>\n",
       "<thead><tr><th scope=col>sex</th><th scope=col>age</th><th scope=col>failures</th><th scope=col>schoolsup</th><th scope=col>famsup</th><th scope=col>famrel</th><th scope=col>freetime</th><th scope=col>goout</th><th scope=col>Dalc</th><th scope=col>Walc</th><th scope=col>health</th><th scope=col>absences</th><th scope=col>G1</th><th scope=col>Supera</th></tr></thead>\n",
       "<tbody>\n",
       "\t<tr><td>F  </td><td>18 </td><td>0  </td><td>yes</td><td>no </td><td>4  </td><td>3  </td><td>4  </td><td>1  </td><td>1  </td><td>3  </td><td>4  </td><td> 0 </td><td>Si </td></tr>\n",
       "\t<tr><td>F  </td><td>17 </td><td>0  </td><td>no </td><td>yes</td><td>5  </td><td>3  </td><td>3  </td><td>1  </td><td>1  </td><td>3  </td><td>2  </td><td> 9 </td><td>Si </td></tr>\n",
       "\t<tr><td>F  </td><td>15 </td><td>0  </td><td>yes</td><td>no </td><td>4  </td><td>3  </td><td>2  </td><td>2  </td><td>3  </td><td>3  </td><td>6  </td><td>12 </td><td>Si </td></tr>\n",
       "\t<tr><td>F  </td><td>15 </td><td>0  </td><td>no </td><td>yes</td><td>3  </td><td>2  </td><td>2  </td><td>1  </td><td>1  </td><td>5  </td><td>0  </td><td>14 </td><td>Si </td></tr>\n",
       "\t<tr><td>F  </td><td>16 </td><td>0  </td><td>no </td><td>yes</td><td>4  </td><td>3  </td><td>2  </td><td>1  </td><td>2  </td><td>5  </td><td>0  </td><td>11 </td><td>Si </td></tr>\n",
       "\t<tr><td>M  </td><td>16 </td><td>0  </td><td>no </td><td>yes</td><td>5  </td><td>4  </td><td>2  </td><td>1  </td><td>2  </td><td>5  </td><td>6  </td><td>12 </td><td>Si </td></tr>\n",
       "</tbody>\n",
       "</table>\n"
      ],
      "text/latex": [
       "\\begin{tabular}{r|llllllllllllll}\n",
       " sex & age & failures & schoolsup & famsup & famrel & freetime & goout & Dalc & Walc & health & absences & G1 & Supera\\\\\n",
       "\\hline\n",
       "\t F   & 18  & 0   & yes & no  & 4   & 3   & 4   & 1   & 1   & 3   & 4   &  0  & Si \\\\\n",
       "\t F   & 17  & 0   & no  & yes & 5   & 3   & 3   & 1   & 1   & 3   & 2   &  9  & Si \\\\\n",
       "\t F   & 15  & 0   & yes & no  & 4   & 3   & 2   & 2   & 3   & 3   & 6   & 12  & Si \\\\\n",
       "\t F   & 15  & 0   & no  & yes & 3   & 2   & 2   & 1   & 1   & 5   & 0   & 14  & Si \\\\\n",
       "\t F   & 16  & 0   & no  & yes & 4   & 3   & 2   & 1   & 2   & 5   & 0   & 11  & Si \\\\\n",
       "\t M   & 16  & 0   & no  & yes & 5   & 4   & 2   & 1   & 2   & 5   & 6   & 12  & Si \\\\\n",
       "\\end{tabular}\n"
      ],
      "text/markdown": [
       "\n",
       "sex | age | failures | schoolsup | famsup | famrel | freetime | goout | Dalc | Walc | health | absences | G1 | Supera | \n",
       "|---|---|---|---|---|---|\n",
       "| F   | 18  | 0   | yes | no  | 4   | 3   | 4   | 1   | 1   | 3   | 4   |  0  | Si  | \n",
       "| F   | 17  | 0   | no  | yes | 5   | 3   | 3   | 1   | 1   | 3   | 2   |  9  | Si  | \n",
       "| F   | 15  | 0   | yes | no  | 4   | 3   | 2   | 2   | 3   | 3   | 6   | 12  | Si  | \n",
       "| F   | 15  | 0   | no  | yes | 3   | 2   | 2   | 1   | 1   | 5   | 0   | 14  | Si  | \n",
       "| F   | 16  | 0   | no  | yes | 4   | 3   | 2   | 1   | 2   | 5   | 0   | 11  | Si  | \n",
       "| M   | 16  | 0   | no  | yes | 5   | 4   | 2   | 1   | 2   | 5   | 6   | 12  | Si  | \n",
       "\n",
       "\n"
      ],
      "text/plain": [
       "  sex age failures schoolsup famsup famrel freetime goout Dalc Walc health\n",
       "1 F   18  0        yes       no     4      3        4     1    1    3     \n",
       "2 F   17  0        no        yes    5      3        3     1    1    3     \n",
       "3 F   15  0        yes       no     4      3        2     2    3    3     \n",
       "4 F   15  0        no        yes    3      2        2     1    1    5     \n",
       "5 F   16  0        no        yes    4      3        2     1    2    5     \n",
       "6 M   16  0        no        yes    5      4        2     1    2    5     \n",
       "  absences G1 Supera\n",
       "1 4         0 Si    \n",
       "2 2         9 Si    \n",
       "3 6        12 Si    \n",
       "4 0        14 Si    \n",
       "5 0        11 Si    \n",
       "6 6        12 Si    "
      ]
     },
     "metadata": {},
     "output_type": "display_data"
    },
    {
     "name": "stdout",
     "output_type": "stream",
     "text": [
      "ROC curve variable importance\n",
      "\n",
      "          Importance\n",
      "G1            0.9350\n",
      "famrel        0.5155\n",
      "famsup        0.4972\n",
      "schoolsup     0.4867\n",
      "sex           0.4855\n",
      "health        0.4767\n",
      "absences      0.4645\n",
      "freetime      0.4548\n",
      "Walc          0.4519\n",
      "Dalc          0.4456\n",
      "goout         0.4259\n",
      "age           0.4135\n",
      "failures      0.3267\n"
     ]
    },
    {
     "data": {},
     "metadata": {},
     "output_type": "display_data"
    },
    {
     "data": {
      "image/png": "[encoded data removed]",
      "text/plain": [
       "plot without title"
      ]
     },
     "metadata": {},
     "output_type": "display_data"
    }
   ],
   "source": [
    "# R contiene las variables que queremos trabajar\n",
    "bestfet <- Alumnos_usos_sociales[,c(2,3,15:17,24:31,34)]\n",
    "head(bestfet)\n",
    "# Parametros lvq\n",
    "control <- trainControl(method=\"repeatedcv\", number=30, repeats=10)\n",
    "# Creacion del modelo\n",
    "model <- train(Supera~., data=bestfet, method=\"lvq\", preProcess=\"scale\", trControl=control)\n",
    "# variables mas importantes \n",
    "bestfetimp <- varImp(model, scale=FALSE)\n",
    "print(bestfetimp)\n",
    "plot(bestfetimp)"
   ]
  }
 ],
 "metadata": {
  "anaconda-cloud": {},
  "kernelspec": {
   "display_name": "R",
   "language": "R",
   "name": "ir"
  },
  "language_info": {
   "codemirror_mode": "r",
   "file_extension": ".r",
   "mimetype": "text/x-r-source",
   "name": "R",
   "pygments_lexer": "r",
   "version": "3.3.2"
  }
 },
 "nbformat": 4,
 "nbformat_minor": 0
}
