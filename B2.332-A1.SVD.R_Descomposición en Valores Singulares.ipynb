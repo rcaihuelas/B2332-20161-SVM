{
 "cells": [
  {
   "cell_type": "markdown",
   "metadata": {
    "deletable": true,
    "editable": true
   },
   "source": [
    "<div style='float:left'>\n",
    "<img style=\"-webkit-user-select: none\" src=\"https://www.uoc.edu/portal/_resources/common/imatges/marca_UOC/marca_UOC_web.jpg\">\n",
    "<h1>\n",
    "B2.332-A1.Extracción Componentes Principales\n",
    "</h1>\n"
   ]
  },
  {
   "cell_type": "markdown",
   "metadata": {
    "deletable": true,
    "editable": true
   },
   "source": [
    "## Procedimiento"
   ]
  },
  {
   "cell_type": "markdown",
   "metadata": {
    "deletable": true,
    "editable": true
   },
   "source": [
    "### Cargamos y/o instalamos las librerias necesarios"
   ]
  },
  {
   "cell_type": "code",
   "execution_count": 1,
   "metadata": {
    "collapsed": false,
    "deletable": true,
    "editable": true
   },
   "outputs": [
    {
     "name": "stderr",
     "output_type": "stream",
     "text": [
      "Loading required package: devtools\n",
      "Warning message:\n",
      "\"package 'devtools' was built under R version 3.3.3\"Loading required package: ggbiplot\n",
      "Warning message:\n",
      "\"package 'ggbiplot' was built under R version 3.3.3\"Loading required package: ggplot2\n",
      "Warning message:\n",
      "\"package 'ggplot2' was built under R version 3.3.3\"Loading required package: plyr\n",
      "Loading required package: scales\n",
      "Loading required package: grid\n"
     ]
    }
   ],
   "source": [
    "if(!require(devtools)){\n",
    "    install.packages('devtools',dependencies =c(\"Depends\", \"Imports\"),repos='http://cran.es.r-project.org')\n",
    "    require(devtools)\n",
    "}\n",
    "if(!require(ggbiplot)){\n",
    "    install.packages('ggbiplot',dependencies =c(\"Depends\", \"Imports\"),repos='http://cran.es.r-project.org')\n",
    "    require(ggbiplot)\n",
    "}\n",
    "if(!require(scales)){\n",
    "    install.packages('scales',dependencies =c(\"Depends\", \"Imports\"),repos='http://cran.es.r-project.org')\n",
    "    require(scales)\n",
    "}\n",
    "if(!require(grid)){\n",
    "    install.packages('grid',dependencies =c(\"Depends\", \"Imports\"),repos='http://cran.es.r-project.org')\n",
    "    require(grid)\n",
    "}\n",
    "if(!require(plyr)){\n",
    "    install.packages('plyr',dependencies =c(\"Depends\", \"Imports\"),repos='http://cran.es.r-project.org')\n",
    "    require(plyr)\n",
    "}"
   ]
  },
  {
   "cell_type": "markdown",
   "metadata": {
    "deletable": true,
    "editable": true
   },
   "source": [
    "### Cargamos los datos de un directorio local."
   ]
  },
  {
   "cell_type": "code",
   "execution_count": 2,
   "metadata": {
    "collapsed": false,
    "deletable": true,
    "editable": true
   },
   "outputs": [
    {
     "data": {
      "text/html": [
       "<table>\n",
       "<thead><tr><th scope=col>G1</th><th scope=col>G2</th><th scope=col>G3</th><th scope=col>Supera</th></tr></thead>\n",
       "<tbody>\n",
       "\t<tr><td> 0</td><td>11</td><td>11</td><td>Si</td></tr>\n",
       "\t<tr><td> 9</td><td>11</td><td>11</td><td>Si</td></tr>\n",
       "\t<tr><td>12</td><td>13</td><td>12</td><td>Si</td></tr>\n",
       "\t<tr><td>14</td><td>14</td><td>14</td><td>Si</td></tr>\n",
       "\t<tr><td>11</td><td>13</td><td>13</td><td>Si</td></tr>\n",
       "\t<tr><td>12</td><td>12</td><td>13</td><td>Si</td></tr>\n",
       "</tbody>\n",
       "</table>\n"
      ],
      "text/latex": [
       "\\begin{tabular}{r|llll}\n",
       " G1 & G2 & G3 & Supera\\\\\n",
       "\\hline\n",
       "\t  0 & 11 & 11 & Si\\\\\n",
       "\t  9 & 11 & 11 & Si\\\\\n",
       "\t 12 & 13 & 12 & Si\\\\\n",
       "\t 14 & 14 & 14 & Si\\\\\n",
       "\t 11 & 13 & 13 & Si\\\\\n",
       "\t 12 & 12 & 13 & Si\\\\\n",
       "\\end{tabular}\n"
      ],
      "text/markdown": [
       "\n",
       "G1 | G2 | G3 | Supera | \n",
       "|---|---|---|---|---|---|\n",
       "|  0 | 11 | 11 | Si | \n",
       "|  9 | 11 | 11 | Si | \n",
       "| 12 | 13 | 12 | Si | \n",
       "| 14 | 14 | 14 | Si | \n",
       "| 11 | 13 | 13 | Si | \n",
       "| 12 | 12 | 13 | Si | \n",
       "\n",
       "\n"
      ],
      "text/plain": [
       "  G1 G2 G3 Supera\n",
       "1  0 11 11 Si    \n",
       "2  9 11 11 Si    \n",
       "3 12 13 12 Si    \n",
       "4 14 14 14 Si    \n",
       "5 11 13 13 Si    \n",
       "6 12 12 13 Si    "
      ]
     },
     "metadata": {},
     "output_type": "display_data"
    }
   ],
   "source": [
    "Alumnos_usos_sociales <- read.csv(\"B2.332_Students.csv\", comment.char=\"#\")\n",
    "# X contiene las variables que queremos trabajar\n",
    "R <- Alumnos_usos_sociales[,c(31:34)]\n",
    "head(R)"
   ]
  },
  {
   "cell_type": "markdown",
   "metadata": {
    "deletable": true,
    "editable": true
   },
   "source": [
    "### Cálculo de la Singular value decomposition y de los valores que lo caracterizan."
   ]
  },
  {
   "cell_type": "code",
   "execution_count": 3,
   "metadata": {
    "collapsed": false,
    "deletable": true,
    "editable": true,
    "scrolled": false
   },
   "outputs": [
    {
     "data": {
      "text/html": [
       "<ol class=list-inline>\n",
       "\t<li>655.825635278253</li>\n",
       "\t<li>51.340348436076</li>\n",
       "\t<li>31.5262546830164</li>\n",
       "</ol>\n"
      ],
      "text/latex": [
       "\\begin{enumerate*}\n",
       "\\item 655.825635278253\n",
       "\\item 51.340348436076\n",
       "\\item 31.5262546830164\n",
       "\\end{enumerate*}\n"
      ],
      "text/markdown": [
       "1. 655.825635278253\n",
       "2. 51.340348436076\n",
       "3. 31.5262546830164\n",
       "\n",
       "\n"
      ],
      "text/plain": [
       "[1] 655.82564  51.34035  31.52625"
      ]
     },
     "metadata": {},
     "output_type": "display_data"
    },
    {
     "data": {
      "text/html": [
       "<table>\n",
       "<tbody>\n",
       "\t<tr><td>-0.01951348 </td><td> 0.152524017</td><td>-0.130424010</td></tr>\n",
       "\t<tr><td>-0.02731492 </td><td> 0.023673988</td><td>-0.024927705</td></tr>\n",
       "\t<tr><td>-0.03256743 </td><td>-0.004733866</td><td>-0.027527862</td></tr>\n",
       "\t<tr><td>-0.03697091 </td><td>-0.006311903</td><td>-0.001888831</td></tr>\n",
       "\t<tr><td>-0.03259648 </td><td> 0.022772287</td><td>-0.025197538</td></tr>\n",
       "\t<tr><td>-0.03258524 </td><td> 0.007779281</td><td> 0.012433138</td></tr>\n",
       "</tbody>\n",
       "</table>\n"
      ],
      "text/latex": [
       "\\begin{tabular}{lll}\n",
       "\t -0.01951348  &  0.152524017 & -0.130424010\\\\\n",
       "\t -0.02731492  &  0.023673988 & -0.024927705\\\\\n",
       "\t -0.03256743  & -0.004733866 & -0.027527862\\\\\n",
       "\t -0.03697091  & -0.006311903 & -0.001888831\\\\\n",
       "\t -0.03259648  &  0.022772287 & -0.025197538\\\\\n",
       "\t -0.03258524  &  0.007779281 &  0.012433138\\\\\n",
       "\\end{tabular}\n"
      ],
      "text/markdown": [
       "\n",
       "| -0.01951348  |  0.152524017 | -0.130424010 | \n",
       "| -0.02731492  |  0.023673988 | -0.024927705 | \n",
       "| -0.03256743  | -0.004733866 | -0.027527862 | \n",
       "| -0.03697091  | -0.006311903 | -0.001888831 | \n",
       "| -0.03259648  |  0.022772287 | -0.025197538 | \n",
       "| -0.03258524  |  0.007779281 |  0.012433138 | \n",
       "\n",
       "\n"
      ],
      "text/plain": [
       "     [,1]        [,2]         [,3]        \n",
       "[1,] -0.01951348  0.152524017 -0.130424010\n",
       "[2,] -0.02731492  0.023673988 -0.024927705\n",
       "[3,] -0.03256743 -0.004733866 -0.027527862\n",
       "[4,] -0.03697091 -0.006311903 -0.001888831\n",
       "[5,] -0.03259648  0.022772287 -0.025197538\n",
       "[6,] -0.03258524  0.007779281  0.012433138"
      ]
     },
     "metadata": {},
     "output_type": "display_data"
    },
    {
     "data": {
      "text/html": [
       "<table>\n",
       "<tbody>\n",
       "\t<tr><td>-0.5684875 </td><td>-0.73502282</td><td> 0.3695448 </td></tr>\n",
       "\t<tr><td>-0.5758616 </td><td> 0.03472334</td><td>-0.8168095 </td></tr>\n",
       "\t<tr><td>-0.5875418 </td><td> 0.67715267</td><td> 0.4430112 </td></tr>\n",
       "</tbody>\n",
       "</table>\n"
      ],
      "text/latex": [
       "\\begin{tabular}{lll}\n",
       "\t -0.5684875  & -0.73502282 &  0.3695448 \\\\\n",
       "\t -0.5758616  &  0.03472334 & -0.8168095 \\\\\n",
       "\t -0.5875418  &  0.67715267 &  0.4430112 \\\\\n",
       "\\end{tabular}\n"
      ],
      "text/markdown": [
       "\n",
       "| -0.5684875  | -0.73502282 |  0.3695448  | \n",
       "| -0.5758616  |  0.03472334 | -0.8168095  | \n",
       "| -0.5875418  |  0.67715267 |  0.4430112  | \n",
       "\n",
       "\n"
      ],
      "text/plain": [
       "     [,1]       [,2]        [,3]      \n",
       "[1,] -0.5684875 -0.73502282  0.3695448\n",
       "[2,] -0.5758616  0.03472334 -0.8168095\n",
       "[3,] -0.5875418  0.67715267  0.4430112"
      ]
     },
     "metadata": {},
     "output_type": "display_data"
    }
   ],
   "source": [
    "# Generamos SVD\n",
    "R.order  <- R\n",
    "R.svd <-svd(R.order[,c(1:3)])\n",
    "\n",
    "# D, U y V\n",
    "R.svd$d\n",
    "head(R.svd$u)\n",
    "R.svd$v"
   ]
  },
  {
   "cell_type": "markdown",
   "metadata": {
    "deletable": true,
    "editable": true
   },
   "source": [
    "###  Calculo de la varianza acumulada en el primer factor"
   ]
  },
  {
   "cell_type": "code",
   "execution_count": 4,
   "metadata": {
    "collapsed": false,
    "deletable": true,
    "editable": true,
    "scrolled": true
   },
   "outputs": [
    {
     "data": {
      "text/html": [
       "738.692238397346"
      ],
      "text/latex": [
       "738.692238397346"
      ],
      "text/markdown": [
       "738.692238397346"
      ],
      "text/plain": [
       "[1] 738.6922"
      ]
     },
     "metadata": {},
     "output_type": "display_data"
    },
    {
     "data": {
      "text/html": [
       "655.825635278253"
      ],
      "text/latex": [
       "655.825635278253"
      ],
      "text/markdown": [
       "655.825635278253"
      ],
      "text/plain": [
       "[1] 655.8256"
      ]
     },
     "metadata": {},
     "output_type": "display_data"
    },
    {
     "data": {
      "text/html": [
       "0.8878198540452"
      ],
      "text/latex": [
       "0.8878198540452"
      ],
      "text/markdown": [
       "0.8878198540452"
      ],
      "text/plain": [
       "[1] 0.8878199"
      ]
     },
     "metadata": {},
     "output_type": "display_data"
    }
   ],
   "source": [
    "sum(R.svd$d)\n",
    "var=sum(R.svd$d[1])\n",
    "var\n",
    "var/sum(R.svd$d)"
   ]
  },
  {
   "cell_type": "markdown",
   "metadata": {
    "deletable": true,
    "editable": true
   },
   "source": [
    "### Porcentaje de la varianza explicada por los svd generados"
   ]
  },
  {
   "cell_type": "code",
   "execution_count": 5,
   "metadata": {
    "collapsed": false,
    "deletable": true,
    "editable": true
   },
   "outputs": [
    {
     "data": {
      "image/png": "[encoded data removed]",
      "text/plain": [
       "plot without title"
      ]
     },
     "metadata": {},
     "output_type": "display_data"
    }
   ],
   "source": [
    "plot(R.svd$d^2/sum(R.svd$d^2),type=\"l\",xlab=\"Singular vector\",ylab=\"Varianza explicada\")"
   ]
  },
  {
   "cell_type": "markdown",
   "metadata": {
    "deletable": true,
    "editable": true
   },
   "source": [
    "### Porcentaje de la varianza acumulada explicada "
   ]
  },
  {
   "cell_type": "code",
   "execution_count": 6,
   "metadata": {
    "collapsed": false,
    "deletable": true,
    "editable": true
   },
   "outputs": [
    {
     "data": {
      "image/png": "[encoded data removed]",
      "text/plain": [
       "plot without title"
      ]
     },
     "metadata": {},
     "output_type": "display_data"
    }
   ],
   "source": [
    "plot(cumsum(R.svd$d^2/sum(R.svd$d^2)),type=\"l\",xlab=\"Singular vector\",ylab=\"Varianza explicada acumulada\")"
   ]
  },
  {
   "cell_type": "markdown",
   "metadata": {
    "deletable": true,
    "editable": true
   },
   "source": [
    "### Creamos un gráfico con el primer y segundo vector asignando colores. Rojo no supera, verde supera"
   ]
  },
  {
   "cell_type": "code",
   "execution_count": 7,
   "metadata": {
    "collapsed": false,
    "deletable": true,
    "editable": true
   },
   "outputs": [
    {
     "data": {
      "image/png": "[encoded data removed]",
      "text/plain": [
       "plot without title"
      ]
     },
     "metadata": {},
     "output_type": "display_data"
    }
   ],
   "source": [
    "# Dibujamos primero todos los scores de comp2 y comp1\n",
    "Y <- R.order[,4]\n",
    "plot(R.svd$u[,1],R.svd$u[,2])\n",
    "# Asignamos rojo a no supera y verde a si supera\n",
    "points(R.svd$u[Y==\"No\",1],R.svd$u[Y==\"No\",2],col=\"red\")\n",
    "points(R.svd$u[Y==\"Si\",1],R.svd$u[Y==\"Si\",2],col=\"green\")"
   ]
  },
  {
   "cell_type": "markdown",
   "metadata": {
    "deletable": true,
    "editable": true
   },
   "source": [
    "### Reconstrucción de la imagen de los datos a partir de los SVD"
   ]
  },
  {
   "cell_type": "code",
   "execution_count": 8,
   "metadata": {
    "collapsed": false,
    "deletable": true,
    "editable": true
   },
   "outputs": [
    {
     "data": {
      "image/png": "[encoded data removed]",
      "text/plain": [
       "Plot with title \"Matriz Factor 3\""
      ]
     },
     "metadata": {},
     "output_type": "display_data"
    }
   ],
   "source": [
    "R.recon1=R.svd$u[,1]%*%diag(R.svd$d[1],length(1),length(1))%*%t(R.svd$v[,1])\n",
    "R.recon2=R.svd$u[,2]%*%diag(R.svd$d[2],length(2),length(2))%*%t(R.svd$v[,2])\n",
    "R.recon3=R.svd$u[,3]%*%diag(R.svd$d[3],length(3),length(3))%*%t(R.svd$v[,3])\n",
    "par(mfrow=c(2,2))\n",
    "image(as.matrix(R.order[,c(1:3)]),main=\"Matriz Original\")\n",
    "image(R.recon1,main=\"Matriz Factor 1\")\n",
    "image(R.recon2,main=\"Matriz Factor 2\")\n",
    "image(R.recon3,main=\"Matriz Factor 3\")"
   ]
  }
 ],
 "metadata": {
  "anaconda-cloud": {},
  "kernelspec": {
   "display_name": "R",
   "language": "R",
   "name": "ir"
  },
  "language_info": {
   "codemirror_mode": "r",
   "file_extension": ".r",
   "mimetype": "text/x-r-source",
   "name": "R",
   "pygments_lexer": "r",
   "version": "3.3.2"
  }
 },
 "nbformat": 4,
 "nbformat_minor": 0
}
