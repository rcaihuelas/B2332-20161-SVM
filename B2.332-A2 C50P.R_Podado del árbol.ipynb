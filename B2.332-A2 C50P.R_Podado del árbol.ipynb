{
 "cells": [
  {
   "cell_type": "markdown",
   "metadata": {
    "deletable": true,
    "editable": true,
    "nbpresent": {
     "id": "ea6cb8e6-4d3d-45c8-abc9-44f65205068f"
    }
   },
   "source": [
    "<div style='float:left'>\n",
    "<img style=\"-webkit-user-select: none\" src=\"https://www.uoc.edu/portal/_resources/common/imatges/marca_UOC/marca_UOC_web.jpg\">\n",
    "<h1>\n",
    "B2.332-A2 C50P.R_Podado del árbol\n",
    "</h1>"
   ]
  },
  {
   "cell_type": "markdown",
   "metadata": {
    "deletable": true,
    "editable": true
   },
   "source": [
    "## Descripción:"
   ]
  },
  {
   "cell_type": "markdown",
   "metadata": {
    "deletable": true,
    "editable": true
   },
   "source": [
    "### En este ejemplo se muestra como generar un árbol C5.0 sin y con opciones de poda."
   ]
  },
  {
   "cell_type": "markdown",
   "metadata": {
    "deletable": true,
    "editable": true
   },
   "source": [
    "## Procedimiento:"
   ]
  },
  {
   "cell_type": "markdown",
   "metadata": {
    "deletable": true,
    "editable": true
   },
   "source": [
    "### Instalar los packages necesarios en caso de no haberlo hecho anteriormente"
   ]
  },
  {
   "cell_type": "code",
   "execution_count": 30,
   "metadata": {
    "collapsed": true,
    "deletable": true,
    "editable": true
   },
   "outputs": [],
   "source": [
    "if(!require(C50)){\n",
    "    install.packages('C50',repos='http://cran.es.r-project.org')\n",
    "    require(C50)\n",
    "}\n",
    "set.seed(5813)"
   ]
  },
  {
   "cell_type": "markdown",
   "metadata": {
    "deletable": true,
    "editable": true,
    "nbpresent": {
     "id": "fafb1f54-b4ab-4c2e-bc0d-c723f2c6814d"
    }
   },
   "source": [
    "### Carga de los datos. "
   ]
  },
  {
   "cell_type": "code",
   "execution_count": 31,
   "metadata": {
    "collapsed": false,
    "deletable": true,
    "editable": true,
    "nbpresent": {
     "id": "352d9955-18b6-49b7-a343-102b723bf3cd"
    }
   },
   "outputs": [
    {
     "data": {
      "text/html": [
       "<table>\n",
       "<thead><tr><th></th><th scope=col>school</th><th scope=col>sex</th><th scope=col>age</th><th scope=col>address</th><th scope=col>famsize</th><th scope=col>Pstatus</th><th scope=col>Medu</th><th scope=col>Fedu</th><th scope=col>Mjob</th><th scope=col>Fjob</th><th scope=col>...</th><th scope=col>freetime</th><th scope=col>goout</th><th scope=col>Dalc</th><th scope=col>Walc</th><th scope=col>health</th><th scope=col>absences</th><th scope=col>G1</th><th scope=col>G2</th><th scope=col>G3</th><th scope=col>Supera</th></tr></thead>\n",
       "<tbody>\n",
       "\t<tr><th scope=row>225</th><td>GP               </td><td>F                </td><td>19               </td><td>U                </td><td>GT3              </td><td>T                </td><td>Secundaria       </td><td>Secundaria       </td><td>other            </td><td>other            </td><td>...              </td><td>3                </td><td>3                </td><td>1                </td><td>2                </td><td>3                </td><td>4                </td><td>12               </td><td>12               </td><td>12               </td><td>Si               </td></tr>\n",
       "\t<tr><th scope=row>81</th><td>GP               </td><td>M                </td><td>15               </td><td>U                </td><td>GT3              </td><td>T                </td><td>Grado_9          </td><td>Secundaria       </td><td>other            </td><td>services         </td><td>...              </td><td>2                </td><td>2                </td><td>1                </td><td>3                </td><td>3                </td><td>0                </td><td>11               </td><td>11               </td><td>12               </td><td>Si               </td></tr>\n",
       "\t<tr><th scope=row>916</th><td>GP               </td><td>M                </td><td>17               </td><td>U                </td><td>GT3              </td><td>T                </td><td>Secundaria       </td><td>Primaria_Superior</td><td>services         </td><td>other            </td><td>...              </td><td>4                </td><td>4                </td><td>3                </td><td>4                </td><td>5                </td><td>2                </td><td> 9               </td><td> 9               </td><td>10               </td><td>Si               </td></tr>\n",
       "\t<tr><th scope=row>908</th><td>GP               </td><td>M                </td><td>18               </td><td>U                </td><td>GT3              </td><td>T                </td><td>Grado_9          </td><td>Primaria_Superior</td><td>other            </td><td>other            </td><td>...              </td><td>2                </td><td>4                </td><td>1                </td><td>2                </td><td>4                </td><td>8                </td><td>15               </td><td>14               </td><td>14               </td><td>Si               </td></tr>\n",
       "\t<tr><th scope=row>211</th><td>GP               </td><td>M                </td><td>17               </td><td>U                </td><td>GT3              </td><td>T                </td><td>Superior         </td><td>Superior         </td><td>services         </td><td>teacher          </td><td>...              </td><td>2                </td><td>3                </td><td>1                </td><td>2                </td><td>5                </td><td>4                </td><td>13               </td><td>13               </td><td>14               </td><td>Si               </td></tr>\n",
       "\t<tr><th scope=row>50</th><td>GP               </td><td>F                </td><td>15               </td><td>U                </td><td>GT3              </td><td>T                </td><td>Superior         </td><td>Superior         </td><td>services         </td><td>teacher          </td><td>...              </td><td>4                </td><td>4                </td><td>1                </td><td>1                </td><td>3                </td><td>2                </td><td>13               </td><td>12               </td><td>12               </td><td>Si               </td></tr>\n",
       "</tbody>\n",
       "</table>\n"
      ],
      "text/latex": [
       "\\begin{tabular}{r|llllllllllllllllllllllllllllllllll}\n",
       "  & school & sex & age & address & famsize & Pstatus & Medu & Fedu & Mjob & Fjob & ... & freetime & goout & Dalc & Walc & health & absences & G1 & G2 & G3 & Supera\\\\\n",
       "\\hline\n",
       "\t225 & GP                & F                 & 19                & U                 & GT3               & T                 & Secundaria        & Secundaria        & other             & other             & ...               & 3                 & 3                 & 1                 & 2                 & 3                 & 4                 & 12                & 12                & 12                & Si               \\\\\n",
       "\t81 & GP                & M                 & 15                & U                 & GT3               & T                 & Grado\\_9         & Secundaria        & other             & services          & ...               & 2                 & 2                 & 1                 & 3                 & 3                 & 0                 & 11                & 11                & 12                & Si               \\\\\n",
       "\t916 & GP                  & M                   & 17                  & U                   & GT3                 & T                   & Secundaria          & Primaria\\_Superior & services            & other               & ...                 & 4                   & 4                   & 3                   & 4                   & 5                   & 2                   &  9                  &  9                  & 10                  & Si                 \\\\\n",
       "\t908 & GP                  & M                   & 18                  & U                   & GT3                 & T                   & Grado\\_9           & Primaria\\_Superior & other               & other               & ...                 & 2                   & 4                   & 1                   & 2                   & 4                   & 8                   & 15                  & 14                  & 14                  & Si                 \\\\\n",
       "\t211 & GP                & M                 & 17                & U                 & GT3               & T                 & Superior          & Superior          & services          & teacher           & ...               & 2                 & 3                 & 1                 & 2                 & 5                 & 4                 & 13                & 13                & 14                & Si               \\\\\n",
       "\t50 & GP                & F                 & 15                & U                 & GT3               & T                 & Superior          & Superior          & services          & teacher           & ...               & 4                 & 4                 & 1                 & 1                 & 3                 & 2                 & 13                & 12                & 12                & Si               \\\\\n",
       "\\end{tabular}\n"
      ],
      "text/markdown": [
       "\n",
       "| <!--/--> | school | sex | age | address | famsize | Pstatus | Medu | Fedu | Mjob | Fjob | ... | freetime | goout | Dalc | Walc | health | absences | G1 | G2 | G3 | Supera | \n",
       "|---|---|---|---|---|---|\n",
       "| 225 | GP                | F                 | 19                | U                 | GT3               | T                 | Secundaria        | Secundaria        | other             | other             | ...               | 3                 | 3                 | 1                 | 2                 | 3                 | 4                 | 12                | 12                | 12                | Si                | \n",
       "| 81 | GP                | M                 | 15                | U                 | GT3               | T                 | Grado_9           | Secundaria        | other             | services          | ...               | 2                 | 2                 | 1                 | 3                 | 3                 | 0                 | 11                | 11                | 12                | Si                | \n",
       "| 916 | GP                | M                 | 17                | U                 | GT3               | T                 | Secundaria        | Primaria_Superior | services          | other             | ...               | 4                 | 4                 | 3                 | 4                 | 5                 | 2                 |  9                |  9                | 10                | Si                | \n",
       "| 908 | GP                | M                 | 18                | U                 | GT3               | T                 | Grado_9           | Primaria_Superior | other             | other             | ...               | 2                 | 4                 | 1                 | 2                 | 4                 | 8                 | 15                | 14                | 14                | Si                | \n",
       "| 211 | GP                | M                 | 17                | U                 | GT3               | T                 | Superior          | Superior          | services          | teacher           | ...               | 2                 | 3                 | 1                 | 2                 | 5                 | 4                 | 13                | 13                | 14                | Si                | \n",
       "| 50 | GP                | F                 | 15                | U                 | GT3               | T                 | Superior          | Superior          | services          | teacher           | ...               | 4                 | 4                 | 1                 | 1                 | 3                 | 2                 | 13                | 12                | 12                | Si                | \n",
       "\n",
       "\n"
      ],
      "text/plain": [
       "    school sex age address famsize Pstatus Medu       Fedu             \n",
       "225 GP     F   19  U       GT3     T       Secundaria Secundaria       \n",
       "81  GP     M   15  U       GT3     T       Grado_9    Secundaria       \n",
       "916 GP     M   17  U       GT3     T       Secundaria Primaria_Superior\n",
       "908 GP     M   18  U       GT3     T       Grado_9    Primaria_Superior\n",
       "211 GP     M   17  U       GT3     T       Superior   Superior         \n",
       "50  GP     F   15  U       GT3     T       Superior   Superior         \n",
       "    Mjob     Fjob     ... freetime goout Dalc Walc health absences G1 G2 G3\n",
       "225 other    other    ... 3        3     1    2    3      4        12 12 12\n",
       "81  other    services ... 2        2     1    3    3      0        11 11 12\n",
       "916 services other    ... 4        4     3    4    5      2         9  9 10\n",
       "908 other    other    ... 2        4     1    2    4      8        15 14 14\n",
       "211 services teacher  ... 2        3     1    2    5      4        13 13 14\n",
       "50  services teacher  ... 4        4     1    1    3      2        13 12 12\n",
       "    Supera\n",
       "225 Si    \n",
       "81  Si    \n",
       "916 Si    \n",
       "908 Si    \n",
       "211 Si    \n",
       "50  Si    "
      ]
     },
     "metadata": {},
     "output_type": "display_data"
    }
   ],
   "source": [
    "Alumnos_usos_sociales <-read.csv(\"B2.332_Students.csv\",comment.char = \"#\")\n",
    "# Reordenar al azar los datos\n",
    "Alumnos_usos_sociales <- Alumnos_usos_sociales[sample(nrow(Alumnos_usos_sociales)),]\n",
    "# Visualizamos el resultado \n",
    "head(Alumnos_usos_sociales)\n"
   ]
  },
  {
   "cell_type": "markdown",
   "metadata": {
    "deletable": true,
    "editable": true
   },
   "source": [
    "### Preparamos los datos para crear el modelo y particionamos el conjunto de entrada en dos (training y test set) "
   ]
  },
  {
   "cell_type": "code",
   "execution_count": 32,
   "metadata": {
    "collapsed": true,
    "deletable": true,
    "editable": true
   },
   "outputs": [],
   "source": [
    "# Reordenar al azar los datos\n",
    "Alumnos_usos_sociales <- Alumnos_usos_sociales[sample(nrow(Alumnos_usos_sociales)),]\n",
    "X <- Alumnos_usos_sociales[,c(\"sex\",\"age\",\"studytime\",\"failures\",\"schoolsup\")]\n",
    "# Asignamos a Y si supera o no el curso\n",
    "Y <- Alumnos_usos_sociales[,34]\n",
    "# conjunto de entreno\n",
    "trainX <- X[1:800,]\n",
    "trainY <- Y[1:800]\n",
    "# conjunto de test\n",
    "testX <- X[801:1044,]\n",
    "testY <- Y[801:1044]"
   ]
  },
  {
   "cell_type": "markdown",
   "metadata": {
    "collapsed": true,
    "deletable": true,
    "editable": true
   },
   "source": [
    "### Creamos un primer modelo de árbol con la poda por defecto. Mostramos todas sus características."
   ]
  },
  {
   "cell_type": "code",
   "execution_count": 33,
   "metadata": {
    "collapsed": false,
    "deletable": true,
    "editable": true
   },
   "outputs": [
    {
     "data": {
      "text/plain": [
       "\n",
       "Call:\n",
       "C5.0.default(x = trainX, y = trainY)\n",
       "\n",
       "\n",
       "C5.0 [Release 2.07 GPL Edition]  \tMon Apr 24 19:51:24 2017\n",
       "-------------------------------\n",
       "\n",
       "Class specified by attribute `outcome'\n",
       "\n",
       "Read 800 cases (6 attributes) from undefined.data\n",
       "\n",
       "Decision tree:\n",
       "\n",
       "failures <= 0: Si (658/102)\n",
       "failures > 0:\n",
       ":...failures > 2: No (23/6)\n",
       "    failures <= 2:\n",
       "    :...age <= 18: No (86/32)\n",
       "        age > 18: Si (33/12)\n",
       "\n",
       "\n",
       "Evaluation on training data (800 cases):\n",
       "\n",
       "\t    Decision Tree   \n",
       "\t  ----------------  \n",
       "\t  Size      Errors  \n",
       "\n",
       "\t     4  152(19.0%)   <<\n",
       "\n",
       "\n",
       "\t   (a)   (b)    <-classified as\n",
       "\t  ----  ----\n",
       "\t    71   114    (a): class No\n",
       "\t    38   577    (b): class Si\n",
       "\n",
       "\n",
       "\tAttribute usage:\n",
       "\n",
       "\t100.00%\tfailures\n",
       "\t 14.88%\tage\n",
       "\n",
       "\n",
       "Time: 0.0 secs\n"
      ]
     },
     "metadata": {},
     "output_type": "display_data"
    },
    {
     "data": {
      "text/plain": [
       "\n",
       "Call:\n",
       "C5.0.default(x = trainX, y = trainY, rules = TRUE)\n",
       "\n",
       "\n",
       "C5.0 [Release 2.07 GPL Edition]  \tMon Apr 24 19:51:24 2017\n",
       "-------------------------------\n",
       "\n",
       "Class specified by attribute `outcome'\n",
       "\n",
       "Read 800 cases (6 attributes) from undefined.data\n",
       "\n",
       "Rules:\n",
       "\n",
       "Rule 1: (103/38, lift 2.7)\n",
       "\tage <= 18\n",
       "\tfailures > 0\n",
       "\t->  class No  [0.629]\n",
       "\n",
       "Rule 2: (142/59, lift 2.5)\n",
       "\tfailures > 0\n",
       "\t->  class No  [0.583]\n",
       "\n",
       "Rule 3: (777/168, lift 1.0)\n",
       "\tfailures <= 2\n",
       "\t->  class Si  [0.783]\n",
       "\n",
       "Default class: Si\n",
       "\n",
       "\n",
       "Evaluation on training data (800 cases):\n",
       "\n",
       "\t        Rules     \n",
       "\t  ----------------\n",
       "\t    No      Errors\n",
       "\n",
       "\t     3  152(19.0%)   <<\n",
       "\n",
       "\n",
       "\t   (a)   (b)    <-classified as\n",
       "\t  ----  ----\n",
       "\t    71   114    (a): class No\n",
       "\t    38   577    (b): class Si\n",
       "\n",
       "\n",
       "\tAttribute usage:\n",
       "\n",
       "\t100.00%\tfailures\n",
       "\t 12.88%\tage\n",
       "\n",
       "\n",
       "Time: 0.0 secs\n"
      ]
     },
     "metadata": {},
     "output_type": "display_data"
    },
    {
     "data": {
      "image/png": "[encoded data removed]",
      "text/plain": [
       "plot without title"
      ]
     },
     "metadata": {},
     "output_type": "display_data"
    }
   ],
   "source": [
    "model <- C50::C5.0(trainX,trainY)\n",
    "summary(model)\n",
    "plot(model)\n",
    "model <- C50::C5.0(trainX,trainY,rules=TRUE)\n",
    "summary(model)"
   ]
  },
  {
   "cell_type": "markdown",
   "metadata": {
    "deletable": true,
    "editable": true
   },
   "source": [
    "### Creamos un primer modelo de árbol sin  poda. Mostramos todas sus características."
   ]
  },
  {
   "cell_type": "code",
   "execution_count": 34,
   "metadata": {
    "collapsed": false,
    "deletable": true,
    "editable": true
   },
   "outputs": [
    {
     "data": {
      "text/plain": [
       "\n",
       "Call:\n",
       "C5.0.default(x = trainX, y = trainY, control = C5.0Control(noGlobalPruning\n",
       " = TRUE))\n",
       "\n",
       "\n",
       "C5.0 [Release 2.07 GPL Edition]  \tMon Apr 24 19:51:25 2017\n",
       "-------------------------------\n",
       "\n",
       "Class specified by attribute `outcome'\n",
       "\n",
       "Read 800 cases (6 attributes) from undefined.data\n",
       "\n",
       "Decision tree:\n",
       "\n",
       "failures <= 0: Si (658/102)\n",
       "failures > 0:\n",
       ":...failures > 2:\n",
       "    :...schoolsup = no: No (20/4)\n",
       "    :   schoolsup = yes: Si (3/1)\n",
       "    failures <= 2:\n",
       "    :...age > 18: Si (33/12)\n",
       "        age <= 18:\n",
       "        :...failures > 1: No (17/2)\n",
       "            failures <= 1:\n",
       "            :...age <= 16: Si (24/8)\n",
       "                age > 16: No (45/14)\n",
       "\n",
       "\n",
       "Evaluation on training data (800 cases):\n",
       "\n",
       "\t    Decision Tree   \n",
       "\t  ----------------  \n",
       "\t  Size      Errors  \n",
       "\n",
       "\t     7  143(17.9%)   <<\n",
       "\n",
       "\n",
       "\t   (a)   (b)    <-classified as\n",
       "\t  ----  ----\n",
       "\t    62   123    (a): class No\n",
       "\t    20   595    (b): class Si\n",
       "\n",
       "\n",
       "\tAttribute usage:\n",
       "\n",
       "\t100.00%\tfailures\n",
       "\t 14.88%\tage\n",
       "\t  2.88%\tschoolsup\n",
       "\n",
       "\n",
       "Time: 0.0 secs\n"
      ]
     },
     "metadata": {},
     "output_type": "display_data"
    },
    {
     "data": {
      "text/plain": [
       "\n",
       "Call:\n",
       "C5.0.default(x = trainX, y = trainY, rules = TRUE, control\n",
       " = C5.0Control(noGlobalPruning = TRUE))\n",
       "\n",
       "\n",
       "C5.0 [Release 2.07 GPL Edition]  \tMon Apr 24 19:51:25 2017\n",
       "-------------------------------\n",
       "\n",
       "Class specified by attribute `outcome'\n",
       "\n",
       "Read 800 cases (6 attributes) from undefined.data\n",
       "\n",
       "Rules:\n",
       "\n",
       "Rule 1: (17/2, lift 3.6)\n",
       "\tage <= 18\n",
       "\tfailures > 1\n",
       "\tfailures <= 2\n",
       "\t->  class No  [0.842]\n",
       "\n",
       "Rule 2: (53/15, lift 3.1)\n",
       "\tage > 16\n",
       "\tage <= 18\n",
       "\tfailures > 0\n",
       "\tfailures <= 2\n",
       "\t->  class No  [0.709]\n",
       "\n",
       "Rule 3: (142/59, lift 2.5)\n",
       "\tfailures > 0\n",
       "\t->  class No  [0.583]\n",
       "\n",
       "Rule 4: (777/168, lift 1.0)\n",
       "\tfailures <= 2\n",
       "\t->  class Si  [0.783]\n",
       "\n",
       "Default class: Si\n",
       "\n",
       "\n",
       "Evaluation on training data (800 cases):\n",
       "\n",
       "\t        Rules     \n",
       "\t  ----------------\n",
       "\t    No      Errors\n",
       "\n",
       "\t     4  144(18.0%)   <<\n",
       "\n",
       "\n",
       "\t   (a)   (b)    <-classified as\n",
       "\t  ----  ----\n",
       "\t    63   122    (a): class No\n",
       "\t    22   593    (b): class Si\n",
       "\n",
       "\n",
       "\tAttribute usage:\n",
       "\n",
       "\t100.00%\tfailures\n",
       "\t  7.75%\tage\n",
       "\n",
       "\n",
       "Time: 0.0 secs\n"
      ]
     },
     "metadata": {},
     "output_type": "display_data"
    },
    {
     "data": {
      "image/png": "[encoded data removed]",
      "text/plain": [
       "plot without title"
      ]
     },
     "metadata": {},
     "output_type": "display_data"
    }
   ],
   "source": [
    "modelP <- C50::C5.0(trainX,trainY,control=C5.0Control(noGlobalPruning=TRUE))\n",
    "summary(modelP)\n",
    "plot(modelP)\n",
    "modelP <- C50::C5.0(trainX,trainY,rules=TRUE, control=C5.0Control(noGlobalPruning=TRUE))\n",
    "summary(modelP)"
   ]
  }
 ],
 "metadata": {
  "anaconda-cloud": {},
  "kernelspec": {
   "display_name": "R",
   "language": "R",
   "name": "ir"
  },
  "language_info": {
   "codemirror_mode": "r",
   "file_extension": ".r",
   "mimetype": "text/x-r-source",
   "name": "R",
   "pygments_lexer": "r",
   "version": "3.3.2"
  }
 },
 "nbformat": 4,
 "nbformat_minor": 1
}
