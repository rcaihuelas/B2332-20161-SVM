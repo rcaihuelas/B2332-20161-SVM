{
 "cells": [
  {
   "cell_type": "markdown",
   "metadata": {
    "deletable": true,
    "editable": true
   },
   "source": [
    "<div style='float:left'>\n",
    "<img style=\"-webkit-user-select: none\" src=\"https://www.uoc.edu/portal/_resources/common/imatges/marca_UOC/marca_UOC_web.jpg\">\n",
    "<h1>\n",
    "B2.332-A1.Extracción Componentes Principales\n",
    "</h1>\n"
   ]
  },
  {
   "cell_type": "markdown",
   "metadata": {
    "deletable": true,
    "editable": true
   },
   "source": [
    "## Procedimiento"
   ]
  },
  {
   "cell_type": "markdown",
   "metadata": {
    "deletable": true,
    "editable": true
   },
   "source": [
    "### Cargamos los datos de un directorio local."
   ]
  },
  {
   "cell_type": "code",
   "execution_count": 1,
   "metadata": {
    "collapsed": false,
    "deletable": true,
    "editable": true
   },
   "outputs": [],
   "source": [
    "Alumnos_usos_sociales <- read.csv(\"B2.332_Students.csv\", comment.char=\"#\")"
   ]
  },
  {
   "cell_type": "markdown",
   "metadata": {
    "deletable": true,
    "editable": true
   },
   "source": [
    "### Cálculo de los componentes principales"
   ]
  },
  {
   "cell_type": "code",
   "execution_count": 2,
   "metadata": {
    "collapsed": false,
    "deletable": true,
    "editable": true,
    "scrolled": false
   },
   "outputs": [
    {
     "data": {
      "text/html": [
       "<table>\n",
       "<thead><tr><th scope=col>G1</th><th scope=col>G2</th><th scope=col>G3</th></tr></thead>\n",
       "<tbody>\n",
       "\t<tr><td> 0</td><td>11</td><td>11</td></tr>\n",
       "\t<tr><td> 9</td><td>11</td><td>11</td></tr>\n",
       "\t<tr><td>12</td><td>13</td><td>12</td></tr>\n",
       "\t<tr><td>14</td><td>14</td><td>14</td></tr>\n",
       "\t<tr><td>11</td><td>13</td><td>13</td></tr>\n",
       "\t<tr><td>12</td><td>12</td><td>13</td></tr>\n",
       "</tbody>\n",
       "</table>\n"
      ],
      "text/latex": [
       "\\begin{tabular}{r|lll}\n",
       " G1 & G2 & G3\\\\\n",
       "\\hline\n",
       "\t  0 & 11 & 11\\\\\n",
       "\t  9 & 11 & 11\\\\\n",
       "\t 12 & 13 & 12\\\\\n",
       "\t 14 & 14 & 14\\\\\n",
       "\t 11 & 13 & 13\\\\\n",
       "\t 12 & 12 & 13\\\\\n",
       "\\end{tabular}\n"
      ],
      "text/markdown": [
       "\n",
       "G1 | G2 | G3 | \n",
       "|---|---|---|---|---|---|\n",
       "|  0 | 11 | 11 | \n",
       "|  9 | 11 | 11 | \n",
       "| 12 | 13 | 12 | \n",
       "| 14 | 14 | 14 | \n",
       "| 11 | 13 | 13 | \n",
       "| 12 | 12 | 13 | \n",
       "\n",
       "\n"
      ],
      "text/plain": [
       "  G1 G2 G3\n",
       "1  0 11 11\n",
       "2  9 11 11\n",
       "3 12 13 12\n",
       "4 14 14 14\n",
       "5 11 13 13\n",
       "6 12 12 13"
      ]
     },
     "metadata": {},
     "output_type": "display_data"
    },
    {
     "data": {
      "text/plain": [
       "Call:\n",
       "princomp(x = X)\n",
       "\n",
       "Standard deviations:\n",
       "   Comp.1    Comp.2    Comp.3 \n",
       "5.6158957 1.4529456 0.9728683 \n",
       "\n",
       " 3  variables and  1044 observations."
      ]
     },
     "metadata": {},
     "output_type": "display_data"
    },
    {
     "data": {
      "text/plain": [
       "Importance of components:\n",
       "                          Comp.1     Comp.2     Comp.3\n",
       "Standard deviation     5.6158957 1.45294560 0.97286827\n",
       "Proportion of Variance 0.9116216 0.06102042 0.02735802\n",
       "Cumulative Proportion  0.9116216 0.97264198 1.00000000\n",
       "\n",
       "Loadings:\n",
       "   Comp.1 Comp.2 Comp.3\n",
       "G1 -0.485  0.808  0.335\n",
       "G2 -0.567        -0.824\n",
       "G3 -0.666 -0.589  0.457"
      ]
     },
     "metadata": {},
     "output_type": "display_data"
    }
   ],
   "source": [
    "# X contiene las variables que queremos trabajar\n",
    "X <- Alumnos_usos_sociales[,c(31:33)]\n",
    "head(X)\n",
    "\n",
    "\n",
    "# Calculamos la componentes principales\n",
    "Xpca<-princomp(X)\n",
    "\n",
    "# Observamos el resultado\n",
    "Xpca\n",
    "summary(Xpca,loadings=T)"
   ]
  },
  {
   "cell_type": "markdown",
   "metadata": {
    "deletable": true,
    "editable": true
   },
   "source": [
    "### Graficamos la varianza"
   ]
  },
  {
   "cell_type": "code",
   "execution_count": 3,
   "metadata": {
    "collapsed": false,
    "deletable": true,
    "editable": true,
    "scrolled": true
   },
   "outputs": [
    {
     "data": {
      "image/png": "[encoded data removed]",
      "text/plain": [
       "Plot with title \"Xpca\""
      ]
     },
     "metadata": {},
     "output_type": "display_data"
    }
   ],
   "source": [
    "screeplot(Xpca)"
   ]
  },
  {
   "cell_type": "markdown",
   "metadata": {
    "deletable": true,
    "editable": true
   },
   "source": [
    "### Revisamos scores"
   ]
  },
  {
   "cell_type": "code",
   "execution_count": 4,
   "metadata": {
    "collapsed": false,
    "deletable": true,
    "editable": true
   },
   "outputs": [
    {
     "data": {
      "text/html": [
       "<table>\n",
       "<thead><tr><th scope=col>Comp.1</th><th scope=col>Comp.2</th><th scope=col>Comp.3</th></tr></thead>\n",
       "<tbody>\n",
       "\t<tr><td> 5.802002 </td><td>-8.8581402</td><td>-3.7138284</td></tr>\n",
       "\t<tr><td> 1.440158 </td><td>-1.5872269</td><td>-0.6958595</td></tr>\n",
       "\t<tr><td>-1.813841 </td><td> 0.2505845</td><td>-0.8800902</td></tr>\n",
       "\t<tr><td>-4.682246 </td><td> 0.6894117</td><td>-0.1187202</td></tr>\n",
       "\t<tr><td>-1.995246 </td><td>-1.1466402</td><td>-0.7582065</td></tr>\n",
       "\t<tr><td>-1.912897 </td><td>-0.3405204</td><td> 0.4008403</td></tr>\n",
       "</tbody>\n",
       "</table>\n"
      ],
      "text/latex": [
       "\\begin{tabular}{lll}\n",
       " Comp.1 & Comp.2 & Comp.3\\\\\n",
       "\\hline\n",
       "\t  5.802002  & -8.8581402 & -3.7138284\\\\\n",
       "\t  1.440158  & -1.5872269 & -0.6958595\\\\\n",
       "\t -1.813841  &  0.2505845 & -0.8800902\\\\\n",
       "\t -4.682246  &  0.6894117 & -0.1187202\\\\\n",
       "\t -1.995246  & -1.1466402 & -0.7582065\\\\\n",
       "\t -1.912897  & -0.3405204 &  0.4008403\\\\\n",
       "\\end{tabular}\n"
      ],
      "text/markdown": [
       "\n",
       "Comp.1 | Comp.2 | Comp.3 | \n",
       "|---|---|---|---|---|---|\n",
       "|  5.802002  | -8.8581402 | -3.7138284 | \n",
       "|  1.440158  | -1.5872269 | -0.6958595 | \n",
       "| -1.813841  |  0.2505845 | -0.8800902 | \n",
       "| -4.682246  |  0.6894117 | -0.1187202 | \n",
       "| -1.995246  | -1.1466402 | -0.7582065 | \n",
       "| -1.912897  | -0.3405204 |  0.4008403 | \n",
       "\n",
       "\n"
      ],
      "text/plain": [
       "     Comp.1    Comp.2     Comp.3    \n",
       "[1,]  5.802002 -8.8581402 -3.7138284\n",
       "[2,]  1.440158 -1.5872269 -0.6958595\n",
       "[3,] -1.813841  0.2505845 -0.8800902\n",
       "[4,] -4.682246  0.6894117 -0.1187202\n",
       "[5,] -1.995246 -1.1466402 -0.7582065\n",
       "[6,] -1.912897 -0.3405204  0.4008403"
      ]
     },
     "metadata": {},
     "output_type": "display_data"
    }
   ],
   "source": [
    "head(Xpca$scores)"
   ]
  },
  {
   "cell_type": "markdown",
   "metadata": {
    "deletable": true,
    "editable": true
   },
   "source": [
    "### Creamos un gráfico con dos ejes: els pca 1 y el pca. Los colores indican en verde supera la asignatura y en rojo no supera."
   ]
  },
  {
   "cell_type": "code",
   "execution_count": 5,
   "metadata": {
    "collapsed": false,
    "deletable": true,
    "editable": true
   },
   "outputs": [
    {
     "data": {
      "image/png": "[encoded data removed]",
      "text/plain": [
       "plot without title"
      ]
     },
     "metadata": {},
     "output_type": "display_data"
    }
   ],
   "source": [
    "# Asignamos a Y si supera o no el curso\n",
    "Y <- Alumnos_usos_sociales[,34]\n",
    "# Dibujamos primero todos los scores de comp1 y comp2\n",
    "Xscores=(Xpca$scores)\n",
    "plot(Xscores[,(1)],Xscores[,(2)])\n",
    "# Asignamos rojo a no supera y verde a si supera\n",
    "points(Xscores[Y==\"No\",1],Xscores[Y==\"No\",2],col=\"red\")\n",
    "points(Xscores[Y==\"Si\",1],Xscores[Y==\"Si\",2],col=\"green\")"
   ]
  },
  {
   "cell_type": "markdown",
   "metadata": {
    "deletable": true,
    "editable": true
   },
   "source": [
    "### El mismo gráfico anterior generado a traves de ggbiplot mejorando la información"
   ]
  },
  {
   "cell_type": "code",
   "execution_count": 6,
   "metadata": {
    "collapsed": false,
    "deletable": true,
    "editable": true
   },
   "outputs": [
    {
     "name": "stderr",
     "output_type": "stream",
     "text": [
      "Warning message:\n",
      "\"package 'devtools' was built under R version 3.3.3\"Skipping install of 'ggbiplot' from a github remote, the SHA1 (7325e880) has not changed since last install.\n",
      "  Use `force = TRUE` to force installation\n",
      "Warning message:\n",
      "\"package 'ggbiplot' was built under R version 3.3.3\"Loading required package: ggplot2\n",
      "Warning message:\n",
      "\"package 'ggplot2' was built under R version 3.3.3\"Loading required package: plyr\n",
      "Loading required package: scales\n",
      "Loading required package: grid\n"
     ]
    },
    {
     "data": {},
     "metadata": {},
     "output_type": "display_data"
    },
    {
     "data": {
      "image/png": "[encoded data removed]",
      "text/plain": [
       "plot without title"
      ]
     },
     "metadata": {},
     "output_type": "display_data"
    }
   ],
   "source": [
    "library(devtools)\n",
    "install_github(\"vqv/ggbiplot\",options(unzip='internal'))\n",
    "library(ggbiplot)\n",
    "X.pca <- prcomp(X)\n",
    "ggbiplot(X.pca, obs.scale = 1, var.scale = 1,\n",
    "         groups = Y, ellipse = TRUE, circle = TRUE) +\n",
    "  scale_color_discrete(name = '') +\n",
    "  theme(legend.direction = 'horizontal', legend.position = 'top')\n"
   ]
  }
 ],
 "metadata": {
  "anaconda-cloud": {},
  "kernelspec": {
   "display_name": "R",
   "language": "R",
   "name": "ir"
  },
  "language_info": {
   "codemirror_mode": "r",
   "file_extension": ".r",
   "mimetype": "text/x-r-source",
   "name": "R",
   "pygments_lexer": "r",
   "version": "3.3.2"
  }
 },
 "nbformat": 4,
 "nbformat_minor": 0
}
