{
 "cells": [
  {
   "cell_type": "markdown",
   "metadata": {},
   "source": [
    "<div style='float:left'>\n",
    "<img style=\"-webkit-user-select: none\" src=\"https://www.uoc.edu/portal/_resources/common/imatges/marca_UOC/marca_UOC_web.jpg\">\n",
    "<h1>\n",
    "Práctica sobre:<br> Algoritmos de clasificación predictiva\n",
    "</h1>\n",
    "</div>\n",
    "<div style='float:right'>\n",
    "<table align=\"right\">\n",
    "<tr>\n",
    "<th></th>\n",
    "<th>Master UOC en Inteligencia de Negocio</th>\n",
    "  </tr>\n",
    "  <tr>\n",
    "   <td>Asignatura</td>\n",
    "    <td>B2.332 Modelos Avanzados</td>\n",
    "  </tr>\n",
    "  <tr>\n",
    "    <td>Consultor</td>\n",
    "    <td>Jordi Gironés</td>\n",
    "  </tr>\n",
    "   <tr>\n",
    "    <td>Estudiante</td>\n",
    "    <td>Nombre estudiante</td>\n",
    "  </tr>\n",
    "   <tr>\n",
    "    <td>Fecha</td>\n",
    "    <td>19/10/2016</td>\n",
    "  </tr>\n",
    "</table>\n",
    "</div>\n",
    "<div style='clear:both'></div>\n",
    "\n"
   ]
  },
  {
   "cell_type": "markdown",
   "metadata": {},
   "source": [
    "## Introducción\n",
    "\n",
    "El juego de datos a trabajar es libre, sin embargo para orientar mejor en la práctica proponemos el siguiente:\n",
    "[Machine Learning Repository: Incendios forestales](https://archive.ics.uci.edu/ml/machine-learning-databases/forest-fires/).\n",
    "\n",
    "Deberáis utilizar código R y los paquetes `kernlab` y/o `e1071`.\n",
    "\n",
    "Se trata de un juego de datos en formato csv que recoje medidas ambientales de distintas zonas forestales con el objetivo de predecir el riesgo de incendio."
   ]
  },
  {
   "cell_type": "markdown",
   "metadata": {},
   "source": [
    "A nivel de resumen en la práctica llevaremos a cabo las siguientes tareas:\n",
    "   "
   ]
  },
  {
   "cell_type": "markdown",
   "metadata": {},
   "source": [
    "#### Entregable\n",
    "La práctica a entregar por parte del estudiante será este mismo documento con el siguiente índice ampliamente desarrollado:\n",
    "\n",
    "    1.  Carga de datos y tareas de preprocesado\n",
    "    2.  Optimización de los parámetros gamma y coste\n",
    "    3.  Aplicación del algoritmo SVM radial, polinomial y sigmoidal\n",
    "    4.  Aplicación del algoritmo Redes Neuronales\n",
    "    5.  Conclusiones\n",
    "    6.  Fuentes consultadas\n",
    "\n",
    "Deberá quedar explícito que se ha trabajado y entendido el material didáctico y que soys capaces de realizar tareas de laboratorio de analítica de datos con los algoritmos estudiados."
   ]
  },
  {
   "cell_type": "markdown",
   "metadata": {},
   "source": [
    "********************************************************\n",
    "### 1. Carga de datos y tareas de preprocesado\n",
    "********************************************************"
   ]
  },
  {
   "cell_type": "markdown",
   "metadata": {},
   "source": [
    "Empezamos por cargar nuestro juego de datos"
   ]
  },
  {
   "cell_type": "code",
   "execution_count": 1,
   "metadata": {
    "collapsed": false
   },
   "outputs": [],
   "source": [
    "# Descargamos el juego de datos en un directorio local.\n",
    "Fires <- read.csv(file=\"B2.332-20161-SVM.csv\",header = TRUE, sep = \",\", quote = \"\\\"\", dec = \".\")\n",
    "\n",
    "Fires[,5] <- as.numeric(Fires[,5])\n",
    "Fires[,6] <- as.numeric(Fires[,6])\n",
    "Fires[,7] <- as.numeric(Fires[,7])\n",
    "Fires[,8] <- as.numeric(Fires[,8])\n",
    "Fires[,9] <- as.numeric(Fires[,9])\n",
    "Fires[,10] <- as.numeric(Fires[,10])\n",
    "Fires[,11] <- as.numeric(Fires[,11])\n",
    "Fires[,12] <- as.numeric(Fires[,12])\n",
    "Fires[,13] <- as.numeric(Fires[,13])\n",
    "\n",
    "# Visualizamos la estructura del juego de datos\n",
    "# summary(Fires)\n"
   ]
  },
  {
   "cell_type": "markdown",
   "metadata": {},
   "source": [
    "###### Categorización de la variable objetivo\n",
    "Nuestra variable objetivo será 'area' que se corresponde con el número de hectáreas quemadas bajo las condiciones ambientales especificadas en su entrada correspondiente.\n",
    "\n",
    "El variable area es continua y puesto que queremos realizar tareas de clasificación y no de regresión, deberemos categorizarla.\n",
    "\n",
    "Fruto de la categorización podemos optar por trabajar con solo dos grupos (incendio, no incendio) o trabajar con varios grupos (rangos de hectareas quemadas)"
   ]
  },
  {
   "cell_type": "code",
   "execution_count": 2,
   "metadata": {
    "collapsed": false
   },
   "outputs": [],
   "source": [
    "Fires2 <- Fires\n",
    "x <- Fires2[,1:12]\n",
    "\n",
    "# Opción 1: \n",
    "# 0 = No incendio ; 1 = Incendio\n",
    "Fires2[!Fires2[,13]==0,]$area <- 1\n",
    "\n",
    "# Opción 2: \n",
    "# Considerar 3 rangos por ejemplo: (-1,0] , (0,15] , (15,10000]\n",
    "# y <- cut(Fires[,13], breaks = as.numeric(c(-1,0,15,10000)))\n",
    "\n",
    "y <- factor(Fires2[,13])"
   ]
  },
  {
   "cell_type": "code",
   "execution_count": 3,
   "metadata": {
    "collapsed": false
   },
   "outputs": [
    {
     "name": "stderr",
     "output_type": "stream",
     "text": [
      "Loading required package: e1071\n"
     ]
    }
   ],
   "source": [
    "# Cargamos en memoria la librería R a utilizar: e1071 o kernlab\n",
    "if(!require(e1071)){\n",
    "    install.packages('e1071', repos='http://cran.es.r-project.org')\n",
    "    require(e1071)\n",
    "}"
   ]
  },
  {
   "cell_type": "code",
   "execution_count": 4,
   "metadata": {
    "collapsed": false
   },
   "outputs": [],
   "source": [
    "# Visualizamos nuestro juego de datos\n",
    "#plot(c(min(x[,10]), max(x[,10])),c(min(x[,11]), max(x[,11])),type='n',xlab='x2',ylab='x1')\n",
    "#title(main='Juego de datos inicial')\n",
    "#points(x[y==\"0\",10], x[y==\"0\",11], pch = 2, col=\"blue\")\n",
    "#points(x[y==\"1\",10], x[y==\"1\",11], pch = 1, col=\"red\")"
   ]
  },
  {
   "cell_type": "markdown",
   "metadata": {},
   "source": [
    "###### Separar datos de entrenamiento y datos de prueba"
   ]
  },
  {
   "cell_type": "code",
   "execution_count": 5,
   "metadata": {
    "collapsed": false
   },
   "outputs": [],
   "source": [
    "set.seed(1)\n",
    "#Separamos los datos de las etiquetas\n",
    "labels <- y\n",
    "data <- x\n",
    "\n",
    "# Utilizaremos 2/3 de los datos para entrenamiento\n",
    "N=dim(data)[1]\n",
    "all=seq(1,N)\n",
    "id.train=sort(sample(N,N*2/3));\n",
    "id.test=setdiff(all,id.train);\n",
    "\n",
    "# Generamos el conjunto de entrenamiento:\n",
    "train <- data[id.train,]\n",
    "labelsTrain <- labels[id.train]\n",
    "#nrow(train)\n",
    "\n",
    "# Generamos el conjunto de test:\n",
    "test <- data[id.test,]\n",
    "labelsTest <- labels[id.test]\n",
    "#nrow(test)\n",
    "\n",
    "# Preparamos los datos de entrenamiento\n",
    "trainFact=data.frame(train,y=as.factor(labelsTrain))"
   ]
  },
  {
   "cell_type": "markdown",
   "metadata": {},
   "source": [
    "********************************************************\n",
    "### 2. Optimización de los parámetros gamma y coste\n",
    "********************************************************"
   ]
  },
  {
   "cell_type": "code",
   "execution_count": 6,
   "metadata": {
    "collapsed": false
   },
   "outputs": [],
   "source": [
    "#tuned <- tune.svm(y~., data = trainFact, gamma = 10^(-6:-1), cost = 10^(-1:2))\n",
    "#    summary(tuned)"
   ]
  },
  {
   "cell_type": "markdown",
   "metadata": {},
   "source": [
    "********************************************************\n",
    "### 3. Aplicación del algoritmo SVM radial, polinomial y sigmoidal\n",
    "********************************************************"
   ]
  },
  {
   "cell_type": "code",
   "execution_count": 7,
   "metadata": {
    "collapsed": false
   },
   "outputs": [],
   "source": [
    "# Generamos el modelo de clasificacion SVM polinomial de grado 3\n",
    "#svm.modelo=svm(y~.,data=trainFact,kernel=\"polynomial\", degree=3, coef0=5 ,cross=5)\n",
    "\n",
    "# Aplicamos el modelo sobre los datos test\n",
    "#pred1 <- predict(svm.modelo, test)\n",
    "\n",
    "# Generamos una matriz de confusion para medir el\n",
    "# grado de acierto de la prediccion\n",
    "#t1 <- table(pred = pred1, real = labelsTest)\n",
    "#t1"
   ]
  },
  {
   "cell_type": "code",
   "execution_count": 8,
   "metadata": {
    "collapsed": false
   },
   "outputs": [],
   "source": [
    "#round(100 * sum(diag(t1)) / sum(t1), digits = 2)"
   ]
  },
  {
   "cell_type": "code",
   "execution_count": 9,
   "metadata": {
    "collapsed": false
   },
   "outputs": [],
   "source": [
    "# Resultado del modelo\n",
    "#summary(svm.modelo)"
   ]
  },
  {
   "cell_type": "code",
   "execution_count": 10,
   "metadata": {
    "collapsed": false
   },
   "outputs": [],
   "source": [
    "# Visualizamos el modelo generado\n",
    "#plot(svm.modelo, trainFact, wind~RH, svSymbol = 17, dataSymbol = 2)"
   ]
  },
  {
   "cell_type": "markdown",
   "metadata": {},
   "source": [
    "********************************************************\n",
    "### 4. Aplicación del algoritmo redes neuronales\n",
    "********************************************************"
   ]
  },
  {
   "cell_type": "code",
   "execution_count": 11,
   "metadata": {
    "collapsed": false
   },
   "outputs": [
    {
     "name": "stderr",
     "output_type": "stream",
     "text": [
      "Loading required package: neuralnet\n"
     ]
    }
   ],
   "source": [
    "# Cargamos en memoria la librería R a utilizar: neuralnet\n",
    "if(!require(neuralnet)){\n",
    "    install.packages('neuralnet', repos='http://cran.es.r-project.org')\n",
    "    require(neuralnet)\n",
    "}"
   ]
  },
  {
   "cell_type": "code",
   "execution_count": 12,
   "metadata": {
    "collapsed": false
   },
   "outputs": [],
   "source": [
    "#Separamos los datos de las etiquetas\n",
    "area <- y\n",
    "data <- as.matrix(cbind(x,area))\n",
    "\n",
    "# Utilizaremos 2/3 de los datos para entrenamiento\n",
    "N=dim(data)[1]\n",
    "all=seq(1,N)\n",
    "id.train=sort(sample(N,N*2/3));\n",
    "id.test=setdiff(all,id.train);\n",
    "\n",
    "# Generamos el conjunto de entrenamiento:\n",
    "trainingdata <- data[id.train,11:13]\n",
    "colnames(trainingdata) <- c(\"Input1\",\"Input2\",\"Output\") \n",
    "trainingdata2 <- transform(trainingdata, Input1 = as.numeric(Input1), \n",
    "                        Input2 = as.numeric(Input2),\n",
    "                        Output = as.numeric(Output))\n",
    "\n",
    "\n",
    "\n",
    "\n",
    "#Test the neural network on some training data\n",
    "testdata <- data[id.test,11:12]\n",
    "colnames(testdata) <- c(\"Input1\",\"Input2\") \n",
    "testdata2 <- transform(testdata, Input1 = as.numeric(Input1), \n",
    "                        Input2 = as.numeric(Input2))\n",
    "                        \n"
   ]
  },
  {
   "cell_type": "code",
   "execution_count": 13,
   "metadata": {
    "collapsed": false
   },
   "outputs": [],
   "source": [
    "# --------------------------------\n",
    "# Modelo con una capa de 2 nodos\n",
    "# --------------------------------\n",
    "#set.seed(10)\n",
    "#net.radial <- neuralnet(Output~Input1+Input2,data=trainingdata2, \n",
    "#                        hidden=2, threshold=0.01, algorithm = \"rprop+\",\n",
    "#                        err.fct = \"sse\", act.fct = \"logistic\" , \n",
    "#                        linear.output = FALSE)"
   ]
  },
  {
   "cell_type": "code",
   "execution_count": 14,
   "metadata": {
    "collapsed": false
   },
   "outputs": [],
   "source": [
    "# Prediccion\n",
    "#net.predict <- compute(net.radial, testdata2) \n",
    "#pred1 <- round(net.predict$net.result)\n",
    "\n",
    "# Generamos una matriz de confusion para medir el\n",
    "# grado de acierto de la prediccion\n",
    "#table(pred = pred1, real = data[id.test,13])"
   ]
  },
  {
   "cell_type": "markdown",
   "metadata": {},
   "source": [
    "********************************************************\n",
    "### 5. Conclusiones \n",
    "********************************************************\n",
    "    5.1  Conclusiones para Máquinas de Soporte Vectorial\n",
    "    5.2  Conclusiones para Redes Neuronales\n",
    "    5.3  Comparativa de los dos algoritmos"
   ]
  },
  {
   "cell_type": "markdown",
   "metadata": {},
   "source": [
    "********************************************************\n",
    "### 5. Fuentes consultadas\n",
    "********************************************************\n"
   ]
  }
 ],
 "metadata": {
  "anaconda-cloud": {},
  "kernelspec": {
   "display_name": "R",
   "language": "R",
   "name": "ir"
  },
  "language_info": {
   "codemirror_mode": "r",
   "file_extension": ".r",
   "mimetype": "text/x-r-source",
   "name": "R",
   "pygments_lexer": "r",
   "version": "3.3.1"
  }
 },
 "nbformat": 4,
 "nbformat_minor": 0
}
