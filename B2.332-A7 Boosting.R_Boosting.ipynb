{
 "cells": [
  {
   "cell_type": "markdown",
   "metadata": {
    "deletable": true,
    "editable": true,
    "nbpresent": {
     "id": "ea6cb8e6-4d3d-45c8-abc9-44f65205068f"
    }
   },
   "source": [
    "<div style='float:left'>\n",
    "<img style=\"-webkit-user-select: none\" src=\"https://www.uoc.edu/portal/_resources/common/imatges/marca_UOC/marca_UOC_web.jpg\">\n",
    "<h1>\n",
    "B2.332-A7 Boosting.R_Boosting\n",
    "</h1>"
   ]
  },
  {
   "cell_type": "markdown",
   "metadata": {
    "deletable": true,
    "editable": true
   },
   "source": [
    "## Descripción:"
   ]
  },
  {
   "cell_type": "markdown",
   "metadata": {
    "deletable": true,
    "editable": true
   },
   "source": [
    "### En este ejemplo se muestra como generar un clasificador arbol de decisión y como mejorarlo con la técnica de Boosting"
   ]
  },
  {
   "cell_type": "markdown",
   "metadata": {
    "deletable": true,
    "editable": true
   },
   "source": [
    "## Procedimiento:"
   ]
  },
  {
   "cell_type": "markdown",
   "metadata": {
    "deletable": true,
    "editable": true
   },
   "source": [
    "### Instalar los packages necesarios en caso de no haberlo hecho anteriormente"
   ]
  },
  {
   "cell_type": "code",
   "execution_count": 1,
   "metadata": {
    "collapsed": false,
    "deletable": true,
    "editable": true
   },
   "outputs": [
    {
     "name": "stderr",
     "output_type": "stream",
     "text": [
      "Loading required package: cart\n",
      "Warning message in library(package, lib.loc = lib.loc, character.only = TRUE, logical.return = TRUE, :\n",
      "\"there is no package called 'cart'\"Installing package into 'C:/Users/rcaih/Documents/R/win-library/3.3'\n",
      "(as 'lib' is unspecified)\n",
      "Warning message:\n",
      "\"package 'cart' is not available (for R version 3.3.2)\"Loading required package: cart\n",
      "Warning message in library(package, lib.loc = lib.loc, character.only = TRUE, logical.return = TRUE, :\n",
      "\"there is no package called 'cart'\"Loading required package: caret\n",
      "Loading required package: lattice\n",
      "Loading required package: ggplot2\n",
      "Warning message:\n",
      "\"package 'ggplot2' was built under R version 3.3.3\"Loading required package: C50\n",
      "Loading required package: car\n",
      "Warning message:\n",
      "\"package 'car' was built under R version 3.3.3\"Loading required package: plyr\n"
     ]
    }
   ],
   "source": [
    "if(!require(cart)){\n",
    "    install.packages('cart',repos='http://cran.es.r-project.org')\n",
    "    require(cart)\n",
    "}\n",
    "if(!require(caret)){\n",
    "    install.packages('caret',repos='http://cran.es.r-project.org')\n",
    "    require(caret)\n",
    "}\n",
    "if(!require(C50)){\n",
    "    install.packages('C50',repos='http://cran.es.r-project.org')\n",
    "    require(C50)\n",
    "}\n",
    "if(!require(car)){\n",
    "    install.packages('car',repos='http://cran.es.r-project.org')\n",
    "    require(car)\n",
    "}\n",
    "if(!require(plyr)){\n",
    "    install.packages('plyr',repos='http://cran.es.r-project.org')\n",
    "    require(plyr)\n",
    "}\n",
    "set.seed(17)"
   ]
  },
  {
   "cell_type": "markdown",
   "metadata": {
    "deletable": true,
    "editable": true,
    "nbpresent": {
     "id": "fafb1f54-b4ab-4c2e-bc0d-c723f2c6814d"
    }
   },
   "source": [
    "### Carga de los datos. "
   ]
  },
  {
   "cell_type": "code",
   "execution_count": 2,
   "metadata": {
    "collapsed": false,
    "deletable": true,
    "editable": true,
    "nbpresent": {
     "id": "352d9955-18b6-49b7-a343-102b723bf3cd"
    }
   },
   "outputs": [
    {
     "data": {
      "text/html": [
       "<ol class=list-inline>\n",
       "\t<li>699</li>\n",
       "\t<li>11</li>\n",
       "</ol>\n"
      ],
      "text/latex": [
       "\\begin{enumerate*}\n",
       "\\item 699\n",
       "\\item 11\n",
       "\\end{enumerate*}\n"
      ],
      "text/markdown": [
       "1. 699\n",
       "2. 11\n",
       "\n",
       "\n"
      ],
      "text/plain": [
       "[1] 699  11"
      ]
     },
     "metadata": {},
     "output_type": "display_data"
    }
   ],
   "source": [
    "wdbc=read.table(  url(\"https://archive.ics.uci.edu/ml/machine-learning-databases/breast-cancer-wisconsin/breast-cancer-wisconsin.data\"), \n",
    "  sep=\",\", header=FALSE)\n",
    "dim(wdbc)"
   ]
  },
  {
   "cell_type": "markdown",
   "metadata": {
    "deletable": true,
    "editable": true
   },
   "source": [
    "### Preparación de los datos"
   ]
  },
  {
   "cell_type": "code",
   "execution_count": 3,
   "metadata": {
    "collapsed": false,
    "deletable": true,
    "editable": true
   },
   "outputs": [],
   "source": [
    "wdbc$V7=as.numeric(recode(wdbc$V7, \"'?'=NA\"))\n",
    "wdbc=wdbc[complete.cases(wdbc),]\n",
    "dataset <- wdbc[,(2:11)]"
   ]
  },
  {
   "cell_type": "markdown",
   "metadata": {
    "deletable": true,
    "editable": true
   },
   "source": [
    "### Parámetros de creación del modelo"
   ]
  },
  {
   "cell_type": "code",
   "execution_count": 4,
   "metadata": {
    "collapsed": false,
    "deletable": true,
    "editable": true
   },
   "outputs": [],
   "source": [
    "# Paso de kfolds\n",
    "control <- trainControl(method=\"repeatedcv\", number=10, repeats=3, savePredictions = TRUE)\n",
    "# Metrica de calidad % instancias correctas sobre total\n",
    "metric <- \"Accuracy\"\n",
    "grid <- expand.grid( .winnow = c(FALSE), .trials=c(1,5,10,15,25,50,75,100), .model=\"tree\" )"
   ]
  },
  {
   "cell_type": "markdown",
   "metadata": {
    "collapsed": true,
    "deletable": true,
    "editable": true
   },
   "source": [
    "### Creamos un modelo de árbol con el método de boosting."
   ]
  },
  {
   "cell_type": "code",
   "execution_count": 5,
   "metadata": {
    "collapsed": false,
    "deletable": true,
    "editable": true
   },
   "outputs": [],
   "source": [
    "model.boost <- train(as.factor(V11)~., tuneGrid=grid,data=dataset, method=\"C5.0\",metric=metric, trControl=control)"
   ]
  },
  {
   "cell_type": "markdown",
   "metadata": {
    "deletable": true,
    "editable": true
   },
   "source": [
    "### Matriz de confusión"
   ]
  },
  {
   "cell_type": "code",
   "execution_count": 6,
   "metadata": {
    "collapsed": false,
    "deletable": true,
    "editable": true
   },
   "outputs": [
    {
     "data": {
      "text/plain": [
       "Cross-Validated (10 fold, repeated 3 times) Confusion Matrix \n",
       "\n",
       "(entries are percentual average cell counts across resamples)\n",
       " \n",
       "          Reference\n",
       "Prediction    2    4\n",
       "         2 63.1  0.8\n",
       "         4  1.9 34.2\n",
       "                            \n",
       " Accuracy (average) : 0.9727\n"
      ]
     },
     "metadata": {},
     "output_type": "display_data"
    }
   ],
   "source": [
    "confusionMatrix(model.boost)\n"
   ]
  },
  {
   "cell_type": "markdown",
   "metadata": {
    "deletable": true,
    "editable": true
   },
   "source": [
    "###  Mostramos todas sus características."
   ]
  },
  {
   "cell_type": "code",
   "execution_count": 7,
   "metadata": {
    "collapsed": false,
    "deletable": true,
    "editable": true
   },
   "outputs": [
    {
     "name": "stdout",
     "output_type": "stream",
     "text": [
      "C5.0 \n",
      "\n",
      "683 samples\n",
      "  9 predictor\n",
      "  2 classes: '2', '4' \n",
      "\n",
      "No pre-processing\n",
      "Resampling: Cross-Validated (10 fold, repeated 3 times) \n",
      "Summary of sample sizes: 616, 614, 615, 614, 615, 614, ... \n",
      "Resampling results across tuning parameters:\n",
      "\n",
      "  trials  Accuracy   Kappa    \n",
      "    1     0.9511858  0.8923892\n",
      "    5     0.9536083  0.8974324\n",
      "   10     0.9619419  0.9165155\n",
      "   15     0.9638958  0.9209938\n",
      "   25     0.9677816  0.9297186\n",
      "   50     0.9702401  0.9352261\n",
      "   75     0.9712276  0.9374236\n",
      "  100     0.9726911  0.9406060\n",
      "\n",
      "Tuning parameter 'model' was held constant at a value of tree\n",
      "Tuning\n",
      " parameter 'winnow' was held constant at a value of FALSE\n",
      "Accuracy was used to select the optimal model using  the largest value.\n",
      "The final values used for the model were trials = 100, model = tree and\n",
      " winnow = FALSE. \n"
     ]
    },
    {
     "data": {},
     "metadata": {},
     "output_type": "display_data"
    },
    {
     "data": {
      "image/png": "[encoded data removed]",
      "text/plain": [
       "plot without title"
      ]
     },
     "metadata": {},
     "output_type": "display_data"
    }
   ],
   "source": [
    "print(model.boost)\n",
    "plot(model.boost)"
   ]
  }
 ],
 "metadata": {
  "anaconda-cloud": {},
  "kernelspec": {
   "display_name": "R",
   "language": "R",
   "name": "ir"
  },
  "language_info": {
   "codemirror_mode": "r",
   "file_extension": ".r",
   "mimetype": "text/x-r-source",
   "name": "R",
   "pygments_lexer": "r",
   "version": "3.3.2"
  }
 },
 "nbformat": 4,
 "nbformat_minor": 1
}
