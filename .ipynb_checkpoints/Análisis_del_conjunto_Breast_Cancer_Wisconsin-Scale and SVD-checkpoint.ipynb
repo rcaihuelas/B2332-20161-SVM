{
 "cells": [
  {
   "cell_type": "markdown",
   "metadata": {},
   "source": [
    "# Análisis del conjunto Breast Cancer Wisconsin (Original)"
   ]
  },
  {
   "cell_type": "markdown",
   "metadata": {},
   "source": [
    "## Descripción:"
   ]
  },
  {
   "cell_type": "markdown",
   "metadata": {
    "collapsed": false
   },
   "source": [
    "En este ejemplo se muestra como usar VSD para mejorar la clasificación de un conjunto de datos"
   ]
  },
  {
   "cell_type": "markdown",
   "metadata": {},
   "source": [
    "## Procedimiento:"
   ]
  },
  {
   "cell_type": "markdown",
   "metadata": {},
   "source": [
    "### Instalar los packages necesarios en caso de no haberlo hecho anteriormente"
   ]
  },
  {
   "cell_type": "code",
   "execution_count": 2,
   "metadata": {
    "collapsed": false
   },
   "outputs": [
    {
     "name": "stderr",
     "output_type": "stream",
     "text": [
      "Loading required package: car\n",
      "Loading required package: C50\n",
      "Loading required package: gmodels\n",
      "Warning message:\n",
      "\"package 'gmodels' was built under R version 3.3.2\""
     ]
    }
   ],
   "source": [
    "if(!require(car)){\n",
    "    install.packages('car',repos='http://cran.es.r-project.org')\n",
    "    require(car)\n",
    "}\n",
    "if(!require(C50)){\n",
    "    install.packages('C50',repos='http://cran.es.r-project.org')\n",
    "    require(C50)\n",
    "}\n",
    "if(!require(gmodels)){\n",
    "    install.packages('gmodels',repos='http://cran.es.r-project.org')\n",
    "    require(gmodels)\n",
    "}\n",
    "set.seed(606);"
   ]
  },
  {
   "cell_type": "markdown",
   "metadata": {},
   "source": [
    "### Leer el conjunto de datos original desde su URL en el repositorio UCI Machine Learning"
   ]
  },
  {
   "cell_type": "code",
   "execution_count": 3,
   "metadata": {
    "collapsed": false
   },
   "outputs": [],
   "source": [
    "wdbc=read.table(\n",
    "    url(\"https://archive.ics.uci.edu/ml/machine-learning-databases/breast-cancer-wisconsin/breast-cancer-wisconsin.data\"), \n",
    "    sep=\",\", header=FALSE)"
   ]
  },
  {
   "cell_type": "markdown",
   "metadata": {},
   "source": [
    "### Obtener las dimensiones (N y d) del conjunto de datos"
   ]
  },
  {
   "cell_type": "code",
   "execution_count": 4,
   "metadata": {
    "collapsed": false
   },
   "outputs": [
    {
     "data": {
      "text/html": [
       "<table>\n",
       "<thead><tr><th></th><th scope=col>V1</th><th scope=col>V2</th><th scope=col>V3</th><th scope=col>V4</th><th scope=col>V5</th><th scope=col>V6</th><th scope=col>V7</th><th scope=col>V8</th><th scope=col>V9</th><th scope=col>V10</th><th scope=col>V11</th></tr></thead>\n",
       "<tbody>\n",
       "\t<tr><th scope=row>1</th><td>1000025</td><td>5      </td><td>1      </td><td>1      </td><td>1      </td><td>2      </td><td>1      </td><td>3      </td><td>1      </td><td>1      </td><td>2      </td></tr>\n",
       "\t<tr><th scope=row>2</th><td>1002945</td><td>5      </td><td>4      </td><td>4      </td><td>5      </td><td>7      </td><td>10     </td><td>3      </td><td>2      </td><td>1      </td><td>2      </td></tr>\n",
       "\t<tr><th scope=row>3</th><td>1015425</td><td>3      </td><td>1      </td><td>1      </td><td>1      </td><td>2      </td><td>2      </td><td>3      </td><td>1      </td><td>1      </td><td>2      </td></tr>\n",
       "\t<tr><th scope=row>4</th><td>1016277</td><td>6      </td><td>8      </td><td>8      </td><td>1      </td><td>3      </td><td>4      </td><td>3      </td><td>7      </td><td>1      </td><td>2      </td></tr>\n",
       "\t<tr><th scope=row>5</th><td>1017023</td><td>4      </td><td>1      </td><td>1      </td><td>3      </td><td>2      </td><td>1      </td><td>3      </td><td>1      </td><td>1      </td><td>2      </td></tr>\n",
       "\t<tr><th scope=row>6</th><td>1017122</td><td>8      </td><td>10     </td><td>10     </td><td>8      </td><td>7      </td><td>10     </td><td>9      </td><td>7      </td><td>1      </td><td>4      </td></tr>\n",
       "</tbody>\n",
       "</table>\n"
      ],
      "text/latex": [
       "\\begin{tabular}{r|lllllllllll}\n",
       "  & V1 & V2 & V3 & V4 & V5 & V6 & V7 & V8 & V9 & V10 & V11\\\\\n",
       "\\hline\n",
       "\t1 & 1000025 & 5       & 1       & 1       & 1       & 2       & 1       & 3       & 1       & 1       & 2      \\\\\n",
       "\t2 & 1002945 & 5       & 4       & 4       & 5       & 7       & 10      & 3       & 2       & 1       & 2      \\\\\n",
       "\t3 & 1015425 & 3       & 1       & 1       & 1       & 2       & 2       & 3       & 1       & 1       & 2      \\\\\n",
       "\t4 & 1016277 & 6       & 8       & 8       & 1       & 3       & 4       & 3       & 7       & 1       & 2      \\\\\n",
       "\t5 & 1017023 & 4       & 1       & 1       & 3       & 2       & 1       & 3       & 1       & 1       & 2      \\\\\n",
       "\t6 & 1017122 & 8       & 10      & 10      & 8       & 7       & 10      & 9       & 7       & 1       & 4      \\\\\n",
       "\\end{tabular}\n"
      ],
      "text/plain": [
       "       V1 V2 V3 V4 V5 V6 V7 V8 V9 V10 V11\n",
       "1 1000025  5  1  1  1  2  1  3  1   1   2\n",
       "2 1002945  5  4  4  5  7 10  3  2   1   2\n",
       "3 1015425  3  1  1  1  2  2  3  1   1   2\n",
       "4 1016277  6  8  8  1  3  4  3  7   1   2\n",
       "5 1017023  4  1  1  3  2  1  3  1   1   2\n",
       "6 1017122  8 10 10  8  7 10  9  7   1   4"
      ]
     },
     "metadata": {},
     "output_type": "display_data"
    },
    {
     "data": {
      "text/html": [
       "<ol class=list-inline>\n",
       "\t<li>699</li>\n",
       "\t<li>11</li>\n",
       "</ol>\n"
      ],
      "text/latex": [
       "\\begin{enumerate*}\n",
       "\\item 699\n",
       "\\item 11\n",
       "\\end{enumerate*}\n"
      ],
      "text/markdown": [
       "1. 699\n",
       "2. 11\n",
       "\n",
       "\n"
      ],
      "text/plain": [
       "[1] 699  11"
      ]
     },
     "metadata": {},
     "output_type": "display_data"
    }
   ],
   "source": [
    "head(wdbc)\n",
    "dim(wdbc)"
   ]
  },
  {
   "cell_type": "markdown",
   "metadata": {},
   "source": [
    "### Recodificar los '?' por NA y quedarse solo con los registros completos"
   ]
  },
  {
   "cell_type": "code",
   "execution_count": 5,
   "metadata": {
    "collapsed": false
   },
   "outputs": [],
   "source": [
    "wdbc$V7=as.numeric(recode(wdbc$V7, \"'?'=NA\"))\n",
    "\n",
    "x=wdbc[complete.cases(wdbc),]\n"
   ]
  },
  {
   "cell_type": "markdown",
   "metadata": {},
   "source": [
    "Normalizamos el juego de datos para evitar que unas variables tengan más relevancia que otras, \n",
    "simplemente por el hecho de estar expresadas en magnitudes más grandes"
   ]
  },
  {
   "cell_type": "markdown",
   "metadata": {},
   "source": [
    "### Particionar el conjunto de entrada en dos (training y test set), según la regla del 2/3"
   ]
  },
  {
   "cell_type": "code",
   "execution_count": 6,
   "metadata": {
    "collapsed": false
   },
   "outputs": [],
   "source": [
    "N=dim(x)[1]\n",
    "all=seq(1,N)\n",
    "\n",
    "# seleccionar 2/3 al azar\n",
    "\n",
    "train=sort(sample(N,N*2/3.0))\n",
    "test=setdiff(all,train)\n",
    "\n",
    "xtrain=x[train,]\n",
    "xtest=x[test,]"
   ]
  },
  {
   "cell_type": "code",
   "execution_count": 7,
   "metadata": {
    "collapsed": true
   },
   "outputs": [],
   "source": [
    "### Revisar que haya una representación parecida variable clasificadora en el conjunto de entreno y test"
   ]
  },
  {
   "cell_type": "code",
   "execution_count": 8,
   "metadata": {
    "collapsed": false
   },
   "outputs": [
    {
     "data": {
      "text/plain": [
       "\n",
       "        2         4 \n",
       "0.6549451 0.3450549 "
      ]
     },
     "metadata": {},
     "output_type": "display_data"
    },
    {
     "data": {
      "text/plain": [
       "\n",
       "        2         4 \n",
       "0.6403509 0.3596491 "
      ]
     },
     "metadata": {},
     "output_type": "display_data"
    }
   ],
   "source": [
    "prop.table(table(xtrain$V11))\n",
    "prop.table(table(xtest$V11))"
   ]
  },
  {
   "cell_type": "markdown",
   "metadata": {},
   "source": [
    "### Crear un primer árbol usando todos los parámetros por defecto y dibujarlo"
   ]
  },
  {
   "cell_type": "code",
   "execution_count": 9,
   "metadata": {
    "collapsed": false
   },
   "outputs": [
    {
     "data": {
      "text/plain": [
       "\n",
       "Call:\n",
       "C5.0.default(x = xtrain[, c(2:10)], y = as.factor(xtrain$V11))\n",
       "\n",
       "Classification Tree\n",
       "Number of samples: 455 \n",
       "Number of predictors: 9 \n",
       "\n",
       "Tree size: 4 \n",
       "\n",
       "Non-standard options: attempt to group attributes\n"
      ]
     },
     "metadata": {},
     "output_type": "display_data"
    },
    {
     "data": {
      "text/plain": [
       "\n",
       "Call:\n",
       "C5.0.default(x = xtrain[, c(2:10)], y = as.factor(xtrain$V11))\n",
       "\n",
       "\n",
       "C5.0 [Release 2.07 GPL Edition]  \tSat Nov 12 06:30:04 2016\n",
       "-------------------------------\n",
       "\n",
       "Class specified by attribute `outcome'\n",
       "\n",
       "Read 455 cases (10 attributes) from undefined.data\n",
       "\n",
       "Decision tree:\n",
       "\n",
       "V3 <= 2: 2 (284/7)\n",
       "V3 > 2:\n",
       ":...V7 > 1: 4 (151/8)\n",
       "    V7 <= 1:\n",
       "    :...V3 <= 5: 2 (14/1)\n",
       "        V3 > 5: 4 (6)\n",
       "\n",
       "\n",
       "Evaluation on training data (455 cases):\n",
       "\n",
       "\t    Decision Tree   \n",
       "\t  ----------------  \n",
       "\t  Size      Errors  \n",
       "\n",
       "\t     4   16( 3.5%)   <<\n",
       "\n",
       "\n",
       "\t   (a)   (b)    <-classified as\n",
       "\t  ----  ----\n",
       "\t   290     8    (a): class 2\n",
       "\t     8   149    (b): class 4\n",
       "\n",
       "\n",
       "\tAttribute usage:\n",
       "\n",
       "\t100.00%\tV3\n",
       "\t 37.58%\tV7\n",
       "\n",
       "\n",
       "Time: 0.0 secs\n"
      ]
     },
     "metadata": {},
     "output_type": "display_data"
    },
    {
     "data": {
      "image/png": "[encoded data removed]",
      "text/plain": [
       "plot without title"
      ]
     },
     "metadata": {},
     "output_type": "display_data"
    }
   ],
   "source": [
    "model1 <- C50::C5.0(xtrain[,c(2:10)],as.factor(xtrain$V11))\n",
    "model1\n",
    "summary(model1)\n",
    "options(repr.plot.width=10, repr.plot.height=5)\n",
    "plot(model1)"
   ]
  },
  {
   "cell_type": "markdown",
   "metadata": {},
   "source": [
    "### Evaluar el árbol creado mediante la matriz de confusión para cada subconjunto"
   ]
  },
  {
   "cell_type": "code",
   "execution_count": 10,
   "metadata": {
    "collapsed": false
   },
   "outputs": [
    {
     "name": "stdout",
     "output_type": "stream",
     "text": [
      "\n",
      " \n",
      "   Cell Contents\n",
      "|-------------------------|\n",
      "|                       N |\n",
      "|         N / Table Total |\n",
      "|-------------------------|\n",
      "\n",
      " \n",
      "Total Observations in Table:  228 \n",
      "\n",
      " \n",
      "             | predicted V11 \n",
      "  actual V11 |         2 |         4 | Row Total | \n",
      "-------------|-----------|-----------|-----------|\n",
      "           2 |       137 |         9 |       146 | \n",
      "             |     0.601 |     0.039 |           | \n",
      "-------------|-----------|-----------|-----------|\n",
      "           4 |         7 |        75 |        82 | \n",
      "             |     0.031 |     0.329 |           | \n",
      "-------------|-----------|-----------|-----------|\n",
      "Column Total |       144 |        84 |       228 | \n",
      "-------------|-----------|-----------|-----------|\n",
      "\n",
      " \n"
     ]
    }
   ],
   "source": [
    "V11_pred <- predict(model1, xtest)\n",
    "CrossTable(xtest$V11,V11_pred,prop.chisq=FALSE,prop.c=FALSE,prop.r=FALSE,dnn = c('actual V11','predicted V11'))"
   ]
  },
  {
   "cell_type": "markdown",
   "metadata": {},
   "source": [
    "###  El error del árbol es del 0,07. Solo 16 casos clasifican incorrectamente. Veamos si es mejorable con la técnica de SVD   "
   ]
  },
  {
   "cell_type": "markdown",
   "metadata": {},
   "source": [
    "### Utilizar SVD para extraer características"
   ]
  },
  {
   "cell_type": "code",
   "execution_count": 34,
   "metadata": {
    "collapsed": false,
    "scrolled": false
   },
   "outputs": [],
   "source": [
    "TipoCancer <- xtrain[,11]\n",
    "VarCancer <- xtrain[,2:10]\n",
    "\n",
    "svdVarCancer <- svd(VarCancer)\n",
    "svdVarCancerT <- svd(xtest[,2:10])\n"
   ]
  },
  {
   "cell_type": "markdown",
   "metadata": {},
   "source": [
    "### Porcentaje de la varianza acumulada explicada "
   ]
  },
  {
   "cell_type": "code",
   "execution_count": 54,
   "metadata": {
    "collapsed": false
   },
   "outputs": [
    {
     "data": {
      "image/png": "[encoded data removed]",
      "text/plain": [
       "plot without title"
      ]
     },
     "metadata": {},
     "output_type": "display_data"
    }
   ],
   "source": [
    "plot(cumsum(svdVarCancer$d^2/sum(svdVarCancer$d^2)),type=\"l\",col=\"red\",xlab=\"Singular vector\",ylab=\"Varianza explicada acumulada\")\n",
    "lines(cumsum(svdVarCancerT$d^2/sum(svdVarCancerT$d^2)),col=\"green\")\n",
    "\n"
   ]
  },
  {
   "cell_type": "markdown",
   "metadata": {},
   "source": [
    "### Añadir una nueva variable C1 a los datos usando el primer SVD que ya acumula 85% de varianza"
   ]
  },
  {
   "cell_type": "code",
   "execution_count": 37,
   "metadata": {
    "collapsed": false
   },
   "outputs": [],
   "source": [
    "xtrain$C1=svdVarCancer$u[,1]\n",
    "xtest$C1=svdVarCancerT$u[,1]"
   ]
  },
  {
   "cell_type": "markdown",
   "metadata": {},
   "source": [
    "### Crear un segundo árbol con la nueva variable usando todos los parámetros por defecto y dibujarlo"
   ]
  },
  {
   "cell_type": "code",
   "execution_count": 55,
   "metadata": {
    "collapsed": false
   },
   "outputs": [
    {
     "data": {
      "text/plain": [
       "\n",
       "Call:\n",
       "C5.0.default(x = xtrain[, c(2:10, 12)], y = as.factor(xtrain$V11))\n",
       "\n",
       "Classification Tree\n",
       "Number of samples: 455 \n",
       "Number of predictors: 10 \n",
       "\n",
       "Tree size: 2 \n",
       "\n",
       "Non-standard options: attempt to group attributes\n"
      ]
     },
     "metadata": {},
     "output_type": "display_data"
    },
    {
     "data": {
      "text/plain": [
       "\n",
       "Call:\n",
       "C5.0.default(x = xtrain[, c(2:10, 12)], y = as.factor(xtrain$V11))\n",
       "\n",
       "\n",
       "C5.0 [Release 2.07 GPL Edition]  \tSat Nov 12 07:17:38 2016\n",
       "-------------------------------\n",
       "\n",
       "Class specified by attribute `outcome'\n",
       "\n",
       "Read 455 cases (11 attributes) from undefined.data\n",
       "\n",
       "Decision tree:\n",
       "\n",
       "C1 <= -0.03687832: 4 (164/8)\n",
       "C1 > -0.03687832: 2 (291/1)\n",
       "\n",
       "\n",
       "Evaluation on training data (455 cases):\n",
       "\n",
       "\t    Decision Tree   \n",
       "\t  ----------------  \n",
       "\t  Size      Errors  \n",
       "\n",
       "\t     2    9( 2.0%)   <<\n",
       "\n",
       "\n",
       "\t   (a)   (b)    <-classified as\n",
       "\t  ----  ----\n",
       "\t   290     8    (a): class 2\n",
       "\t     1   156    (b): class 4\n",
       "\n",
       "\n",
       "\tAttribute usage:\n",
       "\n",
       "\t100.00%\tC1\n",
       "\n",
       "\n",
       "Time: 0.0 secs\n"
      ]
     },
     "metadata": {},
     "output_type": "display_data"
    },
    {
     "data": {
      "image/png": "[encoded data removed]",
      "text/plain": [
       "plot without title"
      ]
     },
     "metadata": {},
     "output_type": "display_data"
    }
   ],
   "source": [
    "model2 <- C50::C5.0(xtrain[,c(2:10,12)],as.factor(xtrain$V11))\n",
    "model2\n",
    "summary(model2)\n",
    "options(repr.plot.width=4, repr.plot.height=3)\n",
    "plot(model2)"
   ]
  },
  {
   "cell_type": "markdown",
   "metadata": {},
   "source": [
    "### Observar que para la creación el árbol solo se ha usado la variable que corresponde con el componente 1. El resto de variables se ha descartado."
   ]
  },
  {
   "cell_type": "markdown",
   "metadata": {},
   "source": [
    "### Evaluar el árbol creado mediante la matriz de confusión para cada subconjunto"
   ]
  },
  {
   "cell_type": "code",
   "execution_count": 57,
   "metadata": {
    "collapsed": false
   },
   "outputs": [
    {
     "name": "stdout",
     "output_type": "stream",
     "text": [
      "\n",
      " \n",
      "   Cell Contents\n",
      "|-------------------------|\n",
      "|                       N |\n",
      "|         N / Table Total |\n",
      "|-------------------------|\n",
      "\n",
      " \n",
      "Total Observations in Table:  228 \n",
      "\n",
      " \n",
      "             | predicted V11 \n",
      "  actual V11 |         2 |         4 | Row Total | \n",
      "-------------|-----------|-----------|-----------|\n",
      "           2 |       124 |        22 |       146 | \n",
      "             |     0.544 |     0.096 |           | \n",
      "-------------|-----------|-----------|-----------|\n",
      "           4 |         0 |        82 |        82 | \n",
      "             |     0.000 |     0.360 |           | \n",
      "-------------|-----------|-----------|-----------|\n",
      "Column Total |       124 |       104 |       228 | \n",
      "-------------|-----------|-----------|-----------|\n",
      "\n",
      " \n"
     ]
    }
   ],
   "source": [
    "V11_pred <- predict(model2, xtest)\n",
    "CrossTable(xtest$V11,V11_pred,prop.chisq=FALSE,prop.c=FALSE,prop.r=FALSE,dnn = c('actual V11','predicted V11'))"
   ]
  },
  {
   "cell_type": "markdown",
   "metadata": {},
   "source": [
    "### Tenemos una tasa del 0,096 de error en clasificación.  Ha incrementado.  Hemos logrado reducir las clasificaciones erroneas de tumor maligno a 0 incrementandose la misma tasa de falsos positivos."
   ]
  }
 ],
 "metadata": {
  "anaconda-cloud": {},
  "kernelspec": {
   "display_name": "R",
   "language": "R",
   "name": "ir"
  },
  "language_info": {
   "codemirror_mode": "r",
   "file_extension": ".r",
   "mimetype": "text/x-r-source",
   "name": "R",
   "pygments_lexer": "r",
   "version": "3.3.1"
  }
 },
 "nbformat": 4,
 "nbformat_minor": 0
}
