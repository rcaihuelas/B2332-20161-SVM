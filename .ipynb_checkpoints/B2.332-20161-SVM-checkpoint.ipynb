{
 "cells": [
  {
   "cell_type": "markdown",
   "metadata": {},
   "source": [
    "# Práctica sobre algoritmos de clasificación predictiva\n",
    "\n",
    "<table align=\"right\">\n",
    "<tr>\n",
    "<th></th>\n",
    "<th>Master UOC en Inteligencia de Negocio</th>\n",
    "  </tr>\n",
    "  <tr>\n",
    "   <td>Asignatura</td>\n",
    "    <td>B2.332 Modelos Avanzados</td>\n",
    "  </tr>\n",
    "  <tr>\n",
    "    <td>Consultor</td>\n",
    "    <td>Jordi Gironés</td>\n",
    "  </tr>\n",
    "   <tr>\n",
    "    <td>Estudiante</td>\n",
    "    <td>Nombre estudiante</td>\n",
    "  </tr>\n",
    "   <tr>\n",
    "    <td>Fecha</td>\n",
    "    <td>19/10/2016</td>\n",
    "  </tr>\n",
    "</table>"
   ]
  },
  {
   "cell_type": "markdown",
   "metadata": {},
   "source": [
    "## Introducción\n",
    "\n",
    "El juego de datos a trabajar es libre, sin embargo para orientar mejor en la práctica proponemos el siguiente:\n",
    "[Machine Learning Repository: Incendios forestales](https://archive.ics.uci.edu/ml/machine-learning-databases/forest-fires/).\n",
    "\n",
    "Deberáis utilizar código R y los paquetes `kernlab` y/o `e1071`.\n",
    "\n",
    "Se trata de un juego de datos en formato csv que recoje medidas ambientales de distintas zonas forestales con el objetivo de predecir el riesgo de incendio."
   ]
  },
  {
   "cell_type": "markdown",
   "metadata": {},
   "source": [
    "A nivel de resumen en la práctica llevaremos a cabo las siguientes tareas:\n",
    "   "
   ]
  },
  {
   "cell_type": "markdown",
   "metadata": {},
   "source": [
    "#### Entregable\n",
    "La práctica a entregar por parte del estudiante será este mismo documento con el siguiente índice ampliamente desarrollado:\n",
    "\n",
    "    1.  Carga de datos y tareas de preprocesado\n",
    "    2.  Optimización de los parámetros gamma y coste\n",
    "    3.  Aplicación del algoritmo SVM radial, polinomial y sigmoidal\n",
    "    4.  Conclusiones para SVM\n",
    "    5.  Fuentes consultadas\n",
    "\n",
    "Deberá quedar explícito que se ha trabajado y entendido el material didáctico y que soys capaces de realizar tareas de laboratorio de analítica de datos con los algoritmos estudiados."
   ]
  },
  {
   "cell_type": "markdown",
   "metadata": {},
   "source": [
    "********************************************************\n",
    "### 1. Carga de datos y tareas de preprocesado\n",
    "********************************************************"
   ]
  },
  {
   "cell_type": "markdown",
   "metadata": {},
   "source": [
    "Empezamos por cargar nuestro juego de datos"
   ]
  },
  {
   "cell_type": "code",
   "execution_count": 93,
   "metadata": {
    "collapsed": false
   },
   "outputs": [
    {
     "data": {
      "text/plain": [
       "       X                  Y                month      day    \n",
       " Min.   :1.000000   Min.   :2.000000   aug    :184   fri:85  \n",
       " 1st Qu.:3.000000   1st Qu.:4.000000   sep    :172   mon:74  \n",
       " Median :4.000000   Median :4.000000   mar    : 54   sat:84  \n",
       " Mean   :4.669246   Mean   :4.299807   jul    : 32   sun:95  \n",
       " 3rd Qu.:7.000000   3rd Qu.:5.000000   feb    : 20   thu:61  \n",
       " Max.   :9.000000   Max.   :9.000000   jun    : 17   tue:64  \n",
       "                                       (Other): 38   wed:54  \n",
       "      FFMC               DMC                 DC              ISI           \n",
       " Min.   :18.70000   Min.   :  1.1000   Min.   :  7.90   Min.   : 0.000000  \n",
       " 1st Qu.:90.20000   1st Qu.: 68.6000   1st Qu.:437.70   1st Qu.: 6.500000  \n",
       " Median :91.60000   Median :108.3000   Median :664.20   Median : 8.400000  \n",
       " Mean   :90.64468   Mean   :110.8723   Mean   :547.94   Mean   : 9.021663  \n",
       " 3rd Qu.:92.90000   3rd Qu.:142.4000   3rd Qu.:713.90   3rd Qu.:10.800000  \n",
       " Max.   :96.20000   Max.   :291.3000   Max.   :860.60   Max.   :56.100000  \n",
       "                                                                           \n",
       "      temp                RH                wind               rain           \n",
       " Min.   : 2.20000   Min.   : 15.0000   Min.   :0.400000   Min.   :0.00000000  \n",
       " 1st Qu.:15.50000   1st Qu.: 33.0000   1st Qu.:2.700000   1st Qu.:0.00000000  \n",
       " Median :19.30000   Median : 42.0000   Median :4.000000   Median :0.00000000  \n",
       " Mean   :18.88917   Mean   : 44.2882   Mean   :4.017602   Mean   :0.02166344  \n",
       " 3rd Qu.:22.80000   3rd Qu.: 53.0000   3rd Qu.:4.900000   3rd Qu.:0.00000000  \n",
       " Max.   :33.30000   Max.   :100.0000   Max.   :9.400000   Max.   :6.40000000  \n",
       "                                                                              \n",
       "      area           \n",
       " Min.   :   0.00000  \n",
       " 1st Qu.:   0.00000  \n",
       " Median :   0.52000  \n",
       " Mean   :  12.84729  \n",
       " 3rd Qu.:   6.57000  \n",
       " Max.   :1090.84000  \n",
       "                     "
      ]
     },
     "metadata": {},
     "output_type": "display_data"
    }
   ],
   "source": [
    "# Descargamos el juego de datos en un directorio local.\n",
    "Fires <- read.csv(file=\"B2.332-20161-SVM2.csv\",header = TRUE, sep = \";\", quote = \"\\\"\", dec = \",\")\n",
    "\n",
    "Fires[,5] <- as.numeric(Fires[,5])\n",
    "Fires[,6] <- as.numeric(Fires[,6])\n",
    "Fires[,7] <- as.numeric(Fires[,7])\n",
    "Fires[,8] <- as.numeric(Fires[,8])\n",
    "Fires[,9] <- as.numeric(Fires[,9])\n",
    "Fires[,10] <- as.numeric(Fires[,10])\n",
    "Fires[,11] <- as.numeric(Fires[,11])\n",
    "Fires[,12] <- as.numeric(Fires[,12])\n",
    "Fires[,13] <- as.numeric(Fires[,13])\n",
    "\n",
    "# Visualizamos la estructura del juego de datos\n",
    " summary(Fires)\n"
   ]
  },
  {
   "cell_type": "markdown",
   "metadata": {},
   "source": [
    "###### Categorización de la variable objetivo\n",
    "Nuestra variable objetivo será 'area' que se corresponde con el número de hectáreas quemadas bajo las condiciones ambientales especificadas en su entrada correspondiente.\n",
    "\n",
    "El variable area es continua y puesto que queremos realizar tareas de clasificación y no de regresión, deberemos categorizarla.\n",
    "\n",
    "Fruto de la categorización podemos optar por trabajar con solo dos grupos (incendio, no incendio) o trabajar con varios grupos (rangos de hectareas quemadas)"
   ]
  },
  {
   "cell_type": "code",
   "execution_count": 94,
   "metadata": {
    "collapsed": false
   },
   "outputs": [],
   "source": [
    "Fires2 <- Fires\n",
    "x <- Fires2[,1:12]\n",
    "\n",
    "# Opción 1: \n",
    "# 0 = No incendio ; 1 = Incendio\n",
    "Fires2[!Fires2[,13]==0,]$area <- 1\n",
    "\n",
    "# Opción 2: \n",
    "# Considerar 3 rangos por ejemplo: (-1,0] , (0,15] , (15,10000]\n",
    "# y <- cut(Fires[,13], breaks = as.numeric(c(-1,0,15,10000)))\n",
    "\n",
    "y <- factor(Fires2[,13])"
   ]
  },
  {
   "cell_type": "code",
   "execution_count": 51,
   "metadata": {
    "collapsed": false
   },
   "outputs": [
    {
     "name": "stderr",
     "output_type": "stream",
     "text": [
      "Loading required package: e1071\n"
     ]
    }
   ],
   "source": [
    "# Cargamos en memoria la librería R a utilizar: e1071 o kernlab\n",
    "if(!require(e1071)){\n",
    "    install.packages('e1071', repos='http://cran.es.r-project.org')\n",
    "    require(e1071)\n",
    "}"
   ]
  },
  {
   "cell_type": "code",
   "execution_count": null,
   "metadata": {
    "collapsed": false
   },
   "outputs": [],
   "source": [
    "# Visualizamos nuestro juego de datos\n",
    "#plot(c(min(x[,10]), max(x[,10])),c(min(x[,11]), max(x[,11])),type='n',xlab='x2',ylab='x1')\n",
    "#title(main='Juego de datos inicial')\n",
    "#points(x[y==\"0\",10], x[y==\"0\",11], pch = 2, col=\"blue\")\n",
    "#points(x[y==\"1\",10], x[y==\"1\",11], pch = 1, col=\"red\")"
   ]
  },
  {
   "cell_type": "markdown",
   "metadata": {},
   "source": [
    "###### Separar datos de entrenamiento y datos de prueba"
   ]
  },
  {
   "cell_type": "code",
   "execution_count": 95,
   "metadata": {
    "collapsed": false
   },
   "outputs": [
    {
     "data": {
      "text/html": [
       "344"
      ],
      "text/latex": [
       "344"
      ],
      "text/markdown": [
       "344"
      ],
      "text/plain": [
       "[1] 344"
      ]
     },
     "metadata": {},
     "output_type": "display_data"
    },
    {
     "data": {
      "text/html": [
       "173"
      ],
      "text/latex": [
       "173"
      ],
      "text/markdown": [
       "173"
      ],
      "text/plain": [
       "[1] 173"
      ]
     },
     "metadata": {},
     "output_type": "display_data"
    }
   ],
   "source": [
    "set.seed(1)\n",
    "#Separamos los datos de las etiquetas\n",
    "labels <- y\n",
    "data <- x\n",
    "\n",
    "# Utilizaremos 2/3 de los datos para entrenamiento\n",
    "N=dim(data)[1]\n",
    "all=seq(1,N)\n",
    "id.train=sort(sample(N,N*2/3));\n",
    "id.test=setdiff(all,id.train);\n",
    "\n",
    "# Generamos el conjunto de entrenamiento:\n",
    "train <- data[id.train,]\n",
    "labelsTrain <- labels[id.train]\n",
    "nrow(train)\n",
    "\n",
    "# Generamos el conjunto de test:\n",
    "test <- data[id.test,]\n",
    "labelsTest <- labels[id.test]\n",
    "nrow(test)\n",
    "\n",
    "# Preparamos los datos de entrenamiento\n",
    "trainFact=data.frame(train,y=as.factor(labelsTrain))"
   ]
  },
  {
   "cell_type": "markdown",
   "metadata": {},
   "source": [
    "********************************************************\n",
    "### 2. Optimización de los parámetros gamma y coste\n",
    "********************************************************"
   ]
  },
  {
   "cell_type": "code",
   "execution_count": null,
   "metadata": {
    "collapsed": false
   },
   "outputs": [],
   "source": [
    "#tuned <- tune.svm(y~., data = trainFact, gamma = 10^(-6:-1), cost = 10^(-1:2))\n",
    "#    summary(tuned)"
   ]
  },
  {
   "cell_type": "markdown",
   "metadata": {},
   "source": [
    "********************************************************\n",
    "### 3. Aplicación del algoritmo SVM radial, polinomial y sigmoidal\n",
    "********************************************************"
   ]
  },
  {
   "cell_type": "code",
   "execution_count": null,
   "metadata": {
    "collapsed": false
   },
   "outputs": [],
   "source": [
    "# Generamos el modelo de clasificacion SVM polinomial de grado 3\n",
    "#svm.modelo=svm(y~.,data=trainFact,kernel=\"polynomial\", degree=3, coef0=5 ,cross=5)\n",
    "\n",
    "# Aplicamos el modelo sobre los datos test\n",
    "#pred1 <- predict(svm.modelo, test)\n",
    "\n",
    "# Generamos una matriz de confusion para medir el\n",
    "# grado de acierto de la prediccion\n",
    "#t1 <- table(pred = pred1, real = labelsTest)\n",
    "#t1"
   ]
  },
  {
   "cell_type": "code",
   "execution_count": null,
   "metadata": {
    "collapsed": false
   },
   "outputs": [],
   "source": [
    "#round(100 * sum(diag(t1)) / sum(t1), digits = 2)"
   ]
  },
  {
   "cell_type": "code",
   "execution_count": null,
   "metadata": {
    "collapsed": false
   },
   "outputs": [],
   "source": [
    "# Resultado del modelo\n",
    "#summary(svm.modelo)"
   ]
  },
  {
   "cell_type": "code",
   "execution_count": null,
   "metadata": {
    "collapsed": false
   },
   "outputs": [],
   "source": [
    "# Visualizamos el modelo generado\n",
    "#plot(svm.modelo, trainFact, wind~RH, svSymbol = 17, dataSymbol = 2)"
   ]
  },
  {
   "cell_type": "markdown",
   "metadata": {},
   "source": [
    "********************************************************\n",
    "### 4. Conclusiones para SVM\n",
    "********************************************************"
   ]
  },
  {
   "cell_type": "code",
   "execution_count": 53,
   "metadata": {
    "collapsed": false
   },
   "outputs": [],
   "source": [
    "# Cargamos en memoria la librería R a utilizar: e1071 o kernlab\n",
    "if(!require(neuralnet)){\n",
    "    install.packages('neuralnet', repos='http://cran.es.r-project.org')\n",
    "    require(neuralnet)\n",
    "}"
   ]
  },
  {
   "cell_type": "code",
   "execution_count": 114,
   "metadata": {
    "collapsed": false
   },
   "outputs": [],
   "source": [
    "#Separamos los datos de las etiquetas\n",
    "area <- y\n",
    "data <- as.matrix(cbind(x,area))\n",
    "\n",
    "# Utilizaremos 2/3 de los datos para entrenamiento\n",
    "N=dim(data)[1]\n",
    "all=seq(1,N)\n",
    "id.train=sort(sample(N,N*2/3));\n",
    "id.test=setdiff(all,id.train);\n",
    "\n",
    "# Generamos el conjunto de entrenamiento:\n",
    "trainingdata <- data[id.train,11:13]\n",
    "colnames(trainingdata) <- c(\"Input1\",\"Input2\",\"Output\") \n",
    "trainingdata2 <- transform(trainingdata, Input1 = as.numeric(Input1), \n",
    "                        Input2 = as.numeric(Input2),\n",
    "                        Output = as.numeric(Output))\n",
    "\n",
    "\n",
    "\n",
    "\n",
    "#Test the neural network on some training data\n",
    "testdata <- data[id.test,11:12]\n",
    "colnames(testdata) <- c(\"Input1\",\"Input2\") \n",
    "testdata2 <- transform(testdata, Input1 = as.numeric(Input1), \n",
    "                        Input2 = as.numeric(Input2))\n",
    "                        \n"
   ]
  },
  {
   "cell_type": "code",
   "execution_count": 116,
   "metadata": {
    "collapsed": false
   },
   "outputs": [],
   "source": [
    "# --------------------------------\n",
    "# Modelo con una capa de 2 nodos\n",
    "# --------------------------------\n",
    "set.seed(10)\n",
    "net.radial <- neuralnet(Output~Input1+Input2,data=trainingdata2, \n",
    "                        hidden=2, threshold=0.01, algorithm = \"rprop+\",\n",
    "                        err.fct = \"sse\", act.fct = \"logistic\" , \n",
    "                        linear.output = FALSE)"
   ]
  },
  {
   "cell_type": "code",
   "execution_count": 122,
   "metadata": {
    "collapsed": false
   },
   "outputs": [
    {
     "data": {
      "text/plain": [
       "    real\n",
       "pred  0  1\n",
       "   1 85 88"
      ]
     },
     "metadata": {},
     "output_type": "display_data"
    }
   ],
   "source": [
    "# Prediccion\n",
    "net.predict <- compute(net.radial, testdata2) \n",
    "pred1 <- round(net.predict$net.result)\n",
    "\n",
    "# Generamos una matriz de confusion para medir el\n",
    "# grado de acierto de la prediccion\n",
    "table(pred = pred1, real = data[id.test,13])"
   ]
  },
  {
   "cell_type": "code",
   "execution_count": null,
   "metadata": {
    "collapsed": true
   },
   "outputs": [],
   "source": []
  }
 ],
 "metadata": {
  "anaconda-cloud": {},
  "kernelspec": {
   "display_name": "R",
   "language": "R",
   "name": "ir"
  },
  "language_info": {
   "codemirror_mode": "r",
   "file_extension": ".r",
   "mimetype": "text/x-r-source",
   "name": "R",
   "pygments_lexer": "r",
   "version": "3.3.1"
  }
 },
 "nbformat": 4,
 "nbformat_minor": 0
}
