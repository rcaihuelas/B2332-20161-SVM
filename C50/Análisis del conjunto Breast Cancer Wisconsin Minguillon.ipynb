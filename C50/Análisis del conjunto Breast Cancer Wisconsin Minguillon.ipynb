{
 "cells": [
  {
   "cell_type": "markdown",
   "metadata": {},
   "source": [
    "# Análisis del conjunto Breast Cancer Wisconsin (Original)"
   ]
  },
  {
   "cell_type": "markdown",
   "metadata": {},
   "source": [
    "## Descripción:"
   ]
  },
  {
   "cell_type": "code",
   "execution_count": null,
   "metadata": {
    "collapsed": true
   },
   "outputs": [],
   "source": [
    "En este ejemplo se muestra como usar PCA para mejorar la clasificación de un conjunto de datos"
   ]
  },
  {
   "cell_type": "markdown",
   "metadata": {},
   "source": [
    "## Procedimiento:"
   ]
  },
  {
   "cell_type": "markdown",
   "metadata": {},
   "source": [
    "### Instalar los packages necesarios en caso de no haberlo hecho anteriormente"
   ]
  },
  {
   "cell_type": "code",
   "execution_count": null,
   "metadata": {
    "collapsed": true
   },
   "outputs": [],
   "source": [
    "#install.packages(\"rpart\")\n",
    "#install.packages(\"rpart.plot\")\n",
    "#install.packages(\"car\")\n",
    "#install.packages(\"caret\")\n",
    "#install.packages(\"e1071\")\n",
    "#install.packages(\"psych\")"
   ]
  },
  {
   "cell_type": "markdown",
   "metadata": {},
   "source": [
    "### Importar los packages necesarios"
   ]
  },
  {
   "cell_type": "code",
   "execution_count": 27,
   "metadata": {
    "collapsed": false
   },
   "outputs": [],
   "source": [
    "require(rpart)\n",
    "require(rpart.plot)\n",
    "require(car)\n",
    "require(caret)\n",
    "require(e1071)\n",
    "require(psych)"
   ]
  },
  {
   "cell_type": "markdown",
   "metadata": {},
   "source": [
    "### Leer el conjunto de datos original desde su URL en el repositorio UCI Machine Learning"
   ]
  },
  {
   "cell_type": "code",
   "execution_count": 6,
   "metadata": {
    "collapsed": false
   },
   "outputs": [],
   "source": [
    "wdbc=read.table(\n",
    "    url(\"https://archive.ics.uci.edu/ml/machine-learning-databases/breast-cancer-wisconsin/breast-cancer-wisconsin.data\"), \n",
    "    sep=\",\", header=FALSE)"
   ]
  },
  {
   "cell_type": "markdown",
   "metadata": {},
   "source": [
    "### Obtener las dimensiones (N y d) del conjunto de datos"
   ]
  },
  {
   "cell_type": "code",
   "execution_count": 5,
   "metadata": {
    "collapsed": false
   },
   "outputs": [
    {
     "data": {
      "text/html": [
       "<ol class=list-inline>\n",
       "\t<li>699</li>\n",
       "\t<li>11</li>\n",
       "</ol>\n"
      ],
      "text/latex": [
       "\\begin{enumerate*}\n",
       "\\item 699\n",
       "\\item 11\n",
       "\\end{enumerate*}\n"
      ],
      "text/markdown": [
       "1. 699\n",
       "2. 11\n",
       "\n",
       "\n"
      ],
      "text/plain": [
       "[1] 699  11"
      ]
     },
     "metadata": {},
     "output_type": "display_data"
    }
   ],
   "source": [
    "dim(wdbc)"
   ]
  },
  {
   "cell_type": "markdown",
   "metadata": {},
   "source": [
    "### Recodificar los '?' por NA y quedarse solo con los registros completos"
   ]
  },
  {
   "cell_type": "code",
   "execution_count": 7,
   "metadata": {
    "collapsed": true
   },
   "outputs": [],
   "source": [
    "wdbc$V7=as.numeric(recode(wdbc$V7, \"'?'=NA\"))\n",
    "x=wdbc[complete.cases(wdbc),]"
   ]
  },
  {
   "cell_type": "markdown",
   "metadata": {},
   "source": [
    "### Particionar el conjunto de entrada en dos (training y test set), según la regla del 2/3"
   ]
  },
  {
   "cell_type": "code",
   "execution_count": 9,
   "metadata": {
    "collapsed": true
   },
   "outputs": [],
   "source": [
    "N=dim(x)[1]\n",
    "all=seq(1,N)\n",
    "\n",
    "# seleccionar 2/3 al azar\n",
    "\n",
    "train=sort(sample(N,N*2/3.0))\n",
    "test=setdiff(all,train)\n",
    "\n",
    "xtrain=x[train,]\n",
    "xtest=x[test,]"
   ]
  },
  {
   "cell_type": "markdown",
   "metadata": {},
   "source": [
    "### Crear un primer árbol usando todos los parámetros por defecto y dibujarlo"
   ]
  },
  {
   "cell_type": "code",
   "execution_count": 10,
   "metadata": {
    "collapsed": false
   },
   "outputs": [
    {
     "data": {
      "image/png": "[encoded data removed]",
      "text/plain": [
       "plot without title"
      ]
     },
     "metadata": {},
     "output_type": "display_data"
    }
   ],
   "source": [
    "t1=rpart(as.factor(V11) ~ V2+V3+V4+V5+V6+V7+V8+V9+V10, \n",
    "         data=xtrain, method=\"class\")\n",
    "\n",
    "prp(t1, extra=1)"
   ]
  },
  {
   "cell_type": "markdown",
   "metadata": {},
   "source": [
    "### Evaluar el árbol creado mediante la matriz de confusión para cada subconjunto"
   ]
  },
  {
   "cell_type": "code",
   "execution_count": 14,
   "metadata": {
    "collapsed": false
   },
   "outputs": [
    {
     "name": "stdout",
     "output_type": "stream",
     "text": [
      "Confusion Matrix and Statistics\n",
      "\n",
      "   y1train\n",
      "      2   4\n",
      "  2 283  16\n",
      "  4   2 154\n",
      "                                          \n",
      "               Accuracy : 0.9604          \n",
      "                 95% CI : (0.9382, 0.9764)\n",
      "    No Information Rate : 0.6264          \n",
      "    P-Value [Acc > NIR] : < 2.2e-16       \n",
      "                                          \n",
      "                  Kappa : 0.9141          \n",
      " Mcnemar's Test P-Value : 0.002183        \n",
      "                                          \n",
      "            Sensitivity : 0.9930          \n",
      "            Specificity : 0.9059          \n",
      "         Pos Pred Value : 0.9465          \n",
      "         Neg Pred Value : 0.9872          \n",
      "             Prevalence : 0.6264          \n",
      "         Detection Rate : 0.6220          \n",
      "   Detection Prevalence : 0.6571          \n",
      "      Balanced Accuracy : 0.9494          \n",
      "                                          \n",
      "       'Positive' Class : 2               \n",
      "                                          \n",
      "Confusion Matrix and Statistics\n",
      "\n",
      "   y1test\n",
      "      2   4\n",
      "  2 140   5\n",
      "  4   3  80\n",
      "                                         \n",
      "               Accuracy : 0.9649         \n",
      "                 95% CI : (0.932, 0.9847)\n",
      "    No Information Rate : 0.6272         \n",
      "    P-Value [Acc > NIR] : <2e-16         \n",
      "                                         \n",
      "                  Kappa : 0.9246         \n",
      " Mcnemar's Test P-Value : 0.7237         \n",
      "                                         \n",
      "            Sensitivity : 0.9790         \n",
      "            Specificity : 0.9412         \n",
      "         Pos Pred Value : 0.9655         \n",
      "         Neg Pred Value : 0.9639         \n",
      "             Prevalence : 0.6272         \n",
      "         Detection Rate : 0.6140         \n",
      "   Detection Prevalence : 0.6360         \n",
      "      Balanced Accuracy : 0.9601         \n",
      "                                         \n",
      "       'Positive' Class : 2              \n",
      "                                         \n"
     ]
    }
   ],
   "source": [
    "y1train=predict(t1, xtrain, type=\"class\")\n",
    "cm1train=confusionMatrix(table(xtrain$V11,y1train))\n",
    "print(cm1train)\n",
    "\n",
    "y1test=predict(t1, xtest, type=\"class\")\n",
    "cm1test=confusionMatrix(table(xtest$V11,y1test))\n",
    "print(cm1test)"
   ]
  },
  {
   "cell_type": "markdown",
   "metadata": {},
   "source": [
    "#### PREGUNTA: ¿Qué valores determinan la calidad del árbol construido?"
   ]
  },
  {
   "cell_type": "markdown",
   "metadata": {},
   "source": [
    "#### SOLUCIÓN:"
   ]
  },
  {
   "cell_type": "markdown",
   "metadata": {},
   "source": [
    "### Utilizar PCA para extraer características, analizando visualmente el número de componentes"
   ]
  },
  {
   "cell_type": "code",
   "execution_count": 26,
   "metadata": {
    "collapsed": false,
    "scrolled": false
   },
   "outputs": [
    {
     "data": {
      "image/png": "[encoded data removed]",
      "text/plain": [
       "Plot with title \"Scree plot\""
      ]
     },
     "metadata": {},
     "output_type": "display_data"
    }
   ],
   "source": [
    "scree(xtrain[,2:10])"
   ]
  },
  {
   "cell_type": "markdown",
   "metadata": {},
   "source": [
    "#### PREGUNTA: ¿Cuantos componentes se deberían utilizar como nuevas características y porqué?"
   ]
  },
  {
   "cell_type": "markdown",
   "metadata": {},
   "source": [
    "#### SOLUCIÓN: "
   ]
  },
  {
   "cell_type": "markdown",
   "metadata": {},
   "source": [
    "### Usar solo el primer componente sin ninguna rotación"
   ]
  },
  {
   "cell_type": "code",
   "execution_count": 19,
   "metadata": {
    "collapsed": false
   },
   "outputs": [
    {
     "name": "stdout",
     "output_type": "stream",
     "text": [
      "Principal Components Analysis\n",
      "Call: principal(r = xtrain[, 2:10], nfactors = 1, rotate = \"none\")\n",
      "Standardized loadings (pattern matrix) based upon correlation matrix\n",
      "     PC1   h2   u2 com\n",
      "V2  0.72 0.52 0.48   1\n",
      "V3  0.93 0.87 0.13   1\n",
      "V4  0.91 0.82 0.18   1\n",
      "V5  0.79 0.62 0.38   1\n",
      "V6  0.83 0.70 0.30   1\n",
      "V7  0.56 0.31 0.69   1\n",
      "V8  0.84 0.71 0.29   1\n",
      "V9  0.83 0.69 0.31   1\n",
      "V10 0.57 0.33 0.67   1\n",
      "\n",
      "                PC1\n",
      "SS loadings    5.57\n",
      "Proportion Var 0.62\n",
      "\n",
      "Mean item complexity =  1\n",
      "Test of the hypothesis that 1 component is sufficient.\n",
      "\n",
      "The root mean square of the residuals (RMSR) is  0.06 \n",
      " with the empirical chi square  107.95  with prob <  1.2e-11 \n",
      "\n",
      "Fit based upon off diagonal values = 0.99"
     ]
    }
   ],
   "source": [
    "pca=principal(xtrain[,2:10],nfactors=1,rotate=\"none\")\n",
    "print(pca)"
   ]
  },
  {
   "cell_type": "markdown",
   "metadata": {},
   "source": [
    "### Añadir una nueva variable C1 a los datos usando el componente calculado"
   ]
  },
  {
   "cell_type": "code",
   "execution_count": 21,
   "metadata": {
    "collapsed": false
   },
   "outputs": [],
   "source": [
    "xtrain$C1=predict(pca,xtrain[,2:10])[,1]\n",
    "xtest$C1=predict(pca,xtest[,2:10])[,1]"
   ]
  },
  {
   "cell_type": "markdown",
   "metadata": {},
   "source": [
    "### Crear un segundo árbol con la nueva variable usando todos los parámetros por defecto y dibujarlo"
   ]
  },
  {
   "cell_type": "code",
   "execution_count": 22,
   "metadata": {
    "collapsed": false
   },
   "outputs": [
    {
     "data": {
      "image/png": "[encoded data removed]",
      "text/plain": [
       "plot without title"
      ]
     },
     "metadata": {},
     "output_type": "display_data"
    }
   ],
   "source": [
    "t2=rpart(as.factor(V11) ~ V2+V3+V4+V5+V6+V7+V8+V9+V10+C1, \n",
    "         data=xtrain, method=\"class\")\n",
    "\n",
    "prp(t2, extra=1)\n"
   ]
  },
  {
   "cell_type": "markdown",
   "metadata": {},
   "source": [
    "### Evaluar el árbol creado mediante la matriz de confusión para cada subconjunto"
   ]
  },
  {
   "cell_type": "code",
   "execution_count": 23,
   "metadata": {
    "collapsed": false
   },
   "outputs": [
    {
     "name": "stdout",
     "output_type": "stream",
     "text": [
      "Confusion Matrix and Statistics\n",
      "\n",
      "   y2train\n",
      "      2   4\n",
      "  2 287  12\n",
      "  4   0 156\n",
      "                                          \n",
      "               Accuracy : 0.9736          \n",
      "                 95% CI : (0.9544, 0.9863)\n",
      "    No Information Rate : 0.6308          \n",
      "    P-Value [Acc > NIR] : < 2.2e-16       \n",
      "                                          \n",
      "                  Kappa : 0.9425          \n",
      " Mcnemar's Test P-Value : 0.001496        \n",
      "                                          \n",
      "            Sensitivity : 1.0000          \n",
      "            Specificity : 0.9286          \n",
      "         Pos Pred Value : 0.9599          \n",
      "         Neg Pred Value : 1.0000          \n",
      "             Prevalence : 0.6308          \n",
      "         Detection Rate : 0.6308          \n",
      "   Detection Prevalence : 0.6571          \n",
      "      Balanced Accuracy : 0.9643          \n",
      "                                          \n",
      "       'Positive' Class : 2               \n",
      "                                          \n",
      "Confusion Matrix and Statistics\n",
      "\n",
      "   y2test\n",
      "      2   4\n",
      "  2 142   3\n",
      "  4   1  82\n",
      "                                          \n",
      "               Accuracy : 0.9825          \n",
      "                 95% CI : (0.9557, 0.9952)\n",
      "    No Information Rate : 0.6272          \n",
      "    P-Value [Acc > NIR] : <2e-16          \n",
      "                                          \n",
      "                  Kappa : 0.9623          \n",
      " Mcnemar's Test P-Value : 0.6171          \n",
      "                                          \n",
      "            Sensitivity : 0.9930          \n",
      "            Specificity : 0.9647          \n",
      "         Pos Pred Value : 0.9793          \n",
      "         Neg Pred Value : 0.9880          \n",
      "             Prevalence : 0.6272          \n",
      "         Detection Rate : 0.6228          \n",
      "   Detection Prevalence : 0.6360          \n",
      "      Balanced Accuracy : 0.9789          \n",
      "                                          \n",
      "       'Positive' Class : 2               \n",
      "                                          \n"
     ]
    }
   ],
   "source": [
    "y2train=predict(t2, xtrain, type=\"class\")\n",
    "cm2train=confusionMatrix(table(xtrain$V11,y2train))\n",
    "print(cm2train)\n",
    "\n",
    "y2test=predict(t2, xtest, type=\"class\")\n",
    "cm2test=confusionMatrix(table(xtest$V11,y2test))\n",
    "print(cm2test)"
   ]
  },
  {
   "cell_type": "markdown",
   "metadata": {},
   "source": [
    "### Forzar la construcción de un tercer árbol completo mediante los parámetros de la función rpart"
   ]
  },
  {
   "cell_type": "code",
   "execution_count": 24,
   "metadata": {
    "collapsed": false
   },
   "outputs": [
    {
     "data": {
      "image/png": "[encoded data removed]",
      "text/plain": [
       "plot without title"
      ]
     },
     "metadata": {},
     "output_type": "display_data"
    }
   ],
   "source": [
    "t3=rpart(as.factor(V11) ~ V2+V3+V4+V5+V6+V7+V8+V9+V10+C1, \n",
    "         data=xtrain, method=\"class\", \n",
    "         control=rpart.control(minsplit=0, cp=0.0))\n",
    "\n",
    "prp(t3, extra=1)"
   ]
  },
  {
   "cell_type": "markdown",
   "metadata": {},
   "source": [
    "### Evaluar el árbol creado mediante la matriz de confusión para cada subconjunto"
   ]
  },
  {
   "cell_type": "code",
   "execution_count": 25,
   "metadata": {
    "collapsed": false
   },
   "outputs": [
    {
     "name": "stdout",
     "output_type": "stream",
     "text": [
      "Confusion Matrix and Statistics\n",
      "\n",
      "   y3train\n",
      "      2   4\n",
      "  2 299   0\n",
      "  4   0 156\n",
      "                                     \n",
      "               Accuracy : 1          \n",
      "                 95% CI : (0.9919, 1)\n",
      "    No Information Rate : 0.6571     \n",
      "    P-Value [Acc > NIR] : < 2.2e-16  \n",
      "                                     \n",
      "                  Kappa : 1          \n",
      " Mcnemar's Test P-Value : NA         \n",
      "                                     \n",
      "            Sensitivity : 1.0000     \n",
      "            Specificity : 1.0000     \n",
      "         Pos Pred Value : 1.0000     \n",
      "         Neg Pred Value : 1.0000     \n",
      "             Prevalence : 0.6571     \n",
      "         Detection Rate : 0.6571     \n",
      "   Detection Prevalence : 0.6571     \n",
      "      Balanced Accuracy : 1.0000     \n",
      "                                     \n",
      "       'Positive' Class : 2          \n",
      "                                     \n",
      "Confusion Matrix and Statistics\n",
      "\n",
      "   y3test\n",
      "      2   4\n",
      "  2 142   3\n",
      "  4   5  78\n",
      "                                         \n",
      "               Accuracy : 0.9649         \n",
      "                 95% CI : (0.932, 0.9847)\n",
      "    No Information Rate : 0.6447         \n",
      "    P-Value [Acc > NIR] : <2e-16         \n",
      "                                         \n",
      "                  Kappa : 0.9238         \n",
      " Mcnemar's Test P-Value : 0.7237         \n",
      "                                         \n",
      "            Sensitivity : 0.9660         \n",
      "            Specificity : 0.9630         \n",
      "         Pos Pred Value : 0.9793         \n",
      "         Neg Pred Value : 0.9398         \n",
      "             Prevalence : 0.6447         \n",
      "         Detection Rate : 0.6228         \n",
      "   Detection Prevalence : 0.6360         \n",
      "      Balanced Accuracy : 0.9645         \n",
      "                                         \n",
      "       'Positive' Class : 2              \n",
      "                                         \n"
     ]
    }
   ],
   "source": [
    "y3train=predict(t3, xtrain, type=\"class\")\n",
    "cm3train=confusionMatrix(table(xtrain$V11,y3train))\n",
    "print(cm3train)\n",
    "\n",
    "y3test=predict(t3, xtest, type=\"class\")\n",
    "cm3test=confusionMatrix(table(xtest$V11,y3test))\n",
    "print(cm3test)"
   ]
  },
  {
   "cell_type": "markdown",
   "metadata": {},
   "source": [
    "#### PREGUNTA: ¿Qué arbol es mejor y porqué, t2 o t3?"
   ]
  },
  {
   "cell_type": "markdown",
   "metadata": {},
   "source": [
    "#### RESPUESTA: "
   ]
  }
 ],
 "metadata": {
  "kernelspec": {
   "display_name": "R",
   "language": "R",
   "name": "ir"
  },
  "language_info": {
   "codemirror_mode": "r",
   "file_extension": ".r",
   "mimetype": "text/x-r-source",
   "name": "R",
   "pygments_lexer": "r",
   "version": "3.3.1"
  }
 },
 "nbformat": 4,
 "nbformat_minor": 0
}
