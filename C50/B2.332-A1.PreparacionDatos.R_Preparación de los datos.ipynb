{
 "cells": [
  {
   "cell_type": "markdown",
   "metadata": {
    "deletable": true,
    "editable": true
   },
   "source": [
    "<div style='float:left'>\n",
    "<img style=\"-webkit-user-select: none\" src=\"https://www.uoc.edu/portal/_resources/common/imatges/marca_UOC/marca_UOC_web.jpg\">\n",
    "<h1>\n",
    "B2.332-A1.Preparación de datos\n",
    "</h1>\n"
   ]
  },
  {
   "cell_type": "markdown",
   "metadata": {
    "deletable": true,
    "editable": true
   },
   "source": [
    "## Procedimiento"
   ]
  },
  {
   "cell_type": "markdown",
   "metadata": {
    "deletable": true,
    "editable": true
   },
   "source": [
    "### Cargamos los datos de un directorio local y observamos las primeras variables."
   ]
  },
  {
   "cell_type": "code",
   "execution_count": 1,
   "metadata": {
    "collapsed": false,
    "deletable": true,
    "editable": true
   },
   "outputs": [
    {
     "data": {
      "text/html": [
       "<table>\n",
       "<thead><tr><th scope=col>school</th><th scope=col>sex</th><th scope=col>age</th><th scope=col>address</th><th scope=col>famsize</th><th scope=col>Pstatus</th><th scope=col>Medu</th><th scope=col>Fedu</th><th scope=col>Mjob</th><th scope=col>Fjob</th><th scope=col>...</th><th scope=col>freetime</th><th scope=col>goout</th><th scope=col>Dalc</th><th scope=col>Walc</th><th scope=col>health</th><th scope=col>absences</th><th scope=col>G1</th><th scope=col>G2</th><th scope=col>G3</th><th scope=col>Supera</th></tr></thead>\n",
       "<tbody>\n",
       "\t<tr><td>GP               </td><td>F                </td><td>18               </td><td>U                </td><td>GT3              </td><td>A                </td><td>Superior         </td><td>Superior         </td><td>at_home          </td><td>teacher          </td><td>...              </td><td>3                </td><td>4                </td><td>1                </td><td>1                </td><td>3                </td><td>4                </td><td> 0               </td><td>11               </td><td>11               </td><td>Si               </td></tr>\n",
       "\t<tr><td>GP               </td><td>F                </td><td>17               </td><td>U                </td><td>GT3              </td><td>T                </td><td>Primaria_Superior</td><td>Primaria_Superior</td><td>at_home          </td><td>other            </td><td>...              </td><td>3                </td><td>3                </td><td>1                </td><td>1                </td><td>3                </td><td>2                </td><td> 9               </td><td>11               </td><td>11               </td><td>Si               </td></tr>\n",
       "\t<tr><td>GP               </td><td>F                </td><td>15               </td><td>U                </td><td>LE3              </td><td>T                </td><td>Primaria_Superior</td><td>Primaria_Superior</td><td>at_home          </td><td>other            </td><td>...              </td><td>3                </td><td>2                </td><td>2                </td><td>3                </td><td>3                </td><td>6                </td><td>12               </td><td>13               </td><td>12               </td><td>Si               </td></tr>\n",
       "\t<tr><td>GP               </td><td>F                </td><td>15               </td><td>U                </td><td>GT3              </td><td>T                </td><td>Superior         </td><td>Grado_9          </td><td>health           </td><td>services         </td><td>...              </td><td>2                </td><td>2                </td><td>1                </td><td>1                </td><td>5                </td><td>0                </td><td>14               </td><td>14               </td><td>14               </td><td>Si               </td></tr>\n",
       "\t<tr><td>GP               </td><td>F                </td><td>16               </td><td>U                </td><td>GT3              </td><td>T                </td><td>Secundaria       </td><td>Secundaria       </td><td>other            </td><td>other            </td><td>...              </td><td>3                </td><td>2                </td><td>1                </td><td>2                </td><td>5                </td><td>0                </td><td>11               </td><td>13               </td><td>13               </td><td>Si               </td></tr>\n",
       "\t<tr><td>GP               </td><td>M                </td><td>16               </td><td>U                </td><td>LE3              </td><td>T                </td><td>Superior         </td><td>Secundaria       </td><td>services         </td><td>other            </td><td>...              </td><td>4                </td><td>2                </td><td>1                </td><td>2                </td><td>5                </td><td>6                </td><td>12               </td><td>12               </td><td>13               </td><td>Si               </td></tr>\n",
       "</tbody>\n",
       "</table>\n"
      ],
      "text/latex": [
       "\\begin{tabular}{r|llllllllllllllllllllllllllllllllll}\n",
       " school & sex & age & address & famsize & Pstatus & Medu & Fedu & Mjob & Fjob & ... & freetime & goout & Dalc & Walc & health & absences & G1 & G2 & G3 & Supera\\\\\n",
       "\\hline\n",
       "\t GP                & F                 & 18                & U                 & GT3               & A                 & Superior          & Superior          & at\\_home         & teacher           & ...               & 3                 & 4                 & 1                 & 1                 & 3                 & 4                 &  0                & 11                & 11                & Si               \\\\\n",
       "\t GP                  & F                   & 17                  & U                   & GT3                 & T                   & Primaria\\_Superior & Primaria\\_Superior & at\\_home           & other               & ...                 & 3                   & 3                   & 1                   & 1                   & 3                   & 2                   &  9                  & 11                  & 11                  & Si                 \\\\\n",
       "\t GP                  & F                   & 15                  & U                   & LE3                 & T                   & Primaria\\_Superior & Primaria\\_Superior & at\\_home           & other               & ...                 & 3                   & 2                   & 2                   & 3                   & 3                   & 6                   & 12                  & 13                  & 12                  & Si                 \\\\\n",
       "\t GP                  & F                   & 15                  & U                   & GT3                 & T                   & Superior            & Grado\\_9           & health              & services            & ...                 & 2                   & 2                   & 1                   & 1                   & 5                   & 0                   & 14                  & 14                  & 14                  & Si                 \\\\\n",
       "\t GP                & F                 & 16                & U                 & GT3               & T                 & Secundaria        & Secundaria        & other             & other             & ...               & 3                 & 2                 & 1                 & 2                 & 5                 & 0                 & 11                & 13                & 13                & Si               \\\\\n",
       "\t GP                & M                 & 16                & U                 & LE3               & T                 & Superior          & Secundaria        & services          & other             & ...               & 4                 & 2                 & 1                 & 2                 & 5                 & 6                 & 12                & 12                & 13                & Si               \\\\\n",
       "\\end{tabular}\n"
      ],
      "text/markdown": [
       "\n",
       "school | sex | age | address | famsize | Pstatus | Medu | Fedu | Mjob | Fjob | ... | freetime | goout | Dalc | Walc | health | absences | G1 | G2 | G3 | Supera | \n",
       "|---|---|---|---|---|---|\n",
       "| GP                | F                 | 18                | U                 | GT3               | A                 | Superior          | Superior          | at_home           | teacher           | ...               | 3                 | 4                 | 1                 | 1                 | 3                 | 4                 |  0                | 11                | 11                | Si                | \n",
       "| GP                | F                 | 17                | U                 | GT3               | T                 | Primaria_Superior | Primaria_Superior | at_home           | other             | ...               | 3                 | 3                 | 1                 | 1                 | 3                 | 2                 |  9                | 11                | 11                | Si                | \n",
       "| GP                | F                 | 15                | U                 | LE3               | T                 | Primaria_Superior | Primaria_Superior | at_home           | other             | ...               | 3                 | 2                 | 2                 | 3                 | 3                 | 6                 | 12                | 13                | 12                | Si                | \n",
       "| GP                | F                 | 15                | U                 | GT3               | T                 | Superior          | Grado_9           | health            | services          | ...               | 2                 | 2                 | 1                 | 1                 | 5                 | 0                 | 14                | 14                | 14                | Si                | \n",
       "| GP                | F                 | 16                | U                 | GT3               | T                 | Secundaria        | Secundaria        | other             | other             | ...               | 3                 | 2                 | 1                 | 2                 | 5                 | 0                 | 11                | 13                | 13                | Si                | \n",
       "| GP                | M                 | 16                | U                 | LE3               | T                 | Superior          | Secundaria        | services          | other             | ...               | 4                 | 2                 | 1                 | 2                 | 5                 | 6                 | 12                | 12                | 13                | Si                | \n",
       "\n",
       "\n"
      ],
      "text/plain": [
       "  school sex age address famsize Pstatus Medu              Fedu             \n",
       "1 GP     F   18  U       GT3     A       Superior          Superior         \n",
       "2 GP     F   17  U       GT3     T       Primaria_Superior Primaria_Superior\n",
       "3 GP     F   15  U       LE3     T       Primaria_Superior Primaria_Superior\n",
       "4 GP     F   15  U       GT3     T       Superior          Grado_9          \n",
       "5 GP     F   16  U       GT3     T       Secundaria        Secundaria       \n",
       "6 GP     M   16  U       LE3     T       Superior          Secundaria       \n",
       "  Mjob     Fjob     ... freetime goout Dalc Walc health absences G1 G2 G3\n",
       "1 at_home  teacher  ... 3        4     1    1    3      4         0 11 11\n",
       "2 at_home  other    ... 3        3     1    1    3      2         9 11 11\n",
       "3 at_home  other    ... 3        2     2    3    3      6        12 13 12\n",
       "4 health   services ... 2        2     1    1    5      0        14 14 14\n",
       "5 other    other    ... 3        2     1    2    5      0        11 13 13\n",
       "6 services other    ... 4        2     1    2    5      6        12 12 13\n",
       "  Supera\n",
       "1 Si    \n",
       "2 Si    \n",
       "3 Si    \n",
       "4 Si    \n",
       "5 Si    \n",
       "6 Si    "
      ]
     },
     "metadata": {},
     "output_type": "display_data"
    }
   ],
   "source": [
    "Alumnos_usos_sociales <- read.csv(\"B2.332_Students.csv\", comment.char=\"#\")\n",
    "head(Alumnos_usos_sociales)"
   ]
  },
  {
   "cell_type": "markdown",
   "metadata": {
    "deletable": true,
    "editable": true
   },
   "source": [
    "### Revisamos si tenemos valores duplicados. En este caso el count de registros y registros con valores unicos es igual. No hay registros duplicados."
   ]
  },
  {
   "cell_type": "code",
   "execution_count": 2,
   "metadata": {
    "collapsed": false,
    "deletable": true,
    "editable": true,
    "scrolled": false
   },
   "outputs": [
    {
     "data": {
      "text/html": [
       "1044"
      ],
      "text/latex": [
       "1044"
      ],
      "text/markdown": [
       "1044"
      ],
      "text/plain": [
       "[1] 1044"
      ]
     },
     "metadata": {},
     "output_type": "display_data"
    },
    {
     "data": {
      "text/html": [
       "1044"
      ],
      "text/latex": [
       "1044"
      ],
      "text/markdown": [
       "1044"
      ],
      "text/plain": [
       "[1] 1044"
      ]
     },
     "metadata": {},
     "output_type": "display_data"
    }
   ],
   "source": [
    "nrow(Alumnos_usos_sociales)\n",
    "X <- unique(Alumnos_usos_sociales)\n",
    "nrow(X)"
   ]
  },
  {
   "cell_type": "markdown",
   "metadata": {
    "deletable": true,
    "editable": true
   },
   "source": [
    "### Revisamos si tenemos registros con campos con valores nulos. En este caso todos los registros tienen los campos informados."
   ]
  },
  {
   "cell_type": "code",
   "execution_count": 3,
   "metadata": {
    "collapsed": false,
    "deletable": true,
    "editable": true
   },
   "outputs": [
    {
     "data": {
      "text/html": [
       "<dl class=dl-horizontal>\n",
       "\t<dt>school</dt>\n",
       "\t\t<dd>0</dd>\n",
       "\t<dt>sex</dt>\n",
       "\t\t<dd>0</dd>\n",
       "\t<dt>age</dt>\n",
       "\t\t<dd>0</dd>\n",
       "\t<dt>address</dt>\n",
       "\t\t<dd>0</dd>\n",
       "\t<dt>famsize</dt>\n",
       "\t\t<dd>0</dd>\n",
       "\t<dt>Pstatus</dt>\n",
       "\t\t<dd>0</dd>\n",
       "\t<dt>Medu</dt>\n",
       "\t\t<dd>0</dd>\n",
       "\t<dt>Fedu</dt>\n",
       "\t\t<dd>0</dd>\n",
       "\t<dt>Mjob</dt>\n",
       "\t\t<dd>0</dd>\n",
       "\t<dt>Fjob</dt>\n",
       "\t\t<dd>0</dd>\n",
       "\t<dt>reason</dt>\n",
       "\t\t<dd>0</dd>\n",
       "\t<dt>guardian</dt>\n",
       "\t\t<dd>0</dd>\n",
       "\t<dt>traveltime</dt>\n",
       "\t\t<dd>0</dd>\n",
       "\t<dt>studytime</dt>\n",
       "\t\t<dd>0</dd>\n",
       "\t<dt>failures</dt>\n",
       "\t\t<dd>0</dd>\n",
       "\t<dt>schoolsup</dt>\n",
       "\t\t<dd>0</dd>\n",
       "\t<dt>famsup</dt>\n",
       "\t\t<dd>0</dd>\n",
       "\t<dt>paid</dt>\n",
       "\t\t<dd>0</dd>\n",
       "\t<dt>activities</dt>\n",
       "\t\t<dd>0</dd>\n",
       "\t<dt>nursery</dt>\n",
       "\t\t<dd>0</dd>\n",
       "\t<dt>higher</dt>\n",
       "\t\t<dd>0</dd>\n",
       "\t<dt>internet</dt>\n",
       "\t\t<dd>0</dd>\n",
       "\t<dt>romantic</dt>\n",
       "\t\t<dd>0</dd>\n",
       "\t<dt>famrel</dt>\n",
       "\t\t<dd>0</dd>\n",
       "\t<dt>freetime</dt>\n",
       "\t\t<dd>0</dd>\n",
       "\t<dt>goout</dt>\n",
       "\t\t<dd>0</dd>\n",
       "\t<dt>Dalc</dt>\n",
       "\t\t<dd>0</dd>\n",
       "\t<dt>Walc</dt>\n",
       "\t\t<dd>0</dd>\n",
       "\t<dt>health</dt>\n",
       "\t\t<dd>0</dd>\n",
       "\t<dt>absences</dt>\n",
       "\t\t<dd>0</dd>\n",
       "\t<dt>G1</dt>\n",
       "\t\t<dd>0</dd>\n",
       "\t<dt>G2</dt>\n",
       "\t\t<dd>0</dd>\n",
       "\t<dt>G3</dt>\n",
       "\t\t<dd>0</dd>\n",
       "\t<dt>Supera</dt>\n",
       "\t\t<dd>0</dd>\n",
       "</dl>\n"
      ],
      "text/latex": [
       "\\begin{description*}\n",
       "\\item[school] 0\n",
       "\\item[sex] 0\n",
       "\\item[age] 0\n",
       "\\item[address] 0\n",
       "\\item[famsize] 0\n",
       "\\item[Pstatus] 0\n",
       "\\item[Medu] 0\n",
       "\\item[Fedu] 0\n",
       "\\item[Mjob] 0\n",
       "\\item[Fjob] 0\n",
       "\\item[reason] 0\n",
       "\\item[guardian] 0\n",
       "\\item[traveltime] 0\n",
       "\\item[studytime] 0\n",
       "\\item[failures] 0\n",
       "\\item[schoolsup] 0\n",
       "\\item[famsup] 0\n",
       "\\item[paid] 0\n",
       "\\item[activities] 0\n",
       "\\item[nursery] 0\n",
       "\\item[higher] 0\n",
       "\\item[internet] 0\n",
       "\\item[romantic] 0\n",
       "\\item[famrel] 0\n",
       "\\item[freetime] 0\n",
       "\\item[goout] 0\n",
       "\\item[Dalc] 0\n",
       "\\item[Walc] 0\n",
       "\\item[health] 0\n",
       "\\item[absences] 0\n",
       "\\item[G1] 0\n",
       "\\item[G2] 0\n",
       "\\item[G3] 0\n",
       "\\item[Supera] 0\n",
       "\\end{description*}\n"
      ],
      "text/markdown": [
       "school\n",
       ":   0sex\n",
       ":   0age\n",
       ":   0address\n",
       ":   0famsize\n",
       ":   0Pstatus\n",
       ":   0Medu\n",
       ":   0Fedu\n",
       ":   0Mjob\n",
       ":   0Fjob\n",
       ":   0reason\n",
       ":   0guardian\n",
       ":   0traveltime\n",
       ":   0studytime\n",
       ":   0failures\n",
       ":   0schoolsup\n",
       ":   0famsup\n",
       ":   0paid\n",
       ":   0activities\n",
       ":   0nursery\n",
       ":   0higher\n",
       ":   0internet\n",
       ":   0romantic\n",
       ":   0famrel\n",
       ":   0freetime\n",
       ":   0goout\n",
       ":   0Dalc\n",
       ":   0Walc\n",
       ":   0health\n",
       ":   0absences\n",
       ":   0G1\n",
       ":   0G2\n",
       ":   0G3\n",
       ":   0Supera\n",
       ":   0\n",
       "\n"
      ],
      "text/plain": [
       "    school        sex        age    address    famsize    Pstatus       Medu \n",
       "         0          0          0          0          0          0          0 \n",
       "      Fedu       Mjob       Fjob     reason   guardian traveltime  studytime \n",
       "         0          0          0          0          0          0          0 \n",
       "  failures  schoolsup     famsup       paid activities    nursery     higher \n",
       "         0          0          0          0          0          0          0 \n",
       "  internet   romantic     famrel   freetime      goout       Dalc       Walc \n",
       "         0          0          0          0          0          0          0 \n",
       "    health   absences         G1         G2         G3     Supera \n",
       "         0          0          0          0          0          0 "
      ]
     },
     "metadata": {},
     "output_type": "display_data"
    }
   ],
   "source": [
    "sapply(Alumnos_usos_sociales,function(x)(sum(is.na(x))))"
   ]
  },
  {
   "cell_type": "markdown",
   "metadata": {
    "deletable": true,
    "editable": true
   },
   "source": [
    "### Resumen de los datos: Análisis univariante"
   ]
  },
  {
   "cell_type": "code",
   "execution_count": 4,
   "metadata": {
    "collapsed": false,
    "deletable": true,
    "editable": true
   },
   "outputs": [
    {
     "data": {
      "text/plain": [
       " school   sex          age        address famsize   Pstatus\n",
       " GP:772   F:591   Min.   :15.00   R:285   GT3:738   A:121  \n",
       " MS:272   M:453   1st Qu.:16.00   U:759   LE3:306   T:923  \n",
       "                  Median :17.00                            \n",
       "                  Mean   :16.73                            \n",
       "                  3rd Qu.:18.00                            \n",
       "                  Max.   :22.00                            \n",
       "                Medu                    Fedu           Mjob           Fjob    \n",
       " Grado_9          :289   Grado_9          :324   at_home :194   at_home : 62  \n",
       " Ninguna          :  9   Ninguna          :  9   health  : 82   health  : 41  \n",
       " Primaria_Superior:202   Primaria_Superior:256   other   :399   other   :584  \n",
       " Secundaria       :238   Secundaria       :231   services:239   services:292  \n",
       " Superior         :306   Superior         :224   teacher :130   teacher : 65  \n",
       "                                                                              \n",
       "        reason      guardian          traveltime        studytime  \n",
       " course    :430   father:243   De 15m a 30m:320   De 2h a 5h :503  \n",
       " home      :258   mother:728   De 30m a 60m: 77   De 5h a 10h:162  \n",
       " other     :108   other : 73   Inf. 15m    :623   Inf. a 2h  :317  \n",
       " reputation:248                Sup. 60m.   : 24   Sup. 10h.  : 62  \n",
       "                                                                   \n",
       "                                                                   \n",
       "    failures      schoolsup famsup     paid     activities nursery   higher   \n",
       " Min.   :0.0000   no :925   no :404   no :824   no :528    no :209   no : 89  \n",
       " 1st Qu.:0.0000   yes:119   yes:640   yes:220   yes:516    yes:835   yes:955  \n",
       " Median :0.0000                                                               \n",
       " Mean   :0.2644                                                               \n",
       " 3rd Qu.:0.0000                                                               \n",
       " Max.   :3.0000                                                               \n",
       " internet  romantic      famrel         freetime         goout      \n",
       " no :217   no :673   Min.   :1.000   Min.   :1.000   Min.   :1.000  \n",
       " yes:827   yes:371   1st Qu.:4.000   1st Qu.:3.000   1st Qu.:2.000  \n",
       "                     Median :4.000   Median :3.000   Median :3.000  \n",
       "                     Mean   :3.936   Mean   :3.201   Mean   :3.156  \n",
       "                     3rd Qu.:5.000   3rd Qu.:4.000   3rd Qu.:4.000  \n",
       "                     Max.   :5.000   Max.   :5.000   Max.   :5.000  \n",
       "      Dalc            Walc           health         absences     \n",
       " Min.   :1.000   Min.   :1.000   Min.   :1.000   Min.   : 0.000  \n",
       " 1st Qu.:1.000   1st Qu.:1.000   1st Qu.:3.000   1st Qu.: 0.000  \n",
       " Median :1.000   Median :2.000   Median :4.000   Median : 2.000  \n",
       " Mean   :1.494   Mean   :2.284   Mean   :3.543   Mean   : 4.435  \n",
       " 3rd Qu.:2.000   3rd Qu.:3.000   3rd Qu.:5.000   3rd Qu.: 6.000  \n",
       " Max.   :5.000   Max.   :5.000   Max.   :5.000   Max.   :75.000  \n",
       "       G1              G2              G3        Supera  \n",
       " Min.   : 0.00   Min.   : 0.00   Min.   : 0.00   No:230  \n",
       " 1st Qu.: 9.00   1st Qu.: 9.00   1st Qu.:10.00   Si:814  \n",
       " Median :11.00   Median :11.00   Median :11.00           \n",
       " Mean   :11.21   Mean   :11.25   Mean   :11.34           \n",
       " 3rd Qu.:13.00   3rd Qu.:13.00   3rd Qu.:14.00           \n",
       " Max.   :19.00   Max.   :19.00   Max.   :20.00           "
      ]
     },
     "metadata": {},
     "output_type": "display_data"
    }
   ],
   "source": [
    "summary(Alumnos_usos_sociales)"
   ]
  },
  {
   "cell_type": "markdown",
   "metadata": {
    "deletable": true,
    "editable": true
   },
   "source": [
    "### Creamos histogramas sobre diversas variables a investigar. Observamos carácteristicas del primer histograma."
   ]
  },
  {
   "cell_type": "code",
   "execution_count": 5,
   "metadata": {
    "collapsed": false,
    "deletable": true,
    "editable": true
   },
   "outputs": [
    {
     "data": {
      "text/html": [
       "<ol class=list-inline>\n",
       "\t<li>15</li>\n",
       "\t<li>15.5</li>\n",
       "\t<li>16</li>\n",
       "\t<li>16.5</li>\n",
       "\t<li>17</li>\n",
       "\t<li>17.5</li>\n",
       "\t<li>18</li>\n",
       "\t<li>18.5</li>\n",
       "\t<li>19</li>\n",
       "\t<li>19.5</li>\n",
       "\t<li>20</li>\n",
       "\t<li>20.5</li>\n",
       "\t<li>21</li>\n",
       "\t<li>21.5</li>\n",
       "\t<li>22</li>\n",
       "</ol>\n"
      ],
      "text/latex": [
       "\\begin{enumerate*}\n",
       "\\item 15\n",
       "\\item 15.5\n",
       "\\item 16\n",
       "\\item 16.5\n",
       "\\item 17\n",
       "\\item 17.5\n",
       "\\item 18\n",
       "\\item 18.5\n",
       "\\item 19\n",
       "\\item 19.5\n",
       "\\item 20\n",
       "\\item 20.5\n",
       "\\item 21\n",
       "\\item 21.5\n",
       "\\item 22\n",
       "\\end{enumerate*}\n"
      ],
      "text/markdown": [
       "1. 15\n",
       "2. 15.5\n",
       "3. 16\n",
       "4. 16.5\n",
       "5. 17\n",
       "6. 17.5\n",
       "7. 18\n",
       "8. 18.5\n",
       "9. 19\n",
       "10. 19.5\n",
       "11. 20\n",
       "12. 20.5\n",
       "13. 21\n",
       "14. 21.5\n",
       "15. 22\n",
       "\n",
       "\n"
      ],
      "text/plain": [
       " [1] 15.0 15.5 16.0 16.5 17.0 17.5 18.0 18.5 19.0 19.5 20.0 20.5 21.0 21.5 22.0"
      ]
     },
     "metadata": {},
     "output_type": "display_data"
    },
    {
     "data": {
      "text/html": [
       "<ol class=list-inline>\n",
       "\t<li>194</li>\n",
       "\t<li>281</li>\n",
       "\t<li>0</li>\n",
       "\t<li>277</li>\n",
       "\t<li>0</li>\n",
       "\t<li>222</li>\n",
       "\t<li>0</li>\n",
       "\t<li>56</li>\n",
       "\t<li>0</li>\n",
       "\t<li>9</li>\n",
       "\t<li>0</li>\n",
       "\t<li>3</li>\n",
       "\t<li>0</li>\n",
       "\t<li>2</li>\n",
       "</ol>\n"
      ],
      "text/latex": [
       "\\begin{enumerate*}\n",
       "\\item 194\n",
       "\\item 281\n",
       "\\item 0\n",
       "\\item 277\n",
       "\\item 0\n",
       "\\item 222\n",
       "\\item 0\n",
       "\\item 56\n",
       "\\item 0\n",
       "\\item 9\n",
       "\\item 0\n",
       "\\item 3\n",
       "\\item 0\n",
       "\\item 2\n",
       "\\end{enumerate*}\n"
      ],
      "text/markdown": [
       "1. 194\n",
       "2. 281\n",
       "3. 0\n",
       "4. 277\n",
       "5. 0\n",
       "6. 222\n",
       "7. 0\n",
       "8. 56\n",
       "9. 0\n",
       "10. 9\n",
       "11. 0\n",
       "12. 3\n",
       "13. 0\n",
       "14. 2\n",
       "\n",
       "\n"
      ],
      "text/plain": [
       " [1] 194 281   0 277   0 222   0  56   0   9   0   3   0   2"
      ]
     },
     "metadata": {},
     "output_type": "display_data"
    },
    {
     "data": {
      "text/html": [
       "<ol class=list-inline>\n",
       "\t<li>0.371647509578544</li>\n",
       "\t<li>0.538314176245211</li>\n",
       "\t<li>0</li>\n",
       "\t<li>0.530651340996169</li>\n",
       "\t<li>0</li>\n",
       "\t<li>0.425287356321839</li>\n",
       "\t<li>0</li>\n",
       "\t<li>0.10727969348659</li>\n",
       "\t<li>0</li>\n",
       "\t<li>0.0172413793103448</li>\n",
       "\t<li>0</li>\n",
       "\t<li>0.00574712643678161</li>\n",
       "\t<li>0</li>\n",
       "\t<li>0.00383141762452107</li>\n",
       "</ol>\n"
      ],
      "text/latex": [
       "\\begin{enumerate*}\n",
       "\\item 0.371647509578544\n",
       "\\item 0.538314176245211\n",
       "\\item 0\n",
       "\\item 0.530651340996169\n",
       "\\item 0\n",
       "\\item 0.425287356321839\n",
       "\\item 0\n",
       "\\item 0.10727969348659\n",
       "\\item 0\n",
       "\\item 0.0172413793103448\n",
       "\\item 0\n",
       "\\item 0.00574712643678161\n",
       "\\item 0\n",
       "\\item 0.00383141762452107\n",
       "\\end{enumerate*}\n"
      ],
      "text/markdown": [
       "1. 0.371647509578544\n",
       "2. 0.538314176245211\n",
       "3. 0\n",
       "4. 0.530651340996169\n",
       "5. 0\n",
       "6. 0.425287356321839\n",
       "7. 0\n",
       "8. 0.10727969348659\n",
       "9. 0\n",
       "10. 0.0172413793103448\n",
       "11. 0\n",
       "12. 0.00574712643678161\n",
       "13. 0\n",
       "14. 0.00383141762452107\n",
       "\n",
       "\n"
      ],
      "text/plain": [
       " [1] 0.371647510 0.538314176 0.000000000 0.530651341 0.000000000 0.425287356\n",
       " [7] 0.000000000 0.107279693 0.000000000 0.017241379 0.000000000 0.005747126\n",
       "[13] 0.000000000 0.003831418"
      ]
     },
     "metadata": {},
     "output_type": "display_data"
    },
    {
     "data": {
      "text/html": [
       "<ol class=list-inline>\n",
       "\t<li>15.25</li>\n",
       "\t<li>15.75</li>\n",
       "\t<li>16.25</li>\n",
       "\t<li>16.75</li>\n",
       "\t<li>17.25</li>\n",
       "\t<li>17.75</li>\n",
       "\t<li>18.25</li>\n",
       "\t<li>18.75</li>\n",
       "\t<li>19.25</li>\n",
       "\t<li>19.75</li>\n",
       "\t<li>20.25</li>\n",
       "\t<li>20.75</li>\n",
       "\t<li>21.25</li>\n",
       "\t<li>21.75</li>\n",
       "</ol>\n"
      ],
      "text/latex": [
       "\\begin{enumerate*}\n",
       "\\item 15.25\n",
       "\\item 15.75\n",
       "\\item 16.25\n",
       "\\item 16.75\n",
       "\\item 17.25\n",
       "\\item 17.75\n",
       "\\item 18.25\n",
       "\\item 18.75\n",
       "\\item 19.25\n",
       "\\item 19.75\n",
       "\\item 20.25\n",
       "\\item 20.75\n",
       "\\item 21.25\n",
       "\\item 21.75\n",
       "\\end{enumerate*}\n"
      ],
      "text/markdown": [
       "1. 15.25\n",
       "2. 15.75\n",
       "3. 16.25\n",
       "4. 16.75\n",
       "5. 17.25\n",
       "6. 17.75\n",
       "7. 18.25\n",
       "8. 18.75\n",
       "9. 19.25\n",
       "10. 19.75\n",
       "11. 20.25\n",
       "12. 20.75\n",
       "13. 21.25\n",
       "14. 21.75\n",
       "\n",
       "\n"
      ],
      "text/plain": [
       " [1] 15.25 15.75 16.25 16.75 17.25 17.75 18.25 18.75 19.25 19.75 20.25 20.75\n",
       "[13] 21.25 21.75"
      ]
     },
     "metadata": {},
     "output_type": "display_data"
    },
    {
     "data": {
      "text/html": [
       "'Alumnos_usos_sociales$age'"
      ],
      "text/latex": [
       "'Alumnos\\_usos\\_sociales\\$age'"
      ],
      "text/markdown": [
       "'Alumnos_usos_sociales$age'"
      ],
      "text/plain": [
       "[1] \"Alumnos_usos_sociales$age\""
      ]
     },
     "metadata": {},
     "output_type": "display_data"
    },
    {
     "data": {
      "text/html": [
       "TRUE"
      ],
      "text/latex": [
       "TRUE"
      ],
      "text/markdown": [
       "TRUE"
      ],
      "text/plain": [
       "[1] TRUE"
      ]
     },
     "metadata": {},
     "output_type": "display_data"
    },
    {
     "data": {
      "image/png": "[encoded data removed]",
      "text/plain": [
       "Plot with title \"Histograma Edad\""
      ]
     },
     "metadata": {},
     "output_type": "display_data"
    },
    {
     "data": {
      "image/png": "[encoded data removed]",
      "text/plain": [
       "Plot with title \"Histograma no superacion anterior asignatura \""
      ]
     },
     "metadata": {},
     "output_type": "display_data"
    },
    {
     "data": {
      "image/png": "[encoded data removed]",
      "text/plain": [
       "Plot with title \"Histograma ausencias\""
      ]
     },
     "metadata": {},
     "output_type": "display_data"
    }
   ],
   "source": [
    "# Histograma Edad. En este caso observamos los valores derivados.\n",
    "H1 <- hist(Alumnos_usos_sociales$age, main=\"Histograma Edad\", xlab =\"Edad\", col = \"red\") \n",
    "H1$breaks\n",
    "H1$counts\n",
    "H1$density\n",
    "H1$mids\n",
    "H1$xname\n",
    "H1$equidist\n",
    "# Histograma failure\n",
    "H2 <- hist(Alumnos_usos_sociales$failures, main=\"Histograma no superacion anterior asignatura \", xlab =\"Failures\", col = \"blue\")\n",
    "# Histograma absences\n",
    "H3 <- hist(Alumnos_usos_sociales$absences, main=\"Histograma ausencias\", xlab =\"Ausencias\", col = \"green\")"
   ]
  },
  {
   "cell_type": "markdown",
   "metadata": {
    "deletable": true,
    "editable": true
   },
   "source": [
    "### Creamos gráfico de dispersión por el campo ausencias"
   ]
  },
  {
   "cell_type": "code",
   "execution_count": 6,
   "metadata": {
    "collapsed": false,
    "deletable": true,
    "editable": true
   },
   "outputs": [
    {
     "data": {
      "image/png": "[encoded data removed]",
      "text/plain": [
       "plot without title"
      ]
     },
     "metadata": {},
     "output_type": "display_data"
    }
   ],
   "source": [
    "gtotal<-plot(Alumnos_usos_sociales$absences)"
   ]
  },
  {
   "cell_type": "markdown",
   "metadata": {
    "deletable": true,
    "editable": true
   },
   "source": [
    "### Diversos ejemplos de analisis bivariable. El  último ejemplo utiliza el color y el tamaño para introducir informació de unas nuevas variables. "
   ]
  },
  {
   "cell_type": "code",
   "execution_count": 7,
   "metadata": {
    "collapsed": false,
    "deletable": true,
    "editable": true
   },
   "outputs": [
    {
     "name": "stderr",
     "output_type": "stream",
     "text": [
      "Loading required package: ggplot2\n",
      "Warning message:\n",
      "\"package 'ggplot2' was built under R version 3.3.3\""
     ]
    },
    {
     "data": {},
     "metadata": {},
     "output_type": "display_data"
    },
    {
     "data": {},
     "metadata": {},
     "output_type": "display_data"
    },
    {
     "data": {
      "image/png": "[encoded data removed]",
      "text/plain": [
       "plot without title"
      ]
     },
     "metadata": {},
     "output_type": "display_data"
    },
    {
     "data": {},
     "metadata": {},
     "output_type": "display_data"
    },
    {
     "data": {
      "image/png": "[encoded data removed]",
      "text/plain": [
       "plot without title"
      ]
     },
     "metadata": {},
     "output_type": "display_data"
    },
    {
     "data": {},
     "metadata": {},
     "output_type": "display_data"
    },
    {
     "data": {
      "image/png": "[encoded data removed]",
      "text/plain": [
       "plot without title"
      ]
     },
     "metadata": {},
     "output_type": "display_data"
    },
    {
     "data": {
      "image/png": "[encoded data removed]",
      "text/plain": [
       "plot without title"
      ]
     },
     "metadata": {},
     "output_type": "display_data"
    }
   ],
   "source": [
    "if(!require(ggplot2)){\n",
    "    install.packages('ggplot2',dependencies =c(\"Depends\", \"Imports\"),repos='http://cran.es.r-project.org')\n",
    "    require(ggplot2)\n",
    "}\n",
    "# Analisis bivariable edad+ausencias\n",
    "g1<-ggplot(Alumnos_usos_sociales, aes(x=age, y=absences)) + geom_point()\n",
    "g1\n",
    "\n",
    "# Analisis bivariable edad+asignatura no superada \n",
    "g2<-ggplot(Alumnos_usos_sociales, aes(x=age, y=failures)) + geom_point(position = position_jitter(w = 0.3, h = 0.3))\n",
    "g2\n",
    "\n",
    "# Analisis bivariable ausencia+asignatura no superada\n",
    "g3<-ggplot(Alumnos_usos_sociales, aes(x=absences, y=failures)) + geom_point(position = position_jitter(w = 0.3, h = 0.3))\n",
    "g3\n",
    "\n",
    "# Relacion edad+nota final+horas de estudio\n",
    "hh<-ggplot(Alumnos_usos_sociales, aes(x=age, y=G3, color=studytime)) + geom_point(aes(size=G3)) + scale_color_manual(values=c(\"#33CCFF\",\"green\",\"yellow\",\"orange\",\"red\",\"#660066\"))\n",
    "hh"
   ]
  },
  {
   "cell_type": "markdown",
   "metadata": {
    "deletable": true,
    "editable": true
   },
   "source": [
    "### Estudio de la relacion de una de las variables respecto la media de otras."
   ]
  },
  {
   "cell_type": "code",
   "execution_count": 8,
   "metadata": {
    "collapsed": false,
    "deletable": true,
    "editable": true
   },
   "outputs": [
    {
     "data": {
      "text/html": [
       "<dl class=dl-horizontal>\n",
       "\t<dt>No</dt>\n",
       "\t\t<dd>17.0391304347826</dd>\n",
       "\t<dt>Si</dt>\n",
       "\t\t<dd>16.6375921375921</dd>\n",
       "</dl>\n"
      ],
      "text/plain": [
       "      No       Si \n",
       "17.03913 16.63759 "
      ]
     },
     "metadata": {},
     "output_type": "display_data"
    },
    {
     "data": {
      "text/html": [
       "<dl class=dl-horizontal>\n",
       "\t<dt>No</dt>\n",
       "\t\t<dd>5.82608695652174</dd>\n",
       "\t<dt>Si</dt>\n",
       "\t\t<dd>4.04176904176904</dd>\n",
       "</dl>\n"
      ],
      "text/plain": [
       "      No       Si \n",
       "5.826087 4.041769 "
      ]
     },
     "metadata": {},
     "output_type": "display_data"
    },
    {
     "data": {
      "text/html": [
       "<dl class=dl-horizontal>\n",
       "\t<dt>No</dt>\n",
       "\t\t<dd>0.717391304347826</dd>\n",
       "\t<dt>Si</dt>\n",
       "\t\t<dd>0.136363636363636</dd>\n",
       "</dl>\n"
      ],
      "text/plain": [
       "       No        Si \n",
       "0.7173913 0.1363636 "
      ]
     },
     "metadata": {},
     "output_type": "display_data"
    }
   ],
   "source": [
    "# Estudiamos la existencia de diferencias por Fracaso y la media de cada una del resto de variables numericas\n",
    "tapply(Alumnos_usos_sociales$age,Alumnos_usos_sociales$Supera,mean)\n",
    "tapply(Alumnos_usos_sociales$absences,Alumnos_usos_sociales$Supera,mean)\n",
    "tapply(Alumnos_usos_sociales$failures,Alumnos_usos_sociales$Supera,mean)"
   ]
  },
  {
   "cell_type": "markdown",
   "metadata": {
    "deletable": true,
    "editable": true
   },
   "source": [
    "### Creamos diversas tablas de contingencia, valores absolutos y proporciones."
   ]
  },
  {
   "cell_type": "code",
   "execution_count": 9,
   "metadata": {
    "collapsed": false,
    "deletable": true,
    "editable": true
   },
   "outputs": [
    {
     "data": {
      "text/plain": [
       "   \n",
       "     no yes\n",
       "  F 504  87\n",
       "  M 421  32"
      ]
     },
     "metadata": {},
     "output_type": "display_data"
    },
    {
     "data": {
      "text/plain": [
       "   \n",
       "     no yes\n",
       "  F 194 397\n",
       "  M 210 243"
      ]
     },
     "metadata": {},
     "output_type": "display_data"
    },
    {
     "data": {
      "text/plain": [
       "   \n",
       "     No  Si\n",
       "  F 125 466\n",
       "  M 105 348"
      ]
     },
     "metadata": {},
     "output_type": "display_data"
    },
    {
     "data": {
      "text/plain": [
       "   \n",
       "           No        Si\n",
       "  F 0.2115059 0.7884941\n",
       "  M 0.2317881 0.7682119"
      ]
     },
     "metadata": {},
     "output_type": "display_data"
    }
   ],
   "source": [
    "# Tabla de contingencia sexo respecto soportes escolar y familiar\n",
    "table(Alumnos_usos_sociales$sex,Alumnos_usos_sociales$schoolsup)\n",
    "table(Alumnos_usos_sociales$sex,Alumnos_usos_sociales$famsup)\n",
    "# Tabla de contingencia sexo respecto supera\n",
    "X <- table(Alumnos_usos_sociales$sex,Alumnos_usos_sociales$Supera)\n",
    "X\n",
    "# Calculamos la proporcion\n",
    "prop.table(X,1)"
   ]
  },
  {
   "cell_type": "markdown",
   "metadata": {
    "deletable": true,
    "editable": true
   },
   "source": [
    "### Buscamos correlaciones entre variables"
   ]
  },
  {
   "cell_type": "code",
   "execution_count": 10,
   "metadata": {
    "collapsed": false,
    "deletable": true,
    "editable": true
   },
   "outputs": [
    {
     "data": {
      "text/html": [
       "<table>\n",
       "<thead><tr><th></th><th scope=col>age</th><th scope=col>absences</th><th scope=col>failures</th></tr></thead>\n",
       "<tbody>\n",
       "\t<tr><th scope=row>age</th><td>1.0000000 </td><td>0.15319565</td><td>0.28236357</td></tr>\n",
       "\t<tr><th scope=row>absences</th><td>0.1531956 </td><td>1.00000000</td><td>0.09999785</td></tr>\n",
       "\t<tr><th scope=row>failures</th><td>0.2823636 </td><td>0.09999785</td><td>1.00000000</td></tr>\n",
       "</tbody>\n",
       "</table>\n"
      ],
      "text/latex": [
       "\\begin{tabular}{r|lll}\n",
       "  & age & absences & failures\\\\\n",
       "\\hline\n",
       "\tage & 1.0000000  & 0.15319565 & 0.28236357\\\\\n",
       "\tabsences & 0.1531956  & 1.00000000 & 0.09999785\\\\\n",
       "\tfailures & 0.2823636  & 0.09999785 & 1.00000000\\\\\n",
       "\\end{tabular}\n"
      ],
      "text/markdown": [
       "\n",
       "| <!--/--> | age | absences | failures | \n",
       "|---|---|---|\n",
       "| age | 1.0000000  | 0.15319565 | 0.28236357 | \n",
       "| absences | 0.1531956  | 1.00000000 | 0.09999785 | \n",
       "| failures | 0.2823636  | 0.09999785 | 1.00000000 | \n",
       "\n",
       "\n"
      ],
      "text/plain": [
       "         age       absences   failures  \n",
       "age      1.0000000 0.15319565 0.28236357\n",
       "absences 0.1531956 1.00000000 0.09999785\n",
       "failures 0.2823636 0.09999785 1.00000000"
      ]
     },
     "metadata": {},
     "output_type": "display_data"
    },
    {
     "data": {
      "image/png": "[encoded data removed]",
      "text/plain": [
       "plot without title"
      ]
     },
     "metadata": {},
     "output_type": "display_data"
    }
   ],
   "source": [
    "X <- Alumnos_usos_sociales[,c(\"age\",\"absences\",\"failures\")]  \n",
    "cor(X)\n",
    "plot(X)"
   ]
  },
  {
   "cell_type": "markdown",
   "metadata": {
    "deletable": true,
    "editable": true
   },
   "source": [
    "### Creamos campos nuevos convirtiendo valores numéricos existentes a texto para mejorar la lectura de un modelo futuro a construir."
   ]
  },
  {
   "cell_type": "code",
   "execution_count": 12,
   "metadata": {
    "collapsed": false,
    "deletable": true,
    "editable": true
   },
   "outputs": [
    {
     "name": "stderr",
     "output_type": "stream",
     "text": [
      "Warning message in min(xx[xx > upper]):\n",
      "\"no non-missing arguments to min; returning Inf\"Warning message in min(xx[xx > upper]):\n",
      "\"no non-missing arguments to min; returning Inf\""
     ]
    },
    {
     "data": {},
     "metadata": {},
     "output_type": "display_data"
    }
   ],
   "source": [
    "if(!require(arules)){\n",
    "    install.packages('arules',dependencies =c(\"Depends\", \"Imports\"),repos='http://cran.es.r-project.org')\n",
    "    require(arules)}\n",
    "if(!require(Matrix)){\n",
    "    install.packages('Matrix',dependencies =c(\"Depends\", \"Imports\"),repos='http://cran.es.r-project.org')\n",
    "    require(Matrix)}\n",
    "# famrel y health tendran equivalentes dZ.famrel y dZ.health con valores categóricos.\n",
    "Z <- Alumnos_usos_sociales[,c(\"famrel\",\"health\")]\n",
    "dZ <- Z\n",
    "for(h in 1:2){\n",
    "  Alumnos_usos_sociales <- within(Alumnos_usos_sociales,{dZ[,h]<- discretize(Z[,h],\n",
    "  method=\"frequency\",categories=5,labels=c(\"very_bad\",\"bad\",\"normal\",\"good\",\"very_good\"))})\n",
    "}\n",
    "\n",
    "# freetime, goout, Dalc y Walc tendran equivalentes dX.freetime dX.goout dX.Dalc y dX.Walc con valores categóricos. \n",
    "X <- Alumnos_usos_sociales[,c(\"freetime\",\"goout\",\"Dalc\",\"Walc\")]\n",
    "dX <- X\n",
    "for(i in 1:4){\n",
    "  Alumnos_usos_sociales <- within(Alumnos_usos_sociales,{dX[,i]<-discretize(X[,i],\n",
    "  method=\"frequency\",categories=5,labels=c(\"very_low\",\"low\",\"medium\",\"high\",\"very_high\"))})\n",
    "}\n",
    "\n",
    "# Revisamos las nuevas variables\n",
    "head(Alumnos_usos_sociales)\n"
   ]
  }
 ],
 "metadata": {
  "anaconda-cloud": {},
  "kernelspec": {
   "display_name": "R",
   "language": "R",
   "name": "ir"
  },
  "language_info": {
   "codemirror_mode": "r",
   "file_extension": ".r",
   "mimetype": "text/x-r-source",
   "name": "R",
   "pygments_lexer": "r",
   "version": "3.3.2"
  }
 },
 "nbformat": 4,
 "nbformat_minor": 0
}
