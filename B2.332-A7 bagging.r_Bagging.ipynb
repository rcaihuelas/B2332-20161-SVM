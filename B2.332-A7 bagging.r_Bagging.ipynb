{
 "cells": [
  {
   "cell_type": "markdown",
   "metadata": {
    "deletable": true,
    "editable": true,
    "nbpresent": {
     "id": "ea6cb8e6-4d3d-45c8-abc9-44f65205068f"
    }
   },
   "source": [
    "<div style='float:left'>\n",
    "<img style=\"-webkit-user-select: none\" src=\"https://www.uoc.edu/portal/_resources/common/imatges/marca_UOC/marca_UOC_web.jpg\">\n",
    "<h1>\n",
    "B2.332-A7 bagging.r_Bagging\n",
    "</h1>"
   ]
  },
  {
   "cell_type": "markdown",
   "metadata": {
    "deletable": true,
    "editable": true
   },
   "source": [
    "## Descripción:"
   ]
  },
  {
   "cell_type": "markdown",
   "metadata": {
    "deletable": true,
    "editable": true
   },
   "source": [
    "### En este ejemplo se muestra como generar un clasificador arbol de decisión y como mejorarlo con técnicas de bagging"
   ]
  },
  {
   "cell_type": "markdown",
   "metadata": {
    "deletable": true,
    "editable": true
   },
   "source": [
    "## Procedimiento:"
   ]
  },
  {
   "cell_type": "markdown",
   "metadata": {
    "deletable": true,
    "editable": true
   },
   "source": [
    "### Instalar los packages necesarios en caso de no haberlo hecho anteriormente"
   ]
  },
  {
   "cell_type": "code",
   "execution_count": 1,
   "metadata": {
    "collapsed": false,
    "deletable": true,
    "editable": true
   },
   "outputs": [
    {
     "name": "stderr",
     "output_type": "stream",
     "text": [
      "Loading required package: mlbench\n",
      "Warning message:\n",
      "\"package 'mlbench' was built under R version 3.3.3\"Loading required package: car\n",
      "Warning message:\n",
      "\"package 'car' was built under R version 3.3.3\"Loading required package: caret\n",
      "Loading required package: lattice\n",
      "Loading required package: ggplot2\n",
      "Warning message:\n",
      "\"package 'ggplot2' was built under R version 3.3.3\"Loading required package: caretEnsemble\n",
      "Warning message:\n",
      "\"package 'caretEnsemble' was built under R version 3.3.3\"\n",
      "Attaching package: 'caretEnsemble'\n",
      "\n",
      "The following object is masked from 'package:ggplot2':\n",
      "\n",
      "    autoplot\n",
      "\n",
      "Loading required package: e1071\n",
      "Warning message:\n",
      "\"package 'e1071' was built under R version 3.3.3\"Loading required package: rpart\n",
      "Loading required package: ipred\n",
      "Warning message:\n",
      "\"package 'ipred' was built under R version 3.3.3\"Loading required package: plyr\n"
     ]
    }
   ],
   "source": [
    "if(!require(mlbench)){\n",
    "    install.packages('mlbench',repos='http://cran.es.r-project.org')\n",
    "    require(mlbench)\n",
    "}\n",
    "if(!require(car)){\n",
    "    install.packages('car',repos='http://cran.es.r-project.org')\n",
    "    require(car)\n",
    "}\n",
    "if(!require(caret)){\n",
    "    install.packages('caret',repos='http://cran.es.r-project.org')\n",
    "    require(caret)\n",
    "}\n",
    "if(!require(caretEnsemble)){\n",
    "    install.packages('caretEnsemble',repos='http://cran.es.r-project.org')\n",
    "    require(caretEnsemble)\n",
    "}\n",
    "if(!require(e1071)){\n",
    "    install.packages('e1071',repos='http://cran.es.r-project.org')\n",
    "    require(e1071)\n",
    "}\n",
    "if(!require(rpart)){\n",
    "    install.packages('rpart',repos='http://cran.es.r-project.org')\n",
    "    require(rpart)\n",
    "}\n",
    "if(!require(ipred)){\n",
    "    install.packages('ipred',repos='http://cran.es.r-project.org')\n",
    "    require(ipred)\n",
    "}\n",
    "if(!require(plyr)){\n",
    "    install.packages('plyr',repos='http://cran.es.r-project.org')\n",
    "    require(plyr)\n",
    "}\n",
    "set.seed(17)"
   ]
  },
  {
   "cell_type": "markdown",
   "metadata": {
    "deletable": true,
    "editable": true,
    "nbpresent": {
     "id": "fafb1f54-b4ab-4c2e-bc0d-c723f2c6814d"
    }
   },
   "source": [
    "### Carga de los datos. "
   ]
  },
  {
   "cell_type": "code",
   "execution_count": 2,
   "metadata": {
    "collapsed": false,
    "deletable": true,
    "editable": true,
    "nbpresent": {
     "id": "352d9955-18b6-49b7-a343-102b723bf3cd"
    }
   },
   "outputs": [
    {
     "data": {
      "text/html": [
       "<ol class=list-inline>\n",
       "\t<li>699</li>\n",
       "\t<li>11</li>\n",
       "</ol>\n"
      ],
      "text/latex": [
       "\\begin{enumerate*}\n",
       "\\item 699\n",
       "\\item 11\n",
       "\\end{enumerate*}\n"
      ],
      "text/markdown": [
       "1. 699\n",
       "2. 11\n",
       "\n",
       "\n"
      ],
      "text/plain": [
       "[1] 699  11"
      ]
     },
     "metadata": {},
     "output_type": "display_data"
    }
   ],
   "source": [
    "wdbc=read.table(  url(\"https://archive.ics.uci.edu/ml/machine-learning-databases/breast-cancer-wisconsin/breast-cancer-wisconsin.data\"), \n",
    "  sep=\",\", header=FALSE)\n",
    "dim(wdbc)\n"
   ]
  },
  {
   "cell_type": "markdown",
   "metadata": {
    "deletable": true,
    "editable": true
   },
   "source": [
    "### Preparamos los datos para crear el modelo"
   ]
  },
  {
   "cell_type": "code",
   "execution_count": 3,
   "metadata": {
    "collapsed": true,
    "deletable": true,
    "editable": true
   },
   "outputs": [],
   "source": [
    "wdbc$V7=as.numeric(recode(wdbc$V7, \"'?'=NA\"))\n",
    "wdbc=wdbc[complete.cases(wdbc),]\n",
    "dataset <- wdbc[,(2:11)]"
   ]
  },
  {
   "cell_type": "markdown",
   "metadata": {
    "deletable": true,
    "editable": true
   },
   "source": [
    "### Parámetros de creación del modelo"
   ]
  },
  {
   "cell_type": "code",
   "execution_count": 4,
   "metadata": {
    "collapsed": true,
    "deletable": true,
    "editable": true
   },
   "outputs": [],
   "source": [
    "# Paso de kfolds\n",
    "control <- trainControl(method=\"repeatedcv\", number=10, repeats=3, savePredictions = TRUE)\n",
    "# Metrica de calidad % instancias correctas sobre total\n",
    "metric <- \"Accuracy\""
   ]
  },
  {
   "cell_type": "markdown",
   "metadata": {
    "collapsed": true,
    "deletable": true,
    "editable": true
   },
   "source": [
    "### Creamos un primer modelo de árbol."
   ]
  },
  {
   "cell_type": "code",
   "execution_count": 5,
   "metadata": {
    "collapsed": false,
    "deletable": true,
    "editable": true
   },
   "outputs": [],
   "source": [
    "model.cart <- train(as.factor(V11)~., data=dataset, method=\"rpart\", metric=metric, trControl=control)"
   ]
  },
  {
   "cell_type": "markdown",
   "metadata": {
    "deletable": true,
    "editable": true
   },
   "source": [
    "### Matriz de confusión"
   ]
  },
  {
   "cell_type": "code",
   "execution_count": 6,
   "metadata": {
    "collapsed": false,
    "deletable": true,
    "editable": true
   },
   "outputs": [
    {
     "data": {
      "text/plain": [
       "Cross-Validated (10 fold, repeated 3 times) Confusion Matrix \n",
       "\n",
       "(entries are percentual average cell counts across resamples)\n",
       " \n",
       "          Reference\n",
       "Prediction    2    4\n",
       "         2 61.2  2.8\n",
       "         4  3.8 32.2\n",
       "                            \n",
       " Accuracy (average) : 0.9346\n"
      ]
     },
     "metadata": {},
     "output_type": "display_data"
    }
   ],
   "source": [
    "confusionMatrix(model.cart)"
   ]
  },
  {
   "cell_type": "markdown",
   "metadata": {
    "deletable": true,
    "editable": true
   },
   "source": [
    "###  Mostramos todas sus características."
   ]
  },
  {
   "cell_type": "code",
   "execution_count": 7,
   "metadata": {
    "collapsed": false,
    "deletable": true,
    "editable": true,
    "scrolled": false
   },
   "outputs": [
    {
     "name": "stdout",
     "output_type": "stream",
     "text": [
      "CART \n",
      "\n",
      "683 samples\n",
      "  9 predictor\n",
      "  2 classes: '2', '4' \n",
      "\n",
      "No pre-processing\n",
      "Resampling: Cross-Validated (10 fold, repeated 3 times) \n",
      "Summary of sample sizes: 616, 614, 615, 614, 615, 614, ... \n",
      "Resampling results across tuning parameters:\n",
      "\n",
      "  cp          Accuracy   Kappa    \n",
      "  0.02092050  0.9346048  0.8573584\n",
      "  0.05439331  0.9218588  0.8298219\n",
      "  0.79079498  0.8402590  0.5876861\n",
      "\n",
      "Accuracy was used to select the optimal model using  the largest value.\n",
      "The final value used for the model was cp = 0.0209205. \n"
     ]
    },
    {
     "data": {},
     "metadata": {},
     "output_type": "display_data"
    },
    {
     "data": {},
     "metadata": {},
     "output_type": "display_data"
    },
    {
     "data": {
      "image/png": "[encoded data removed]",
      "text/plain": [
       "plot without title"
      ]
     },
     "metadata": {},
     "output_type": "display_data"
    },
    {
     "data": {
      "image/png": "[encoded data removed]",
      "text/plain": [
       "plot without title"
      ]
     },
     "metadata": {},
     "output_type": "display_data"
    }
   ],
   "source": [
    "print(model.cart)\n",
    "plot(model.cart)\n",
    "ctreeVarImp = varImp(model.cart)\n",
    "plot(ctreeVarImp)"
   ]
  },
  {
   "cell_type": "markdown",
   "metadata": {
    "deletable": true,
    "editable": true
   },
   "source": [
    "### Creación de un árbol con el método bagged"
   ]
  },
  {
   "cell_type": "code",
   "execution_count": 8,
   "metadata": {
    "collapsed": false,
    "deletable": true,
    "editable": true
   },
   "outputs": [],
   "source": [
    "model.treebag <- train(as.factor(V11)~., data=dataset, method=\"treebag\",metric=metric, trControl=control)"
   ]
  },
  {
   "cell_type": "markdown",
   "metadata": {
    "deletable": true,
    "editable": true
   },
   "source": [
    "### Matriz de confusión"
   ]
  },
  {
   "cell_type": "code",
   "execution_count": 9,
   "metadata": {
    "collapsed": false,
    "deletable": true,
    "editable": true
   },
   "outputs": [
    {
     "data": {
      "text/plain": [
       "Cross-Validated (10 fold, repeated 3 times) Confusion Matrix \n",
       "\n",
       "(entries are percentual average cell counts across resamples)\n",
       " \n",
       "          Reference\n",
       "Prediction    2    4\n",
       "         2 62.6  1.7\n",
       "         4  2.4 33.3\n",
       "                           \n",
       " Accuracy (average) : 0.959\n"
      ]
     },
     "metadata": {},
     "output_type": "display_data"
    }
   ],
   "source": [
    "confusionMatrix(model.treebag)"
   ]
  },
  {
   "cell_type": "markdown",
   "metadata": {
    "deletable": true,
    "editable": true
   },
   "source": [
    "###  Mostramos todas sus características."
   ]
  },
  {
   "cell_type": "code",
   "execution_count": 10,
   "metadata": {
    "collapsed": false,
    "deletable": true,
    "editable": true
   },
   "outputs": [
    {
     "name": "stdout",
     "output_type": "stream",
     "text": [
      "Bagged CART \n",
      "\n",
      "683 samples\n",
      "  9 predictor\n",
      "  2 classes: '2', '4' \n",
      "\n",
      "No pre-processing\n",
      "Resampling: Cross-Validated (10 fold, repeated 3 times) \n",
      "Summary of sample sizes: 615, 614, 614, 614, 615, 615, ... \n",
      "Resampling results:\n",
      "\n",
      "  Accuracy   Kappa    \n",
      "  0.9590356  0.9105653\n",
      "\n",
      " \n"
     ]
    },
    {
     "data": {},
     "metadata": {},
     "output_type": "display_data"
    },
    {
     "data": {
      "image/png": "[encoded data removed]",
      "text/plain": [
       "plot without title"
      ]
     },
     "metadata": {},
     "output_type": "display_data"
    }
   ],
   "source": [
    "print(model.treebag)\n",
    "ctreeVarImp = varImp(model.treebag)\n",
    "plot(ctreeVarImp)"
   ]
  },
  {
   "cell_type": "markdown",
   "metadata": {
    "deletable": true,
    "editable": true
   },
   "source": [
    "### Sumarizamos y comparamos los datos de ambos modelos"
   ]
  },
  {
   "cell_type": "code",
   "execution_count": 11,
   "metadata": {
    "collapsed": false,
    "deletable": true,
    "editable": true
   },
   "outputs": [
    {
     "data": {
      "text/plain": [
       "\n",
       "Call:\n",
       "summary.resamples(object = bagging_results)\n",
       "\n",
       "Models: treebag, cart \n",
       "Number of resamples: 30 \n",
       "\n",
       "Accuracy \n",
       "          Min. 1st Qu. Median   Mean 3rd Qu.   Max. NA's\n",
       "treebag 0.9118  0.9420 0.9562 0.9590  0.9852 1.0000    0\n",
       "cart    0.8841  0.9118 0.9412 0.9346  0.9564 0.9851    0\n",
       "\n",
       "Kappa \n",
       "          Min. 1st Qu. Median   Mean 3rd Qu.   Max. NA's\n",
       "treebag 0.8068  0.8721 0.9051 0.9106  0.9674 1.0000    0\n",
       "cart    0.7493  0.8104 0.8712 0.8574  0.9030 0.9672    0\n"
      ]
     },
     "metadata": {},
     "output_type": "display_data"
    },
    {
     "data": {},
     "metadata": {},
     "output_type": "display_data"
    },
    {
     "data": {
      "image/png": "[encoded data removed]",
      "text/plain": [
       "plot without title"
      ]
     },
     "metadata": {},
     "output_type": "display_data"
    }
   ],
   "source": [
    "bagging_results <- resamples(list(treebag=model.treebag, cart=model.cart))\n",
    "summary(bagging_results)\n",
    "dotplot(bagging_results)"
   ]
  }
 ],
 "metadata": {
  "anaconda-cloud": {},
  "kernelspec": {
   "display_name": "R",
   "language": "R",
   "name": "ir"
  },
  "language_info": {
   "codemirror_mode": "r",
   "file_extension": ".r",
   "mimetype": "text/x-r-source",
   "name": "R",
   "pygments_lexer": "r",
   "version": "3.3.2"
  }
 },
 "nbformat": 4,
 "nbformat_minor": 1
}
